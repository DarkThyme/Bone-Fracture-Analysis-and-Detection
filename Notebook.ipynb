{
 "cells": [
  {
   "cell_type": "markdown",
   "metadata": {},
   "source": [
    "Bone Fracture Detection using YOLOv8"
   ]
  },
  {
   "cell_type": "code",
   "execution_count": 2,
   "metadata": {},
   "outputs": [],
   "source": [
    "from ultralytics import YOLO  #YOLO library for training and inference\n",
    "import os  #For handling file paths\n",
    "import torch  \n",
    "import json\n",
    "import numpy as np\n",
    "from sklearn.metrics import precision_score, recall_score, f1_score\n",
    "from pycocotools.coco import COCO\n",
    "import matplotlib.pyplot as plt"
   ]
  },
  {
   "cell_type": "code",
   "execution_count": 3,
   "metadata": {},
   "outputs": [
    {
     "name": "stdout",
     "output_type": "stream",
     "text": [
      "CUDA is available. Training will use the GPU.\n"
     ]
    }
   ],
   "source": [
    "#Verify GPU Availability\n",
    "if torch.cuda.is_available():\n",
    "    print(\"CUDA is available. Training will use the GPU.\")\n",
    "else:\n",
    "    print(\"CUDA is not available. Training will use the CPU.\")"
   ]
  },
  {
   "cell_type": "code",
   "execution_count": 4,
   "metadata": {},
   "outputs": [],
   "source": [
    "yaml_path = r\"D:\\Bone\\bone fracture detection.v4-v4.yolov8\\data.yaml\""
   ]
  },
  {
   "cell_type": "markdown",
   "metadata": {},
   "source": [
    "Load a Pre-trained YOLOv8 Model\n",
    "Use YOLOv8n (Nano) as a lightweight model for faster training. Replace with 'yolov8m.pt' or 'yolov8l.pt' for larger models.\n"
   ]
  },
  {
   "cell_type": "code",
   "execution_count": 5,
   "metadata": {},
   "outputs": [
    {
     "name": "stdout",
     "output_type": "stream",
     "text": [
      "Downloading https://github.com/ultralytics/assets/releases/download/v8.3.0/yolov8n.pt to 'yolov8n.pt'...\n"
     ]
    },
    {
     "name": "stderr",
     "output_type": "stream",
     "text": [
      "100%|██████████| 6.25M/6.25M [00:00<00:00, 33.5MB/s]\n"
     ]
    }
   ],
   "source": [
    "model = YOLO('yolov8n.pt') "
   ]
  },
  {
   "cell_type": "code",
   "execution_count": 6,
   "metadata": {},
   "outputs": [
    {
     "name": "stdout",
     "output_type": "stream",
     "text": [
      "Ultralytics 8.3.63  Python-3.12.4 torch-2.2.2+cu121 CUDA:0 (NVIDIA GeForce RTX 3060 Laptop GPU, 6144MiB)\n",
      "\u001b[34m\u001b[1mengine\\trainer: \u001b[0mtask=detect, mode=train, model=yolov8n.pt, data=D:\\Bone\\bone fracture detection.v4-v4.yolov8\\data.yaml, epochs=50, time=None, patience=100, batch=16, imgsz=640, save=True, save_period=-1, cache=False, device=0, workers=8, project=bone_detection, name=bone_yolov8, exist_ok=False, pretrained=True, optimizer=auto, verbose=True, seed=0, deterministic=True, single_cls=False, rect=False, cos_lr=False, close_mosaic=10, resume=False, amp=True, fraction=1.0, profile=False, freeze=None, multi_scale=False, overlap_mask=True, mask_ratio=4, dropout=0.0, val=True, split=val, save_json=False, save_hybrid=False, conf=None, iou=0.7, max_det=300, half=False, dnn=False, plots=True, source=None, vid_stride=1, stream_buffer=False, visualize=False, augment=False, agnostic_nms=False, classes=None, retina_masks=False, embed=None, show=False, save_frames=False, save_txt=False, save_conf=False, save_crop=False, show_labels=True, show_conf=True, show_boxes=True, line_width=None, format=torchscript, keras=False, optimize=False, int8=False, dynamic=False, simplify=True, opset=None, workspace=None, nms=False, lr0=0.01, lrf=0.01, momentum=0.937, weight_decay=0.0005, warmup_epochs=3.0, warmup_momentum=0.8, warmup_bias_lr=0.1, box=7.5, cls=0.5, dfl=1.5, pose=12.0, kobj=1.0, nbs=64, hsv_h=0.015, hsv_s=0.7, hsv_v=0.4, degrees=0.0, translate=0.1, scale=0.5, shear=0.0, perspective=0.0, flipud=0.0, fliplr=0.5, bgr=0.0, mosaic=1.0, mixup=0.0, copy_paste=0.0, copy_paste_mode=flip, auto_augment=randaugment, erasing=0.4, crop_fraction=1.0, cfg=None, tracker=botsort.yaml, save_dir=bone_detection\\bone_yolov8\n",
      "Overriding model.yaml nc=80 with nc=7\n",
      "\n",
      "                   from  n    params  module                                       arguments                     \n",
      "  0                  -1  1       464  ultralytics.nn.modules.conv.Conv             [3, 16, 3, 2]                 \n",
      "  1                  -1  1      4672  ultralytics.nn.modules.conv.Conv             [16, 32, 3, 2]                \n",
      "  2                  -1  1      7360  ultralytics.nn.modules.block.C2f             [32, 32, 1, True]             \n",
      "  3                  -1  1     18560  ultralytics.nn.modules.conv.Conv             [32, 64, 3, 2]                \n",
      "  4                  -1  2     49664  ultralytics.nn.modules.block.C2f             [64, 64, 2, True]             \n",
      "  5                  -1  1     73984  ultralytics.nn.modules.conv.Conv             [64, 128, 3, 2]               \n",
      "  6                  -1  2    197632  ultralytics.nn.modules.block.C2f             [128, 128, 2, True]           \n",
      "  7                  -1  1    295424  ultralytics.nn.modules.conv.Conv             [128, 256, 3, 2]              \n",
      "  8                  -1  1    460288  ultralytics.nn.modules.block.C2f             [256, 256, 1, True]           \n",
      "  9                  -1  1    164608  ultralytics.nn.modules.block.SPPF            [256, 256, 5]                 \n",
      " 10                  -1  1         0  torch.nn.modules.upsampling.Upsample         [None, 2, 'nearest']          \n",
      " 11             [-1, 6]  1         0  ultralytics.nn.modules.conv.Concat           [1]                           \n",
      " 12                  -1  1    148224  ultralytics.nn.modules.block.C2f             [384, 128, 1]                 \n",
      " 13                  -1  1         0  torch.nn.modules.upsampling.Upsample         [None, 2, 'nearest']          \n",
      " 14             [-1, 4]  1         0  ultralytics.nn.modules.conv.Concat           [1]                           \n",
      " 15                  -1  1     37248  ultralytics.nn.modules.block.C2f             [192, 64, 1]                  \n",
      " 16                  -1  1     36992  ultralytics.nn.modules.conv.Conv             [64, 64, 3, 2]                \n",
      " 17            [-1, 12]  1         0  ultralytics.nn.modules.conv.Concat           [1]                           \n",
      " 18                  -1  1    123648  ultralytics.nn.modules.block.C2f             [192, 128, 1]                 \n",
      " 19                  -1  1    147712  ultralytics.nn.modules.conv.Conv             [128, 128, 3, 2]              \n",
      " 20             [-1, 9]  1         0  ultralytics.nn.modules.conv.Concat           [1]                           \n",
      " 21                  -1  1    493056  ultralytics.nn.modules.block.C2f             [384, 256, 1]                 \n",
      " 22        [15, 18, 21]  1    752677  ultralytics.nn.modules.head.Detect           [7, [64, 128, 256]]           \n",
      "Model summary: 225 layers, 3,012,213 parameters, 3,012,197 gradients, 8.2 GFLOPs\n",
      "\n",
      "Transferred 319/355 items from pretrained weights\n",
      "Freezing layer 'model.22.dfl.conv.weight'\n",
      "\u001b[34m\u001b[1mAMP: \u001b[0mrunning Automatic Mixed Precision (AMP) checks...\n",
      "Downloading https://github.com/ultralytics/assets/releases/download/v8.3.0/yolo11n.pt to 'yolo11n.pt'...\n"
     ]
    },
    {
     "name": "stderr",
     "output_type": "stream",
     "text": [
      "100%|██████████| 5.35M/5.35M [00:00<00:00, 30.5MB/s]\n"
     ]
    },
    {
     "name": "stdout",
     "output_type": "stream",
     "text": [
      "\u001b[34m\u001b[1mAMP: \u001b[0mchecks passed \n"
     ]
    },
    {
     "name": "stderr",
     "output_type": "stream",
     "text": [
      "\u001b[34m\u001b[1mtrain: \u001b[0mScanning D:\\Bone\\bone fracture detection.v4-v4.yolov8\\train\\labels.cache... 3631 images, 1827 backgrounds, 0 corrupt: 100%|██████████| 3631/3631 [00:00<?, ?it/s]\n",
      "\u001b[34m\u001b[1mval: \u001b[0mScanning D:\\Bone\\bone fracture detection.v4-v4.yolov8\\valid\\labels.cache... 348 images, 175 backgrounds, 0 corrupt: 100%|██████████| 348/348 [00:00<?, ?it/s]\n"
     ]
    },
    {
     "name": "stdout",
     "output_type": "stream",
     "text": [
      "Plotting labels to bone_detection\\bone_yolov8\\labels.jpg... \n",
      "\u001b[34m\u001b[1moptimizer:\u001b[0m 'optimizer=auto' found, ignoring 'lr0=0.01' and 'momentum=0.937' and determining best 'optimizer', 'lr0' and 'momentum' automatically... \n",
      "\u001b[34m\u001b[1moptimizer:\u001b[0m AdamW(lr=0.000909, momentum=0.9) with parameter groups 57 weight(decay=0.0), 64 weight(decay=0.0005), 63 bias(decay=0.0)\n",
      "Image sizes 640 train, 640 val\n",
      "Using 8 dataloader workers\n",
      "Logging results to \u001b[1mbone_detection\\bone_yolov8\u001b[0m\n",
      "Starting training for 50 epochs...\n",
      "\n",
      "      Epoch    GPU_mem   box_loss   cls_loss   dfl_loss  Instances       Size\n"
     ]
    },
    {
     "name": "stderr",
     "output_type": "stream",
     "text": [
      "       1/50      2.19G      2.749      6.671      2.261         25        640: 100%|██████████| 227/227 [00:29<00:00,  7.58it/s]\n",
      "                 Class     Images  Instances      Box(P          R      mAP50  mAP50-95): 100%|██████████| 11/11 [00:01<00:00,  5.82it/s]"
     ]
    },
    {
     "name": "stdout",
     "output_type": "stream",
     "text": [
      "                   all        348        204    0.00415      0.352     0.0052    0.00152\n"
     ]
    },
    {
     "name": "stderr",
     "output_type": "stream",
     "text": [
      "\n"
     ]
    },
    {
     "name": "stdout",
     "output_type": "stream",
     "text": [
      "\n",
      "      Epoch    GPU_mem   box_loss   cls_loss   dfl_loss  Instances       Size\n"
     ]
    },
    {
     "name": "stderr",
     "output_type": "stream",
     "text": [
      "       2/50       2.1G      2.479      4.946      2.037         18        640: 100%|██████████| 227/227 [00:27<00:00,  8.16it/s]\n",
      "                 Class     Images  Instances      Box(P          R      mAP50  mAP50-95): 100%|██████████| 11/11 [00:01<00:00,  7.88it/s]"
     ]
    },
    {
     "name": "stdout",
     "output_type": "stream",
     "text": [
      "                   all        348        204        0.4     0.0946      0.037     0.0118\n"
     ]
    },
    {
     "name": "stderr",
     "output_type": "stream",
     "text": [
      "\n"
     ]
    },
    {
     "name": "stdout",
     "output_type": "stream",
     "text": [
      "\n",
      "      Epoch    GPU_mem   box_loss   cls_loss   dfl_loss  Instances       Size\n"
     ]
    },
    {
     "name": "stderr",
     "output_type": "stream",
     "text": [
      "       3/50      2.09G      2.406      4.007      2.012         26        640: 100%|██████████| 227/227 [00:27<00:00,  8.17it/s]\n",
      "                 Class     Images  Instances      Box(P          R      mAP50  mAP50-95): 100%|██████████| 11/11 [00:01<00:00,  8.02it/s]"
     ]
    },
    {
     "name": "stdout",
     "output_type": "stream",
     "text": [
      "                   all        348        204     0.0676      0.063     0.0454     0.0141\n"
     ]
    },
    {
     "name": "stderr",
     "output_type": "stream",
     "text": [
      "\n"
     ]
    },
    {
     "name": "stdout",
     "output_type": "stream",
     "text": [
      "\n",
      "      Epoch    GPU_mem   box_loss   cls_loss   dfl_loss  Instances       Size\n"
     ]
    },
    {
     "name": "stderr",
     "output_type": "stream",
     "text": [
      "       4/50       2.1G       2.37      3.666      1.999         17        640: 100%|██████████| 227/227 [00:28<00:00,  8.06it/s]\n",
      "                 Class     Images  Instances      Box(P          R      mAP50  mAP50-95): 100%|██████████| 11/11 [00:01<00:00,  7.98it/s]"
     ]
    },
    {
     "name": "stdout",
     "output_type": "stream",
     "text": [
      "                   all        348        204      0.284      0.146        0.1     0.0306\n"
     ]
    },
    {
     "name": "stderr",
     "output_type": "stream",
     "text": [
      "\n"
     ]
    },
    {
     "name": "stdout",
     "output_type": "stream",
     "text": [
      "\n",
      "      Epoch    GPU_mem   box_loss   cls_loss   dfl_loss  Instances       Size\n"
     ]
    },
    {
     "name": "stderr",
     "output_type": "stream",
     "text": [
      "       5/50       2.1G      2.302      3.355      1.948         18        640: 100%|██████████| 227/227 [00:28<00:00,  7.88it/s]\n",
      "                 Class     Images  Instances      Box(P          R      mAP50  mAP50-95): 100%|██████████| 11/11 [00:01<00:00,  7.70it/s]"
     ]
    },
    {
     "name": "stdout",
     "output_type": "stream",
     "text": [
      "                   all        348        204      0.163      0.135      0.108     0.0314\n"
     ]
    },
    {
     "name": "stderr",
     "output_type": "stream",
     "text": [
      "\n"
     ]
    },
    {
     "name": "stdout",
     "output_type": "stream",
     "text": [
      "\n",
      "      Epoch    GPU_mem   box_loss   cls_loss   dfl_loss  Instances       Size\n"
     ]
    },
    {
     "name": "stderr",
     "output_type": "stream",
     "text": [
      "       6/50       2.1G      2.239      3.141      1.926         12        640: 100%|██████████| 227/227 [00:29<00:00,  7.77it/s]\n",
      "                 Class     Images  Instances      Box(P          R      mAP50  mAP50-95): 100%|██████████| 11/11 [00:01<00:00,  7.83it/s]"
     ]
    },
    {
     "name": "stdout",
     "output_type": "stream",
     "text": [
      "                   all        348        204      0.183      0.163      0.155     0.0561\n"
     ]
    },
    {
     "name": "stderr",
     "output_type": "stream",
     "text": [
      "\n"
     ]
    },
    {
     "name": "stdout",
     "output_type": "stream",
     "text": [
      "\n",
      "      Epoch    GPU_mem   box_loss   cls_loss   dfl_loss  Instances       Size\n"
     ]
    },
    {
     "name": "stderr",
     "output_type": "stream",
     "text": [
      "       7/50       2.1G      2.178      2.975      1.899         13        640: 100%|██████████| 227/227 [00:29<00:00,  7.68it/s]\n",
      "                 Class     Images  Instances      Box(P          R      mAP50  mAP50-95): 100%|██████████| 11/11 [00:01<00:00,  7.97it/s]"
     ]
    },
    {
     "name": "stdout",
     "output_type": "stream",
     "text": [
      "                   all        348        204      0.233      0.178      0.157     0.0497\n"
     ]
    },
    {
     "name": "stderr",
     "output_type": "stream",
     "text": [
      "\n"
     ]
    },
    {
     "name": "stdout",
     "output_type": "stream",
     "text": [
      "\n",
      "      Epoch    GPU_mem   box_loss   cls_loss   dfl_loss  Instances       Size\n"
     ]
    },
    {
     "name": "stderr",
     "output_type": "stream",
     "text": [
      "       8/50       2.1G       2.15       2.86      1.889         24        640: 100%|██████████| 227/227 [00:29<00:00,  7.60it/s]\n",
      "                 Class     Images  Instances      Box(P          R      mAP50  mAP50-95): 100%|██████████| 11/11 [00:01<00:00,  7.76it/s]"
     ]
    },
    {
     "name": "stdout",
     "output_type": "stream",
     "text": [
      "                   all        348        204      0.202      0.215       0.16     0.0605\n"
     ]
    },
    {
     "name": "stderr",
     "output_type": "stream",
     "text": [
      "\n"
     ]
    },
    {
     "name": "stdout",
     "output_type": "stream",
     "text": [
      "\n",
      "      Epoch    GPU_mem   box_loss   cls_loss   dfl_loss  Instances       Size\n"
     ]
    },
    {
     "name": "stderr",
     "output_type": "stream",
     "text": [
      "       9/50       2.1G      2.122      2.791      1.857         22        640: 100%|██████████| 227/227 [00:29<00:00,  7.57it/s]\n",
      "                 Class     Images  Instances      Box(P          R      mAP50  mAP50-95): 100%|██████████| 11/11 [00:01<00:00,  7.59it/s]"
     ]
    },
    {
     "name": "stdout",
     "output_type": "stream",
     "text": [
      "                   all        348        204      0.216      0.207      0.184     0.0638\n"
     ]
    },
    {
     "name": "stderr",
     "output_type": "stream",
     "text": [
      "\n"
     ]
    },
    {
     "name": "stdout",
     "output_type": "stream",
     "text": [
      "\n",
      "      Epoch    GPU_mem   box_loss   cls_loss   dfl_loss  Instances       Size\n"
     ]
    },
    {
     "name": "stderr",
     "output_type": "stream",
     "text": [
      "      10/50       2.1G      2.075      2.709      1.824         13        640: 100%|██████████| 227/227 [00:30<00:00,  7.46it/s]\n",
      "                 Class     Images  Instances      Box(P          R      mAP50  mAP50-95): 100%|██████████| 11/11 [00:01<00:00,  7.78it/s]"
     ]
    },
    {
     "name": "stdout",
     "output_type": "stream",
     "text": [
      "                   all        348        204      0.294      0.207      0.174     0.0671\n"
     ]
    },
    {
     "name": "stderr",
     "output_type": "stream",
     "text": [
      "\n"
     ]
    },
    {
     "name": "stdout",
     "output_type": "stream",
     "text": [
      "\n",
      "      Epoch    GPU_mem   box_loss   cls_loss   dfl_loss  Instances       Size\n"
     ]
    },
    {
     "name": "stderr",
     "output_type": "stream",
     "text": [
      "      11/50      2.09G      2.055       2.63      1.815         21        640: 100%|██████████| 227/227 [00:30<00:00,  7.44it/s]\n",
      "                 Class     Images  Instances      Box(P          R      mAP50  mAP50-95): 100%|██████████| 11/11 [00:01<00:00,  7.95it/s]"
     ]
    },
    {
     "name": "stdout",
     "output_type": "stream",
     "text": [
      "                   all        348        204      0.559      0.195      0.218     0.0816\n"
     ]
    },
    {
     "name": "stderr",
     "output_type": "stream",
     "text": [
      "\n"
     ]
    },
    {
     "name": "stdout",
     "output_type": "stream",
     "text": [
      "\n",
      "      Epoch    GPU_mem   box_loss   cls_loss   dfl_loss  Instances       Size\n"
     ]
    },
    {
     "name": "stderr",
     "output_type": "stream",
     "text": [
      "      12/50      2.09G      2.019      2.524      1.787         24        640: 100%|██████████| 227/227 [00:30<00:00,  7.45it/s]\n",
      "                 Class     Images  Instances      Box(P          R      mAP50  mAP50-95): 100%|██████████| 11/11 [00:01<00:00,  8.05it/s]"
     ]
    },
    {
     "name": "stdout",
     "output_type": "stream",
     "text": [
      "                   all        348        204      0.312      0.193      0.178     0.0637\n"
     ]
    },
    {
     "name": "stderr",
     "output_type": "stream",
     "text": [
      "\n"
     ]
    },
    {
     "name": "stdout",
     "output_type": "stream",
     "text": [
      "\n",
      "      Epoch    GPU_mem   box_loss   cls_loss   dfl_loss  Instances       Size\n"
     ]
    },
    {
     "name": "stderr",
     "output_type": "stream",
     "text": [
      "      13/50      2.09G      1.986      2.469      1.742         25        640: 100%|██████████| 227/227 [00:30<00:00,  7.40it/s]\n",
      "                 Class     Images  Instances      Box(P          R      mAP50  mAP50-95): 100%|██████████| 11/11 [00:01<00:00,  7.80it/s]"
     ]
    },
    {
     "name": "stdout",
     "output_type": "stream",
     "text": [
      "                   all        348        204      0.294      0.278      0.212     0.0757\n"
     ]
    },
    {
     "name": "stderr",
     "output_type": "stream",
     "text": [
      "\n"
     ]
    },
    {
     "name": "stdout",
     "output_type": "stream",
     "text": [
      "\n",
      "      Epoch    GPU_mem   box_loss   cls_loss   dfl_loss  Instances       Size\n"
     ]
    },
    {
     "name": "stderr",
     "output_type": "stream",
     "text": [
      "      14/50       2.1G      1.976      2.362      1.743         23        640: 100%|██████████| 227/227 [00:30<00:00,  7.44it/s]\n",
      "                 Class     Images  Instances      Box(P          R      mAP50  mAP50-95): 100%|██████████| 11/11 [00:01<00:00,  7.75it/s]"
     ]
    },
    {
     "name": "stdout",
     "output_type": "stream",
     "text": [
      "                   all        348        204      0.249      0.273      0.191     0.0744\n"
     ]
    },
    {
     "name": "stderr",
     "output_type": "stream",
     "text": [
      "\n"
     ]
    },
    {
     "name": "stdout",
     "output_type": "stream",
     "text": [
      "\n",
      "      Epoch    GPU_mem   box_loss   cls_loss   dfl_loss  Instances       Size\n"
     ]
    },
    {
     "name": "stderr",
     "output_type": "stream",
     "text": [
      "      15/50      2.09G      1.936      2.311      1.709         15        640: 100%|██████████| 227/227 [00:30<00:00,  7.42it/s]\n",
      "                 Class     Images  Instances      Box(P          R      mAP50  mAP50-95): 100%|██████████| 11/11 [00:01<00:00,  7.54it/s]"
     ]
    },
    {
     "name": "stdout",
     "output_type": "stream",
     "text": [
      "                   all        348        204      0.288      0.216      0.198     0.0682\n"
     ]
    },
    {
     "name": "stderr",
     "output_type": "stream",
     "text": [
      "\n"
     ]
    },
    {
     "name": "stdout",
     "output_type": "stream",
     "text": [
      "\n",
      "      Epoch    GPU_mem   box_loss   cls_loss   dfl_loss  Instances       Size\n"
     ]
    },
    {
     "name": "stderr",
     "output_type": "stream",
     "text": [
      "      16/50       2.1G      1.912      2.269      1.713         25        640: 100%|██████████| 227/227 [00:30<00:00,  7.38it/s]\n",
      "                 Class     Images  Instances      Box(P          R      mAP50  mAP50-95): 100%|██████████| 11/11 [00:01<00:00,  7.80it/s]"
     ]
    },
    {
     "name": "stdout",
     "output_type": "stream",
     "text": [
      "                   all        348        204      0.258      0.273      0.224     0.0814\n"
     ]
    },
    {
     "name": "stderr",
     "output_type": "stream",
     "text": [
      "\n"
     ]
    },
    {
     "name": "stdout",
     "output_type": "stream",
     "text": [
      "\n",
      "      Epoch    GPU_mem   box_loss   cls_loss   dfl_loss  Instances       Size\n"
     ]
    },
    {
     "name": "stderr",
     "output_type": "stream",
     "text": [
      "      17/50      2.09G        1.9      2.201      1.699         15        640: 100%|██████████| 227/227 [00:30<00:00,  7.45it/s]\n",
      "                 Class     Images  Instances      Box(P          R      mAP50  mAP50-95): 100%|██████████| 11/11 [00:01<00:00,  7.85it/s]"
     ]
    },
    {
     "name": "stdout",
     "output_type": "stream",
     "text": [
      "                   all        348        204       0.31      0.238      0.229     0.0826\n"
     ]
    },
    {
     "name": "stderr",
     "output_type": "stream",
     "text": [
      "\n"
     ]
    },
    {
     "name": "stdout",
     "output_type": "stream",
     "text": [
      "\n",
      "      Epoch    GPU_mem   box_loss   cls_loss   dfl_loss  Instances       Size\n"
     ]
    },
    {
     "name": "stderr",
     "output_type": "stream",
     "text": [
      "      18/50       2.1G      1.866      2.109      1.657         11        640: 100%|██████████| 227/227 [00:30<00:00,  7.39it/s]\n",
      "                 Class     Images  Instances      Box(P          R      mAP50  mAP50-95): 100%|██████████| 11/11 [00:01<00:00,  7.80it/s]"
     ]
    },
    {
     "name": "stdout",
     "output_type": "stream",
     "text": [
      "                   all        348        204      0.249      0.302      0.225     0.0917\n"
     ]
    },
    {
     "name": "stderr",
     "output_type": "stream",
     "text": [
      "\n"
     ]
    },
    {
     "name": "stdout",
     "output_type": "stream",
     "text": [
      "\n",
      "      Epoch    GPU_mem   box_loss   cls_loss   dfl_loss  Instances       Size\n"
     ]
    },
    {
     "name": "stderr",
     "output_type": "stream",
     "text": [
      "      19/50      2.09G      1.839      2.088      1.654         17        640: 100%|██████████| 227/227 [00:30<00:00,  7.33it/s]\n",
      "                 Class     Images  Instances      Box(P          R      mAP50  mAP50-95): 100%|██████████| 11/11 [00:01<00:00,  7.45it/s]"
     ]
    },
    {
     "name": "stdout",
     "output_type": "stream",
     "text": [
      "                   all        348        204      0.426      0.266      0.262     0.0891\n"
     ]
    },
    {
     "name": "stderr",
     "output_type": "stream",
     "text": [
      "\n"
     ]
    },
    {
     "name": "stdout",
     "output_type": "stream",
     "text": [
      "\n",
      "      Epoch    GPU_mem   box_loss   cls_loss   dfl_loss  Instances       Size\n"
     ]
    },
    {
     "name": "stderr",
     "output_type": "stream",
     "text": [
      "      20/50      2.09G      1.805      1.987      1.627         17        640: 100%|██████████| 227/227 [00:30<00:00,  7.35it/s]\n",
      "                 Class     Images  Instances      Box(P          R      mAP50  mAP50-95): 100%|██████████| 11/11 [00:01<00:00,  7.72it/s]"
     ]
    },
    {
     "name": "stdout",
     "output_type": "stream",
     "text": [
      "                   all        348        204      0.303      0.223       0.24     0.0936\n"
     ]
    },
    {
     "name": "stderr",
     "output_type": "stream",
     "text": [
      "\n"
     ]
    },
    {
     "name": "stdout",
     "output_type": "stream",
     "text": [
      "\n",
      "      Epoch    GPU_mem   box_loss   cls_loss   dfl_loss  Instances       Size\n"
     ]
    },
    {
     "name": "stderr",
     "output_type": "stream",
     "text": [
      "      21/50      2.09G      1.778       1.92      1.608         12        640: 100%|██████████| 227/227 [00:31<00:00,  7.26it/s]\n",
      "                 Class     Images  Instances      Box(P          R      mAP50  mAP50-95): 100%|██████████| 11/11 [00:01<00:00,  7.82it/s]"
     ]
    },
    {
     "name": "stdout",
     "output_type": "stream",
     "text": [
      "                   all        348        204      0.321      0.223      0.228     0.0898\n"
     ]
    },
    {
     "name": "stderr",
     "output_type": "stream",
     "text": [
      "\n"
     ]
    },
    {
     "name": "stdout",
     "output_type": "stream",
     "text": [
      "\n",
      "      Epoch    GPU_mem   box_loss   cls_loss   dfl_loss  Instances       Size\n"
     ]
    },
    {
     "name": "stderr",
     "output_type": "stream",
     "text": [
      "      22/50       2.1G      1.756      1.867      1.589         19        640: 100%|██████████| 227/227 [00:30<00:00,  7.36it/s]\n",
      "                 Class     Images  Instances      Box(P          R      mAP50  mAP50-95): 100%|██████████| 11/11 [00:01<00:00,  7.73it/s]"
     ]
    },
    {
     "name": "stdout",
     "output_type": "stream",
     "text": [
      "                   all        348        204      0.283      0.238      0.222     0.0808\n"
     ]
    },
    {
     "name": "stderr",
     "output_type": "stream",
     "text": [
      "\n"
     ]
    },
    {
     "name": "stdout",
     "output_type": "stream",
     "text": [
      "\n",
      "      Epoch    GPU_mem   box_loss   cls_loss   dfl_loss  Instances       Size\n"
     ]
    },
    {
     "name": "stderr",
     "output_type": "stream",
     "text": [
      "      23/50      2.09G      1.745      1.861      1.575         12        640: 100%|██████████| 227/227 [00:31<00:00,  7.29it/s]\n",
      "                 Class     Images  Instances      Box(P          R      mAP50  mAP50-95): 100%|██████████| 11/11 [00:01<00:00,  7.78it/s]"
     ]
    },
    {
     "name": "stdout",
     "output_type": "stream",
     "text": [
      "                   all        348        204       0.28      0.258      0.241     0.0864\n"
     ]
    },
    {
     "name": "stderr",
     "output_type": "stream",
     "text": [
      "\n"
     ]
    },
    {
     "name": "stdout",
     "output_type": "stream",
     "text": [
      "\n",
      "      Epoch    GPU_mem   box_loss   cls_loss   dfl_loss  Instances       Size\n"
     ]
    },
    {
     "name": "stderr",
     "output_type": "stream",
     "text": [
      "      24/50      2.09G      1.734      1.775      1.558         21        640: 100%|██████████| 227/227 [00:31<00:00,  7.24it/s]\n",
      "                 Class     Images  Instances      Box(P          R      mAP50  mAP50-95): 100%|██████████| 11/11 [00:01<00:00,  7.46it/s]"
     ]
    },
    {
     "name": "stdout",
     "output_type": "stream",
     "text": [
      "                   all        348        204      0.261      0.285      0.245     0.0921\n"
     ]
    },
    {
     "name": "stderr",
     "output_type": "stream",
     "text": [
      "\n"
     ]
    },
    {
     "name": "stdout",
     "output_type": "stream",
     "text": [
      "\n",
      "      Epoch    GPU_mem   box_loss   cls_loss   dfl_loss  Instances       Size\n"
     ]
    },
    {
     "name": "stderr",
     "output_type": "stream",
     "text": [
      "      25/50      2.09G      1.696      1.741      1.549         18        640: 100%|██████████| 227/227 [00:31<00:00,  7.24it/s]\n",
      "                 Class     Images  Instances      Box(P          R      mAP50  mAP50-95): 100%|██████████| 11/11 [00:01<00:00,  7.77it/s]"
     ]
    },
    {
     "name": "stdout",
     "output_type": "stream",
     "text": [
      "                   all        348        204      0.283      0.281      0.246     0.0901\n"
     ]
    },
    {
     "name": "stderr",
     "output_type": "stream",
     "text": [
      "\n"
     ]
    },
    {
     "name": "stdout",
     "output_type": "stream",
     "text": [
      "\n",
      "      Epoch    GPU_mem   box_loss   cls_loss   dfl_loss  Instances       Size\n"
     ]
    },
    {
     "name": "stderr",
     "output_type": "stream",
     "text": [
      "      26/50       2.1G      1.656      1.692      1.514         21        640: 100%|██████████| 227/227 [00:31<00:00,  7.26it/s]\n",
      "                 Class     Images  Instances      Box(P          R      mAP50  mAP50-95): 100%|██████████| 11/11 [00:01<00:00,  7.66it/s]"
     ]
    },
    {
     "name": "stdout",
     "output_type": "stream",
     "text": [
      "                   all        348        204      0.354      0.273      0.264     0.0948\n"
     ]
    },
    {
     "name": "stderr",
     "output_type": "stream",
     "text": [
      "\n"
     ]
    },
    {
     "name": "stdout",
     "output_type": "stream",
     "text": [
      "\n",
      "      Epoch    GPU_mem   box_loss   cls_loss   dfl_loss  Instances       Size\n"
     ]
    },
    {
     "name": "stderr",
     "output_type": "stream",
     "text": [
      "      27/50      2.09G      1.632      1.638      1.478         16        640: 100%|██████████| 227/227 [00:31<00:00,  7.31it/s]\n",
      "                 Class     Images  Instances      Box(P          R      mAP50  mAP50-95): 100%|██████████| 11/11 [00:01<00:00,  7.59it/s]"
     ]
    },
    {
     "name": "stdout",
     "output_type": "stream",
     "text": [
      "                   all        348        204      0.281      0.299      0.228     0.0818\n"
     ]
    },
    {
     "name": "stderr",
     "output_type": "stream",
     "text": [
      "\n"
     ]
    },
    {
     "name": "stdout",
     "output_type": "stream",
     "text": [
      "\n",
      "      Epoch    GPU_mem   box_loss   cls_loss   dfl_loss  Instances       Size\n"
     ]
    },
    {
     "name": "stderr",
     "output_type": "stream",
     "text": [
      "      28/50      2.09G      1.612      1.561      1.475         14        640: 100%|██████████| 227/227 [00:31<00:00,  7.24it/s]\n",
      "                 Class     Images  Instances      Box(P          R      mAP50  mAP50-95): 100%|██████████| 11/11 [00:01<00:00,  7.71it/s]"
     ]
    },
    {
     "name": "stdout",
     "output_type": "stream",
     "text": [
      "                   all        348        204      0.331      0.226      0.219     0.0799\n"
     ]
    },
    {
     "name": "stderr",
     "output_type": "stream",
     "text": [
      "\n"
     ]
    },
    {
     "name": "stdout",
     "output_type": "stream",
     "text": [
      "\n",
      "      Epoch    GPU_mem   box_loss   cls_loss   dfl_loss  Instances       Size\n"
     ]
    },
    {
     "name": "stderr",
     "output_type": "stream",
     "text": [
      "      29/50       2.1G      1.594       1.53      1.477         10        640: 100%|██████████| 227/227 [00:31<00:00,  7.15it/s]\n",
      "                 Class     Images  Instances      Box(P          R      mAP50  mAP50-95): 100%|██████████| 11/11 [00:01<00:00,  7.64it/s]"
     ]
    },
    {
     "name": "stdout",
     "output_type": "stream",
     "text": [
      "                   all        348        204      0.326      0.275      0.255     0.0895\n"
     ]
    },
    {
     "name": "stderr",
     "output_type": "stream",
     "text": [
      "\n"
     ]
    },
    {
     "name": "stdout",
     "output_type": "stream",
     "text": [
      "\n",
      "      Epoch    GPU_mem   box_loss   cls_loss   dfl_loss  Instances       Size\n"
     ]
    },
    {
     "name": "stderr",
     "output_type": "stream",
     "text": [
      "      30/50       2.1G      1.569      1.497      1.465         10        640: 100%|██████████| 227/227 [00:31<00:00,  7.27it/s]\n",
      "                 Class     Images  Instances      Box(P          R      mAP50  mAP50-95): 100%|██████████| 11/11 [00:01<00:00,  7.93it/s]"
     ]
    },
    {
     "name": "stdout",
     "output_type": "stream",
     "text": [
      "                   all        348        204      0.392      0.279      0.236     0.0892\n"
     ]
    },
    {
     "name": "stderr",
     "output_type": "stream",
     "text": [
      "\n"
     ]
    },
    {
     "name": "stdout",
     "output_type": "stream",
     "text": [
      "\n",
      "      Epoch    GPU_mem   box_loss   cls_loss   dfl_loss  Instances       Size\n"
     ]
    },
    {
     "name": "stderr",
     "output_type": "stream",
     "text": [
      "      31/50      2.09G      1.551      1.441      1.439         17        640: 100%|██████████| 227/227 [00:31<00:00,  7.19it/s]\n",
      "                 Class     Images  Instances      Box(P          R      mAP50  mAP50-95): 100%|██████████| 11/11 [00:01<00:00,  7.65it/s]"
     ]
    },
    {
     "name": "stdout",
     "output_type": "stream",
     "text": [
      "                   all        348        204      0.358      0.252      0.233     0.0893\n"
     ]
    },
    {
     "name": "stderr",
     "output_type": "stream",
     "text": [
      "\n"
     ]
    },
    {
     "name": "stdout",
     "output_type": "stream",
     "text": [
      "\n",
      "      Epoch    GPU_mem   box_loss   cls_loss   dfl_loss  Instances       Size\n"
     ]
    },
    {
     "name": "stderr",
     "output_type": "stream",
     "text": [
      "      32/50      2.09G      1.538      1.411      1.419         19        640: 100%|██████████| 227/227 [00:32<00:00,  7.07it/s]\n",
      "                 Class     Images  Instances      Box(P          R      mAP50  mAP50-95): 100%|██████████| 11/11 [00:01<00:00,  7.45it/s]"
     ]
    },
    {
     "name": "stdout",
     "output_type": "stream",
     "text": [
      "                   all        348        204      0.344      0.251       0.25     0.0848\n"
     ]
    },
    {
     "name": "stderr",
     "output_type": "stream",
     "text": [
      "\n"
     ]
    },
    {
     "name": "stdout",
     "output_type": "stream",
     "text": [
      "\n",
      "      Epoch    GPU_mem   box_loss   cls_loss   dfl_loss  Instances       Size\n"
     ]
    },
    {
     "name": "stderr",
     "output_type": "stream",
     "text": [
      "      33/50      2.09G      1.521      1.386      1.416         15        640: 100%|██████████| 227/227 [00:32<00:00,  7.08it/s]\n",
      "                 Class     Images  Instances      Box(P          R      mAP50  mAP50-95): 100%|██████████| 11/11 [00:01<00:00,  7.56it/s]"
     ]
    },
    {
     "name": "stdout",
     "output_type": "stream",
     "text": [
      "                   all        348        204       0.29      0.308      0.242     0.0801\n"
     ]
    },
    {
     "name": "stderr",
     "output_type": "stream",
     "text": [
      "\n"
     ]
    },
    {
     "name": "stdout",
     "output_type": "stream",
     "text": [
      "\n",
      "      Epoch    GPU_mem   box_loss   cls_loss   dfl_loss  Instances       Size\n"
     ]
    },
    {
     "name": "stderr",
     "output_type": "stream",
     "text": [
      "      34/50       2.1G      1.498      1.346      1.395         15        640: 100%|██████████| 227/227 [00:32<00:00,  7.08it/s]\n",
      "                 Class     Images  Instances      Box(P          R      mAP50  mAP50-95): 100%|██████████| 11/11 [00:01<00:00,  7.91it/s]"
     ]
    },
    {
     "name": "stdout",
     "output_type": "stream",
     "text": [
      "                   all        348        204      0.293      0.267      0.235     0.0845\n"
     ]
    },
    {
     "name": "stderr",
     "output_type": "stream",
     "text": [
      "\n"
     ]
    },
    {
     "name": "stdout",
     "output_type": "stream",
     "text": [
      "\n",
      "      Epoch    GPU_mem   box_loss   cls_loss   dfl_loss  Instances       Size\n"
     ]
    },
    {
     "name": "stderr",
     "output_type": "stream",
     "text": [
      "      35/50      2.09G      1.467      1.301      1.377         15        640: 100%|██████████| 227/227 [00:32<00:00,  7.06it/s]\n",
      "                 Class     Images  Instances      Box(P          R      mAP50  mAP50-95): 100%|██████████| 11/11 [00:01<00:00,  7.71it/s]"
     ]
    },
    {
     "name": "stdout",
     "output_type": "stream",
     "text": [
      "                   all        348        204      0.342      0.254      0.237     0.0848\n"
     ]
    },
    {
     "name": "stderr",
     "output_type": "stream",
     "text": [
      "\n"
     ]
    },
    {
     "name": "stdout",
     "output_type": "stream",
     "text": [
      "\n",
      "      Epoch    GPU_mem   box_loss   cls_loss   dfl_loss  Instances       Size\n"
     ]
    },
    {
     "name": "stderr",
     "output_type": "stream",
     "text": [
      "      36/50      2.09G      1.436      1.264       1.37         10        640: 100%|██████████| 227/227 [00:32<00:00,  7.00it/s]\n",
      "                 Class     Images  Instances      Box(P          R      mAP50  mAP50-95): 100%|██████████| 11/11 [00:01<00:00,  7.70it/s]"
     ]
    },
    {
     "name": "stdout",
     "output_type": "stream",
     "text": [
      "                   all        348        204      0.305      0.263      0.239     0.0918\n"
     ]
    },
    {
     "name": "stderr",
     "output_type": "stream",
     "text": [
      "\n"
     ]
    },
    {
     "name": "stdout",
     "output_type": "stream",
     "text": [
      "\n",
      "      Epoch    GPU_mem   box_loss   cls_loss   dfl_loss  Instances       Size\n"
     ]
    },
    {
     "name": "stderr",
     "output_type": "stream",
     "text": [
      "      37/50      2.09G      1.434      1.251      1.362         15        640: 100%|██████████| 227/227 [00:32<00:00,  6.97it/s]\n",
      "                 Class     Images  Instances      Box(P          R      mAP50  mAP50-95): 100%|██████████| 11/11 [00:01<00:00,  7.64it/s]"
     ]
    },
    {
     "name": "stdout",
     "output_type": "stream",
     "text": [
      "                   all        348        204      0.421      0.285      0.267     0.0962\n"
     ]
    },
    {
     "name": "stderr",
     "output_type": "stream",
     "text": [
      "\n"
     ]
    },
    {
     "name": "stdout",
     "output_type": "stream",
     "text": [
      "\n",
      "      Epoch    GPU_mem   box_loss   cls_loss   dfl_loss  Instances       Size\n"
     ]
    },
    {
     "name": "stderr",
     "output_type": "stream",
     "text": [
      "      38/50       2.1G      1.399      1.196      1.326         20        640: 100%|██████████| 227/227 [00:32<00:00,  6.88it/s]\n",
      "                 Class     Images  Instances      Box(P          R      mAP50  mAP50-95): 100%|██████████| 11/11 [00:01<00:00,  7.63it/s]"
     ]
    },
    {
     "name": "stdout",
     "output_type": "stream",
     "text": [
      "                   all        348        204      0.297       0.28      0.256      0.094\n"
     ]
    },
    {
     "name": "stderr",
     "output_type": "stream",
     "text": [
      "\n"
     ]
    },
    {
     "name": "stdout",
     "output_type": "stream",
     "text": [
      "\n",
      "      Epoch    GPU_mem   box_loss   cls_loss   dfl_loss  Instances       Size\n"
     ]
    },
    {
     "name": "stderr",
     "output_type": "stream",
     "text": [
      "      39/50      2.09G      1.392      1.181      1.328         18        640: 100%|██████████| 227/227 [00:32<00:00,  6.93it/s]\n",
      "                 Class     Images  Instances      Box(P          R      mAP50  mAP50-95): 100%|██████████| 11/11 [00:01<00:00,  7.59it/s]"
     ]
    },
    {
     "name": "stdout",
     "output_type": "stream",
     "text": [
      "                   all        348        204      0.368      0.259      0.252     0.0915\n"
     ]
    },
    {
     "name": "stderr",
     "output_type": "stream",
     "text": [
      "\n"
     ]
    },
    {
     "name": "stdout",
     "output_type": "stream",
     "text": [
      "\n",
      "      Epoch    GPU_mem   box_loss   cls_loss   dfl_loss  Instances       Size\n"
     ]
    },
    {
     "name": "stderr",
     "output_type": "stream",
     "text": [
      "      40/50      2.09G      1.374      1.152      1.313         22        640: 100%|██████████| 227/227 [00:33<00:00,  6.87it/s]\n",
      "                 Class     Images  Instances      Box(P          R      mAP50  mAP50-95): 100%|██████████| 11/11 [00:01<00:00,  7.79it/s]"
     ]
    },
    {
     "name": "stdout",
     "output_type": "stream",
     "text": [
      "                   all        348        204      0.365      0.249      0.239     0.0927\n"
     ]
    },
    {
     "name": "stderr",
     "output_type": "stream",
     "text": [
      "\n"
     ]
    },
    {
     "name": "stdout",
     "output_type": "stream",
     "text": [
      "Closing dataloader mosaic\n",
      "\n",
      "      Epoch    GPU_mem   box_loss   cls_loss   dfl_loss  Instances       Size\n"
     ]
    },
    {
     "name": "stderr",
     "output_type": "stream",
     "text": [
      "      41/50       2.1G      1.303      1.024      1.345          9        640: 100%|██████████| 227/227 [00:30<00:00,  7.33it/s]\n",
      "                 Class     Images  Instances      Box(P          R      mAP50  mAP50-95): 100%|██████████| 11/11 [00:01<00:00,  8.20it/s]"
     ]
    },
    {
     "name": "stdout",
     "output_type": "stream",
     "text": [
      "                   all        348        204      0.396      0.252      0.249     0.0959\n"
     ]
    },
    {
     "name": "stderr",
     "output_type": "stream",
     "text": [
      "\n"
     ]
    },
    {
     "name": "stdout",
     "output_type": "stream",
     "text": [
      "\n",
      "      Epoch    GPU_mem   box_loss   cls_loss   dfl_loss  Instances       Size\n"
     ]
    },
    {
     "name": "stderr",
     "output_type": "stream",
     "text": [
      "      42/50       2.1G      1.275     0.9264      1.318          9        640: 100%|██████████| 227/227 [00:31<00:00,  7.22it/s]\n",
      "                 Class     Images  Instances      Box(P          R      mAP50  mAP50-95): 100%|██████████| 11/11 [00:01<00:00,  7.78it/s]"
     ]
    },
    {
     "name": "stdout",
     "output_type": "stream",
     "text": [
      "                   all        348        204      0.329      0.257      0.246      0.097\n"
     ]
    },
    {
     "name": "stderr",
     "output_type": "stream",
     "text": [
      "\n"
     ]
    },
    {
     "name": "stdout",
     "output_type": "stream",
     "text": [
      "\n",
      "      Epoch    GPU_mem   box_loss   cls_loss   dfl_loss  Instances       Size\n"
     ]
    },
    {
     "name": "stderr",
     "output_type": "stream",
     "text": [
      "      43/50      2.09G      1.246     0.8855      1.292          8        640: 100%|██████████| 227/227 [00:32<00:00,  7.09it/s]\n",
      "                 Class     Images  Instances      Box(P          R      mAP50  mAP50-95): 100%|██████████| 11/11 [00:01<00:00,  7.98it/s]"
     ]
    },
    {
     "name": "stdout",
     "output_type": "stream",
     "text": [
      "                   all        348        204      0.349      0.276      0.254     0.0924\n"
     ]
    },
    {
     "name": "stderr",
     "output_type": "stream",
     "text": [
      "\n"
     ]
    },
    {
     "name": "stdout",
     "output_type": "stream",
     "text": [
      "\n",
      "      Epoch    GPU_mem   box_loss   cls_loss   dfl_loss  Instances       Size\n"
     ]
    },
    {
     "name": "stderr",
     "output_type": "stream",
     "text": [
      "      44/50      2.09G      1.216     0.8565      1.271          6        640: 100%|██████████| 227/227 [00:32<00:00,  6.89it/s]\n",
      "                 Class     Images  Instances      Box(P          R      mAP50  mAP50-95): 100%|██████████| 11/11 [00:01<00:00,  7.76it/s]"
     ]
    },
    {
     "name": "stdout",
     "output_type": "stream",
     "text": [
      "                   all        348        204      0.358      0.269      0.269     0.0977\n"
     ]
    },
    {
     "name": "stderr",
     "output_type": "stream",
     "text": [
      "\n"
     ]
    },
    {
     "name": "stdout",
     "output_type": "stream",
     "text": [
      "\n",
      "      Epoch    GPU_mem   box_loss   cls_loss   dfl_loss  Instances       Size\n"
     ]
    },
    {
     "name": "stderr",
     "output_type": "stream",
     "text": [
      "      45/50       2.1G      1.195     0.8118       1.26          8        640: 100%|██████████| 227/227 [00:32<00:00,  6.98it/s]\n",
      "                 Class     Images  Instances      Box(P          R      mAP50  mAP50-95): 100%|██████████| 11/11 [00:01<00:00,  7.63it/s]"
     ]
    },
    {
     "name": "stdout",
     "output_type": "stream",
     "text": [
      "                   all        348        204      0.269      0.297      0.259     0.0994\n"
     ]
    },
    {
     "name": "stderr",
     "output_type": "stream",
     "text": [
      "\n"
     ]
    },
    {
     "name": "stdout",
     "output_type": "stream",
     "text": [
      "\n",
      "      Epoch    GPU_mem   box_loss   cls_loss   dfl_loss  Instances       Size\n"
     ]
    },
    {
     "name": "stderr",
     "output_type": "stream",
     "text": [
      "      46/50       2.1G       1.16      0.803      1.231          7        640: 100%|██████████| 227/227 [00:32<00:00,  6.93it/s]\n",
      "                 Class     Images  Instances      Box(P          R      mAP50  mAP50-95): 100%|██████████| 11/11 [00:01<00:00,  7.63it/s]"
     ]
    },
    {
     "name": "stdout",
     "output_type": "stream",
     "text": [
      "                   all        348        204      0.352      0.238      0.256     0.0991\n"
     ]
    },
    {
     "name": "stderr",
     "output_type": "stream",
     "text": [
      "\n"
     ]
    },
    {
     "name": "stdout",
     "output_type": "stream",
     "text": [
      "\n",
      "      Epoch    GPU_mem   box_loss   cls_loss   dfl_loss  Instances       Size\n"
     ]
    },
    {
     "name": "stderr",
     "output_type": "stream",
     "text": [
      "      47/50      2.09G      1.141     0.7795      1.227          8        640: 100%|██████████| 227/227 [00:32<00:00,  6.88it/s]\n",
      "                 Class     Images  Instances      Box(P          R      mAP50  mAP50-95): 100%|██████████| 11/11 [00:01<00:00,  7.66it/s]"
     ]
    },
    {
     "name": "stdout",
     "output_type": "stream",
     "text": [
      "                   all        348        204       0.26      0.289      0.254     0.0977\n"
     ]
    },
    {
     "name": "stderr",
     "output_type": "stream",
     "text": [
      "\n"
     ]
    },
    {
     "name": "stdout",
     "output_type": "stream",
     "text": [
      "\n",
      "      Epoch    GPU_mem   box_loss   cls_loss   dfl_loss  Instances       Size\n"
     ]
    },
    {
     "name": "stderr",
     "output_type": "stream",
     "text": [
      "      48/50       2.1G      1.108     0.7591      1.195         13        640: 100%|██████████| 227/227 [00:33<00:00,  6.84it/s]\n",
      "                 Class     Images  Instances      Box(P          R      mAP50  mAP50-95): 100%|██████████| 11/11 [00:01<00:00,  7.91it/s]"
     ]
    },
    {
     "name": "stdout",
     "output_type": "stream",
     "text": [
      "                   all        348        204      0.351      0.253      0.272      0.102\n"
     ]
    },
    {
     "name": "stderr",
     "output_type": "stream",
     "text": [
      "\n"
     ]
    },
    {
     "name": "stdout",
     "output_type": "stream",
     "text": [
      "\n",
      "      Epoch    GPU_mem   box_loss   cls_loss   dfl_loss  Instances       Size\n"
     ]
    },
    {
     "name": "stderr",
     "output_type": "stream",
     "text": [
      "      49/50       2.1G      1.104     0.7377      1.196         11        640: 100%|██████████| 227/227 [00:32<00:00,  6.89it/s]\n",
      "                 Class     Images  Instances      Box(P          R      mAP50  mAP50-95): 100%|██████████| 11/11 [00:01<00:00,  7.95it/s]"
     ]
    },
    {
     "name": "stdout",
     "output_type": "stream",
     "text": [
      "                   all        348        204      0.385      0.251      0.264      0.099\n"
     ]
    },
    {
     "name": "stderr",
     "output_type": "stream",
     "text": [
      "\n"
     ]
    },
    {
     "name": "stdout",
     "output_type": "stream",
     "text": [
      "\n",
      "      Epoch    GPU_mem   box_loss   cls_loss   dfl_loss  Instances       Size\n"
     ]
    },
    {
     "name": "stderr",
     "output_type": "stream",
     "text": [
      "      50/50       2.1G      1.079     0.7336      1.185          7        640: 100%|██████████| 227/227 [00:32<00:00,  6.92it/s]\n",
      "                 Class     Images  Instances      Box(P          R      mAP50  mAP50-95): 100%|██████████| 11/11 [00:01<00:00,  7.77it/s]"
     ]
    },
    {
     "name": "stdout",
     "output_type": "stream",
     "text": [
      "                   all        348        204       0.36      0.244      0.262      0.101\n"
     ]
    },
    {
     "name": "stderr",
     "output_type": "stream",
     "text": [
      "\n"
     ]
    },
    {
     "name": "stdout",
     "output_type": "stream",
     "text": [
      "\n",
      "50 epochs completed in 0.463 hours.\n",
      "Optimizer stripped from bone_detection\\bone_yolov8\\weights\\last.pt, 6.2MB\n",
      "Optimizer stripped from bone_detection\\bone_yolov8\\weights\\best.pt, 6.2MB\n",
      "\n",
      "Validating bone_detection\\bone_yolov8\\weights\\best.pt...\n",
      "Ultralytics 8.3.63  Python-3.12.4 torch-2.2.2+cu121 CUDA:0 (NVIDIA GeForce RTX 3060 Laptop GPU, 6144MiB)\n",
      "Model summary (fused): 168 layers, 3,007,013 parameters, 0 gradients, 8.1 GFLOPs\n"
     ]
    },
    {
     "name": "stderr",
     "output_type": "stream",
     "text": [
      "                 Class     Images  Instances      Box(P          R      mAP50  mAP50-95): 100%|██████████| 11/11 [00:01<00:00,  6.89it/s]\n"
     ]
    },
    {
     "name": "stdout",
     "output_type": "stream",
     "text": [
      "                   all        348        204      0.351      0.253      0.271      0.102\n",
      "        elbow positive         28         29      0.103      0.103     0.0389    0.00932\n",
      "      fingers positive         41         48      0.257      0.146     0.0949     0.0291\n",
      "      forearm fracture         37         43      0.589      0.465      0.572      0.226\n",
      "               humerus         31         36      0.833      0.553      0.629      0.233\n",
      "     shoulder fracture         19         20      0.326       0.25       0.26      0.106\n",
      "        wrist positive         17         28          0          0     0.0332     0.0098\n",
      "Speed: 0.2ms preprocess, 1.6ms inference, 0.0ms loss, 0.8ms postprocess per image\n",
      "Results saved to \u001b[1mbone_detection\\bone_yolov8\u001b[0m\n"
     ]
    },
    {
     "data": {
      "text/plain": [
       "ultralytics.utils.metrics.DetMetrics object with attributes:\n",
       "\n",
       "ap_class_index: array([0, 1, 2, 4, 5, 6])\n",
       "box: ultralytics.utils.metrics.Metric object\n",
       "confusion_matrix: <ultralytics.utils.metrics.ConfusionMatrix object at 0x0000021219E9EF90>\n",
       "curves: ['Precision-Recall(B)', 'F1-Confidence(B)', 'Precision-Confidence(B)', 'Recall-Confidence(B)']\n",
       "curves_results: [[array([          0,    0.001001,    0.002002,    0.003003,    0.004004,    0.005005,    0.006006,    0.007007,    0.008008,    0.009009,     0.01001,    0.011011,    0.012012,    0.013013,    0.014014,    0.015015,    0.016016,    0.017017,    0.018018,    0.019019,     0.02002,    0.021021,    0.022022,    0.023023,\n",
       "          0.024024,    0.025025,    0.026026,    0.027027,    0.028028,    0.029029,     0.03003,    0.031031,    0.032032,    0.033033,    0.034034,    0.035035,    0.036036,    0.037037,    0.038038,    0.039039,     0.04004,    0.041041,    0.042042,    0.043043,    0.044044,    0.045045,    0.046046,    0.047047,\n",
       "          0.048048,    0.049049,     0.05005,    0.051051,    0.052052,    0.053053,    0.054054,    0.055055,    0.056056,    0.057057,    0.058058,    0.059059,     0.06006,    0.061061,    0.062062,    0.063063,    0.064064,    0.065065,    0.066066,    0.067067,    0.068068,    0.069069,     0.07007,    0.071071,\n",
       "          0.072072,    0.073073,    0.074074,    0.075075,    0.076076,    0.077077,    0.078078,    0.079079,     0.08008,    0.081081,    0.082082,    0.083083,    0.084084,    0.085085,    0.086086,    0.087087,    0.088088,    0.089089,     0.09009,    0.091091,    0.092092,    0.093093,    0.094094,    0.095095,\n",
       "          0.096096,    0.097097,    0.098098,    0.099099,      0.1001,      0.1011,      0.1021,      0.1031,      0.1041,     0.10511,     0.10611,     0.10711,     0.10811,     0.10911,     0.11011,     0.11111,     0.11211,     0.11311,     0.11411,     0.11512,     0.11612,     0.11712,     0.11812,     0.11912,\n",
       "           0.12012,     0.12112,     0.12212,     0.12312,     0.12412,     0.12513,     0.12613,     0.12713,     0.12813,     0.12913,     0.13013,     0.13113,     0.13213,     0.13313,     0.13413,     0.13514,     0.13614,     0.13714,     0.13814,     0.13914,     0.14014,     0.14114,     0.14214,     0.14314,\n",
       "           0.14414,     0.14515,     0.14615,     0.14715,     0.14815,     0.14915,     0.15015,     0.15115,     0.15215,     0.15315,     0.15415,     0.15516,     0.15616,     0.15716,     0.15816,     0.15916,     0.16016,     0.16116,     0.16216,     0.16316,     0.16416,     0.16517,     0.16617,     0.16717,\n",
       "           0.16817,     0.16917,     0.17017,     0.17117,     0.17217,     0.17317,     0.17417,     0.17518,     0.17618,     0.17718,     0.17818,     0.17918,     0.18018,     0.18118,     0.18218,     0.18318,     0.18418,     0.18519,     0.18619,     0.18719,     0.18819,     0.18919,     0.19019,     0.19119,\n",
       "           0.19219,     0.19319,     0.19419,      0.1952,      0.1962,      0.1972,      0.1982,      0.1992,      0.2002,      0.2012,      0.2022,      0.2032,      0.2042,     0.20521,     0.20621,     0.20721,     0.20821,     0.20921,     0.21021,     0.21121,     0.21221,     0.21321,     0.21421,     0.21522,\n",
       "           0.21622,     0.21722,     0.21822,     0.21922,     0.22022,     0.22122,     0.22222,     0.22322,     0.22422,     0.22523,     0.22623,     0.22723,     0.22823,     0.22923,     0.23023,     0.23123,     0.23223,     0.23323,     0.23423,     0.23524,     0.23624,     0.23724,     0.23824,     0.23924,\n",
       "           0.24024,     0.24124,     0.24224,     0.24324,     0.24424,     0.24525,     0.24625,     0.24725,     0.24825,     0.24925,     0.25025,     0.25125,     0.25225,     0.25325,     0.25425,     0.25526,     0.25626,     0.25726,     0.25826,     0.25926,     0.26026,     0.26126,     0.26226,     0.26326,\n",
       "           0.26426,     0.26527,     0.26627,     0.26727,     0.26827,     0.26927,     0.27027,     0.27127,     0.27227,     0.27327,     0.27427,     0.27528,     0.27628,     0.27728,     0.27828,     0.27928,     0.28028,     0.28128,     0.28228,     0.28328,     0.28428,     0.28529,     0.28629,     0.28729,\n",
       "           0.28829,     0.28929,     0.29029,     0.29129,     0.29229,     0.29329,     0.29429,      0.2953,      0.2963,      0.2973,      0.2983,      0.2993,      0.3003,      0.3013,      0.3023,      0.3033,      0.3043,     0.30531,     0.30631,     0.30731,     0.30831,     0.30931,     0.31031,     0.31131,\n",
       "           0.31231,     0.31331,     0.31431,     0.31532,     0.31632,     0.31732,     0.31832,     0.31932,     0.32032,     0.32132,     0.32232,     0.32332,     0.32432,     0.32533,     0.32633,     0.32733,     0.32833,     0.32933,     0.33033,     0.33133,     0.33233,     0.33333,     0.33433,     0.33534,\n",
       "           0.33634,     0.33734,     0.33834,     0.33934,     0.34034,     0.34134,     0.34234,     0.34334,     0.34434,     0.34535,     0.34635,     0.34735,     0.34835,     0.34935,     0.35035,     0.35135,     0.35235,     0.35335,     0.35435,     0.35536,     0.35636,     0.35736,     0.35836,     0.35936,\n",
       "           0.36036,     0.36136,     0.36236,     0.36336,     0.36436,     0.36537,     0.36637,     0.36737,     0.36837,     0.36937,     0.37037,     0.37137,     0.37237,     0.37337,     0.37437,     0.37538,     0.37638,     0.37738,     0.37838,     0.37938,     0.38038,     0.38138,     0.38238,     0.38338,\n",
       "           0.38438,     0.38539,     0.38639,     0.38739,     0.38839,     0.38939,     0.39039,     0.39139,     0.39239,     0.39339,     0.39439,      0.3954,      0.3964,      0.3974,      0.3984,      0.3994,      0.4004,      0.4014,      0.4024,      0.4034,      0.4044,     0.40541,     0.40641,     0.40741,\n",
       "           0.40841,     0.40941,     0.41041,     0.41141,     0.41241,     0.41341,     0.41441,     0.41542,     0.41642,     0.41742,     0.41842,     0.41942,     0.42042,     0.42142,     0.42242,     0.42342,     0.42442,     0.42543,     0.42643,     0.42743,     0.42843,     0.42943,     0.43043,     0.43143,\n",
       "           0.43243,     0.43343,     0.43443,     0.43544,     0.43644,     0.43744,     0.43844,     0.43944,     0.44044,     0.44144,     0.44244,     0.44344,     0.44444,     0.44545,     0.44645,     0.44745,     0.44845,     0.44945,     0.45045,     0.45145,     0.45245,     0.45345,     0.45445,     0.45546,\n",
       "           0.45646,     0.45746,     0.45846,     0.45946,     0.46046,     0.46146,     0.46246,     0.46346,     0.46446,     0.46547,     0.46647,     0.46747,     0.46847,     0.46947,     0.47047,     0.47147,     0.47247,     0.47347,     0.47447,     0.47548,     0.47648,     0.47748,     0.47848,     0.47948,\n",
       "           0.48048,     0.48148,     0.48248,     0.48348,     0.48448,     0.48549,     0.48649,     0.48749,     0.48849,     0.48949,     0.49049,     0.49149,     0.49249,     0.49349,     0.49449,      0.4955,      0.4965,      0.4975,      0.4985,      0.4995,      0.5005,      0.5015,      0.5025,      0.5035,\n",
       "            0.5045,     0.50551,     0.50651,     0.50751,     0.50851,     0.50951,     0.51051,     0.51151,     0.51251,     0.51351,     0.51451,     0.51552,     0.51652,     0.51752,     0.51852,     0.51952,     0.52052,     0.52152,     0.52252,     0.52352,     0.52452,     0.52553,     0.52653,     0.52753,\n",
       "           0.52853,     0.52953,     0.53053,     0.53153,     0.53253,     0.53353,     0.53453,     0.53554,     0.53654,     0.53754,     0.53854,     0.53954,     0.54054,     0.54154,     0.54254,     0.54354,     0.54454,     0.54555,     0.54655,     0.54755,     0.54855,     0.54955,     0.55055,     0.55155,\n",
       "           0.55255,     0.55355,     0.55455,     0.55556,     0.55656,     0.55756,     0.55856,     0.55956,     0.56056,     0.56156,     0.56256,     0.56356,     0.56456,     0.56557,     0.56657,     0.56757,     0.56857,     0.56957,     0.57057,     0.57157,     0.57257,     0.57357,     0.57457,     0.57558,\n",
       "           0.57658,     0.57758,     0.57858,     0.57958,     0.58058,     0.58158,     0.58258,     0.58358,     0.58458,     0.58559,     0.58659,     0.58759,     0.58859,     0.58959,     0.59059,     0.59159,     0.59259,     0.59359,     0.59459,      0.5956,      0.5966,      0.5976,      0.5986,      0.5996,\n",
       "            0.6006,      0.6016,      0.6026,      0.6036,      0.6046,     0.60561,     0.60661,     0.60761,     0.60861,     0.60961,     0.61061,     0.61161,     0.61261,     0.61361,     0.61461,     0.61562,     0.61662,     0.61762,     0.61862,     0.61962,     0.62062,     0.62162,     0.62262,     0.62362,\n",
       "           0.62462,     0.62563,     0.62663,     0.62763,     0.62863,     0.62963,     0.63063,     0.63163,     0.63263,     0.63363,     0.63463,     0.63564,     0.63664,     0.63764,     0.63864,     0.63964,     0.64064,     0.64164,     0.64264,     0.64364,     0.64464,     0.64565,     0.64665,     0.64765,\n",
       "           0.64865,     0.64965,     0.65065,     0.65165,     0.65265,     0.65365,     0.65465,     0.65566,     0.65666,     0.65766,     0.65866,     0.65966,     0.66066,     0.66166,     0.66266,     0.66366,     0.66466,     0.66567,     0.66667,     0.66767,     0.66867,     0.66967,     0.67067,     0.67167,\n",
       "           0.67267,     0.67367,     0.67467,     0.67568,     0.67668,     0.67768,     0.67868,     0.67968,     0.68068,     0.68168,     0.68268,     0.68368,     0.68468,     0.68569,     0.68669,     0.68769,     0.68869,     0.68969,     0.69069,     0.69169,     0.69269,     0.69369,     0.69469,      0.6957,\n",
       "            0.6967,      0.6977,      0.6987,      0.6997,      0.7007,      0.7017,      0.7027,      0.7037,      0.7047,     0.70571,     0.70671,     0.70771,     0.70871,     0.70971,     0.71071,     0.71171,     0.71271,     0.71371,     0.71471,     0.71572,     0.71672,     0.71772,     0.71872,     0.71972,\n",
       "           0.72072,     0.72172,     0.72272,     0.72372,     0.72472,     0.72573,     0.72673,     0.72773,     0.72873,     0.72973,     0.73073,     0.73173,     0.73273,     0.73373,     0.73473,     0.73574,     0.73674,     0.73774,     0.73874,     0.73974,     0.74074,     0.74174,     0.74274,     0.74374,\n",
       "           0.74474,     0.74575,     0.74675,     0.74775,     0.74875,     0.74975,     0.75075,     0.75175,     0.75275,     0.75375,     0.75475,     0.75576,     0.75676,     0.75776,     0.75876,     0.75976,     0.76076,     0.76176,     0.76276,     0.76376,     0.76476,     0.76577,     0.76677,     0.76777,\n",
       "           0.76877,     0.76977,     0.77077,     0.77177,     0.77277,     0.77377,     0.77477,     0.77578,     0.77678,     0.77778,     0.77878,     0.77978,     0.78078,     0.78178,     0.78278,     0.78378,     0.78478,     0.78579,     0.78679,     0.78779,     0.78879,     0.78979,     0.79079,     0.79179,\n",
       "           0.79279,     0.79379,     0.79479,      0.7958,      0.7968,      0.7978,      0.7988,      0.7998,      0.8008,      0.8018,      0.8028,      0.8038,      0.8048,     0.80581,     0.80681,     0.80781,     0.80881,     0.80981,     0.81081,     0.81181,     0.81281,     0.81381,     0.81481,     0.81582,\n",
       "           0.81682,     0.81782,     0.81882,     0.81982,     0.82082,     0.82182,     0.82282,     0.82382,     0.82482,     0.82583,     0.82683,     0.82783,     0.82883,     0.82983,     0.83083,     0.83183,     0.83283,     0.83383,     0.83483,     0.83584,     0.83684,     0.83784,     0.83884,     0.83984,\n",
       "           0.84084,     0.84184,     0.84284,     0.84384,     0.84484,     0.84585,     0.84685,     0.84785,     0.84885,     0.84985,     0.85085,     0.85185,     0.85285,     0.85385,     0.85485,     0.85586,     0.85686,     0.85786,     0.85886,     0.85986,     0.86086,     0.86186,     0.86286,     0.86386,\n",
       "           0.86486,     0.86587,     0.86687,     0.86787,     0.86887,     0.86987,     0.87087,     0.87187,     0.87287,     0.87387,     0.87487,     0.87588,     0.87688,     0.87788,     0.87888,     0.87988,     0.88088,     0.88188,     0.88288,     0.88388,     0.88488,     0.88589,     0.88689,     0.88789,\n",
       "           0.88889,     0.88989,     0.89089,     0.89189,     0.89289,     0.89389,     0.89489,      0.8959,      0.8969,      0.8979,      0.8989,      0.8999,      0.9009,      0.9019,      0.9029,      0.9039,      0.9049,     0.90591,     0.90691,     0.90791,     0.90891,     0.90991,     0.91091,     0.91191,\n",
       "           0.91291,     0.91391,     0.91491,     0.91592,     0.91692,     0.91792,     0.91892,     0.91992,     0.92092,     0.92192,     0.92292,     0.92392,     0.92492,     0.92593,     0.92693,     0.92793,     0.92893,     0.92993,     0.93093,     0.93193,     0.93293,     0.93393,     0.93493,     0.93594,\n",
       "           0.93694,     0.93794,     0.93894,     0.93994,     0.94094,     0.94194,     0.94294,     0.94394,     0.94494,     0.94595,     0.94695,     0.94795,     0.94895,     0.94995,     0.95095,     0.95195,     0.95295,     0.95395,     0.95495,     0.95596,     0.95696,     0.95796,     0.95896,     0.95996,\n",
       "           0.96096,     0.96196,     0.96296,     0.96396,     0.96496,     0.96597,     0.96697,     0.96797,     0.96897,     0.96997,     0.97097,     0.97197,     0.97297,     0.97397,     0.97497,     0.97598,     0.97698,     0.97798,     0.97898,     0.97998,     0.98098,     0.98198,     0.98298,     0.98398,\n",
       "           0.98498,     0.98599,     0.98699,     0.98799,     0.98899,     0.98999,     0.99099,     0.99199,     0.99299,     0.99399,     0.99499,       0.996,       0.997,       0.998,       0.999,           1]), array([[    0.33333,     0.33333,     0.33333, ...,  7.3388e-05,  3.6694e-05,           0],\n",
       "       [        0.5,         0.5,         0.5, ...,  0.00018587,  9.2936e-05,           0],\n",
       "       [          1,           1,           1, ...,  0.00073396,  0.00036698,           0],\n",
       "       [          1,           1,           1, ...,  0.00088065,  0.00044032,           0],\n",
       "       [       0.75,        0.75,        0.75, ...,  0.00050243,  0.00025122,           0],\n",
       "       [   0.083333,    0.083333,    0.083333, ...,  8.2462e-05,  4.1231e-05,           0]]), 'Recall', 'Precision'], [array([          0,    0.001001,    0.002002,    0.003003,    0.004004,    0.005005,    0.006006,    0.007007,    0.008008,    0.009009,     0.01001,    0.011011,    0.012012,    0.013013,    0.014014,    0.015015,    0.016016,    0.017017,    0.018018,    0.019019,     0.02002,    0.021021,    0.022022,    0.023023,\n",
       "          0.024024,    0.025025,    0.026026,    0.027027,    0.028028,    0.029029,     0.03003,    0.031031,    0.032032,    0.033033,    0.034034,    0.035035,    0.036036,    0.037037,    0.038038,    0.039039,     0.04004,    0.041041,    0.042042,    0.043043,    0.044044,    0.045045,    0.046046,    0.047047,\n",
       "          0.048048,    0.049049,     0.05005,    0.051051,    0.052052,    0.053053,    0.054054,    0.055055,    0.056056,    0.057057,    0.058058,    0.059059,     0.06006,    0.061061,    0.062062,    0.063063,    0.064064,    0.065065,    0.066066,    0.067067,    0.068068,    0.069069,     0.07007,    0.071071,\n",
       "          0.072072,    0.073073,    0.074074,    0.075075,    0.076076,    0.077077,    0.078078,    0.079079,     0.08008,    0.081081,    0.082082,    0.083083,    0.084084,    0.085085,    0.086086,    0.087087,    0.088088,    0.089089,     0.09009,    0.091091,    0.092092,    0.093093,    0.094094,    0.095095,\n",
       "          0.096096,    0.097097,    0.098098,    0.099099,      0.1001,      0.1011,      0.1021,      0.1031,      0.1041,     0.10511,     0.10611,     0.10711,     0.10811,     0.10911,     0.11011,     0.11111,     0.11211,     0.11311,     0.11411,     0.11512,     0.11612,     0.11712,     0.11812,     0.11912,\n",
       "           0.12012,     0.12112,     0.12212,     0.12312,     0.12412,     0.12513,     0.12613,     0.12713,     0.12813,     0.12913,     0.13013,     0.13113,     0.13213,     0.13313,     0.13413,     0.13514,     0.13614,     0.13714,     0.13814,     0.13914,     0.14014,     0.14114,     0.14214,     0.14314,\n",
       "           0.14414,     0.14515,     0.14615,     0.14715,     0.14815,     0.14915,     0.15015,     0.15115,     0.15215,     0.15315,     0.15415,     0.15516,     0.15616,     0.15716,     0.15816,     0.15916,     0.16016,     0.16116,     0.16216,     0.16316,     0.16416,     0.16517,     0.16617,     0.16717,\n",
       "           0.16817,     0.16917,     0.17017,     0.17117,     0.17217,     0.17317,     0.17417,     0.17518,     0.17618,     0.17718,     0.17818,     0.17918,     0.18018,     0.18118,     0.18218,     0.18318,     0.18418,     0.18519,     0.18619,     0.18719,     0.18819,     0.18919,     0.19019,     0.19119,\n",
       "           0.19219,     0.19319,     0.19419,      0.1952,      0.1962,      0.1972,      0.1982,      0.1992,      0.2002,      0.2012,      0.2022,      0.2032,      0.2042,     0.20521,     0.20621,     0.20721,     0.20821,     0.20921,     0.21021,     0.21121,     0.21221,     0.21321,     0.21421,     0.21522,\n",
       "           0.21622,     0.21722,     0.21822,     0.21922,     0.22022,     0.22122,     0.22222,     0.22322,     0.22422,     0.22523,     0.22623,     0.22723,     0.22823,     0.22923,     0.23023,     0.23123,     0.23223,     0.23323,     0.23423,     0.23524,     0.23624,     0.23724,     0.23824,     0.23924,\n",
       "           0.24024,     0.24124,     0.24224,     0.24324,     0.24424,     0.24525,     0.24625,     0.24725,     0.24825,     0.24925,     0.25025,     0.25125,     0.25225,     0.25325,     0.25425,     0.25526,     0.25626,     0.25726,     0.25826,     0.25926,     0.26026,     0.26126,     0.26226,     0.26326,\n",
       "           0.26426,     0.26527,     0.26627,     0.26727,     0.26827,     0.26927,     0.27027,     0.27127,     0.27227,     0.27327,     0.27427,     0.27528,     0.27628,     0.27728,     0.27828,     0.27928,     0.28028,     0.28128,     0.28228,     0.28328,     0.28428,     0.28529,     0.28629,     0.28729,\n",
       "           0.28829,     0.28929,     0.29029,     0.29129,     0.29229,     0.29329,     0.29429,      0.2953,      0.2963,      0.2973,      0.2983,      0.2993,      0.3003,      0.3013,      0.3023,      0.3033,      0.3043,     0.30531,     0.30631,     0.30731,     0.30831,     0.30931,     0.31031,     0.31131,\n",
       "           0.31231,     0.31331,     0.31431,     0.31532,     0.31632,     0.31732,     0.31832,     0.31932,     0.32032,     0.32132,     0.32232,     0.32332,     0.32432,     0.32533,     0.32633,     0.32733,     0.32833,     0.32933,     0.33033,     0.33133,     0.33233,     0.33333,     0.33433,     0.33534,\n",
       "           0.33634,     0.33734,     0.33834,     0.33934,     0.34034,     0.34134,     0.34234,     0.34334,     0.34434,     0.34535,     0.34635,     0.34735,     0.34835,     0.34935,     0.35035,     0.35135,     0.35235,     0.35335,     0.35435,     0.35536,     0.35636,     0.35736,     0.35836,     0.35936,\n",
       "           0.36036,     0.36136,     0.36236,     0.36336,     0.36436,     0.36537,     0.36637,     0.36737,     0.36837,     0.36937,     0.37037,     0.37137,     0.37237,     0.37337,     0.37437,     0.37538,     0.37638,     0.37738,     0.37838,     0.37938,     0.38038,     0.38138,     0.38238,     0.38338,\n",
       "           0.38438,     0.38539,     0.38639,     0.38739,     0.38839,     0.38939,     0.39039,     0.39139,     0.39239,     0.39339,     0.39439,      0.3954,      0.3964,      0.3974,      0.3984,      0.3994,      0.4004,      0.4014,      0.4024,      0.4034,      0.4044,     0.40541,     0.40641,     0.40741,\n",
       "           0.40841,     0.40941,     0.41041,     0.41141,     0.41241,     0.41341,     0.41441,     0.41542,     0.41642,     0.41742,     0.41842,     0.41942,     0.42042,     0.42142,     0.42242,     0.42342,     0.42442,     0.42543,     0.42643,     0.42743,     0.42843,     0.42943,     0.43043,     0.43143,\n",
       "           0.43243,     0.43343,     0.43443,     0.43544,     0.43644,     0.43744,     0.43844,     0.43944,     0.44044,     0.44144,     0.44244,     0.44344,     0.44444,     0.44545,     0.44645,     0.44745,     0.44845,     0.44945,     0.45045,     0.45145,     0.45245,     0.45345,     0.45445,     0.45546,\n",
       "           0.45646,     0.45746,     0.45846,     0.45946,     0.46046,     0.46146,     0.46246,     0.46346,     0.46446,     0.46547,     0.46647,     0.46747,     0.46847,     0.46947,     0.47047,     0.47147,     0.47247,     0.47347,     0.47447,     0.47548,     0.47648,     0.47748,     0.47848,     0.47948,\n",
       "           0.48048,     0.48148,     0.48248,     0.48348,     0.48448,     0.48549,     0.48649,     0.48749,     0.48849,     0.48949,     0.49049,     0.49149,     0.49249,     0.49349,     0.49449,      0.4955,      0.4965,      0.4975,      0.4985,      0.4995,      0.5005,      0.5015,      0.5025,      0.5035,\n",
       "            0.5045,     0.50551,     0.50651,     0.50751,     0.50851,     0.50951,     0.51051,     0.51151,     0.51251,     0.51351,     0.51451,     0.51552,     0.51652,     0.51752,     0.51852,     0.51952,     0.52052,     0.52152,     0.52252,     0.52352,     0.52452,     0.52553,     0.52653,     0.52753,\n",
       "           0.52853,     0.52953,     0.53053,     0.53153,     0.53253,     0.53353,     0.53453,     0.53554,     0.53654,     0.53754,     0.53854,     0.53954,     0.54054,     0.54154,     0.54254,     0.54354,     0.54454,     0.54555,     0.54655,     0.54755,     0.54855,     0.54955,     0.55055,     0.55155,\n",
       "           0.55255,     0.55355,     0.55455,     0.55556,     0.55656,     0.55756,     0.55856,     0.55956,     0.56056,     0.56156,     0.56256,     0.56356,     0.56456,     0.56557,     0.56657,     0.56757,     0.56857,     0.56957,     0.57057,     0.57157,     0.57257,     0.57357,     0.57457,     0.57558,\n",
       "           0.57658,     0.57758,     0.57858,     0.57958,     0.58058,     0.58158,     0.58258,     0.58358,     0.58458,     0.58559,     0.58659,     0.58759,     0.58859,     0.58959,     0.59059,     0.59159,     0.59259,     0.59359,     0.59459,      0.5956,      0.5966,      0.5976,      0.5986,      0.5996,\n",
       "            0.6006,      0.6016,      0.6026,      0.6036,      0.6046,     0.60561,     0.60661,     0.60761,     0.60861,     0.60961,     0.61061,     0.61161,     0.61261,     0.61361,     0.61461,     0.61562,     0.61662,     0.61762,     0.61862,     0.61962,     0.62062,     0.62162,     0.62262,     0.62362,\n",
       "           0.62462,     0.62563,     0.62663,     0.62763,     0.62863,     0.62963,     0.63063,     0.63163,     0.63263,     0.63363,     0.63463,     0.63564,     0.63664,     0.63764,     0.63864,     0.63964,     0.64064,     0.64164,     0.64264,     0.64364,     0.64464,     0.64565,     0.64665,     0.64765,\n",
       "           0.64865,     0.64965,     0.65065,     0.65165,     0.65265,     0.65365,     0.65465,     0.65566,     0.65666,     0.65766,     0.65866,     0.65966,     0.66066,     0.66166,     0.66266,     0.66366,     0.66466,     0.66567,     0.66667,     0.66767,     0.66867,     0.66967,     0.67067,     0.67167,\n",
       "           0.67267,     0.67367,     0.67467,     0.67568,     0.67668,     0.67768,     0.67868,     0.67968,     0.68068,     0.68168,     0.68268,     0.68368,     0.68468,     0.68569,     0.68669,     0.68769,     0.68869,     0.68969,     0.69069,     0.69169,     0.69269,     0.69369,     0.69469,      0.6957,\n",
       "            0.6967,      0.6977,      0.6987,      0.6997,      0.7007,      0.7017,      0.7027,      0.7037,      0.7047,     0.70571,     0.70671,     0.70771,     0.70871,     0.70971,     0.71071,     0.71171,     0.71271,     0.71371,     0.71471,     0.71572,     0.71672,     0.71772,     0.71872,     0.71972,\n",
       "           0.72072,     0.72172,     0.72272,     0.72372,     0.72472,     0.72573,     0.72673,     0.72773,     0.72873,     0.72973,     0.73073,     0.73173,     0.73273,     0.73373,     0.73473,     0.73574,     0.73674,     0.73774,     0.73874,     0.73974,     0.74074,     0.74174,     0.74274,     0.74374,\n",
       "           0.74474,     0.74575,     0.74675,     0.74775,     0.74875,     0.74975,     0.75075,     0.75175,     0.75275,     0.75375,     0.75475,     0.75576,     0.75676,     0.75776,     0.75876,     0.75976,     0.76076,     0.76176,     0.76276,     0.76376,     0.76476,     0.76577,     0.76677,     0.76777,\n",
       "           0.76877,     0.76977,     0.77077,     0.77177,     0.77277,     0.77377,     0.77477,     0.77578,     0.77678,     0.77778,     0.77878,     0.77978,     0.78078,     0.78178,     0.78278,     0.78378,     0.78478,     0.78579,     0.78679,     0.78779,     0.78879,     0.78979,     0.79079,     0.79179,\n",
       "           0.79279,     0.79379,     0.79479,      0.7958,      0.7968,      0.7978,      0.7988,      0.7998,      0.8008,      0.8018,      0.8028,      0.8038,      0.8048,     0.80581,     0.80681,     0.80781,     0.80881,     0.80981,     0.81081,     0.81181,     0.81281,     0.81381,     0.81481,     0.81582,\n",
       "           0.81682,     0.81782,     0.81882,     0.81982,     0.82082,     0.82182,     0.82282,     0.82382,     0.82482,     0.82583,     0.82683,     0.82783,     0.82883,     0.82983,     0.83083,     0.83183,     0.83283,     0.83383,     0.83483,     0.83584,     0.83684,     0.83784,     0.83884,     0.83984,\n",
       "           0.84084,     0.84184,     0.84284,     0.84384,     0.84484,     0.84585,     0.84685,     0.84785,     0.84885,     0.84985,     0.85085,     0.85185,     0.85285,     0.85385,     0.85485,     0.85586,     0.85686,     0.85786,     0.85886,     0.85986,     0.86086,     0.86186,     0.86286,     0.86386,\n",
       "           0.86486,     0.86587,     0.86687,     0.86787,     0.86887,     0.86987,     0.87087,     0.87187,     0.87287,     0.87387,     0.87487,     0.87588,     0.87688,     0.87788,     0.87888,     0.87988,     0.88088,     0.88188,     0.88288,     0.88388,     0.88488,     0.88589,     0.88689,     0.88789,\n",
       "           0.88889,     0.88989,     0.89089,     0.89189,     0.89289,     0.89389,     0.89489,      0.8959,      0.8969,      0.8979,      0.8989,      0.8999,      0.9009,      0.9019,      0.9029,      0.9039,      0.9049,     0.90591,     0.90691,     0.90791,     0.90891,     0.90991,     0.91091,     0.91191,\n",
       "           0.91291,     0.91391,     0.91491,     0.91592,     0.91692,     0.91792,     0.91892,     0.91992,     0.92092,     0.92192,     0.92292,     0.92392,     0.92492,     0.92593,     0.92693,     0.92793,     0.92893,     0.92993,     0.93093,     0.93193,     0.93293,     0.93393,     0.93493,     0.93594,\n",
       "           0.93694,     0.93794,     0.93894,     0.93994,     0.94094,     0.94194,     0.94294,     0.94394,     0.94494,     0.94595,     0.94695,     0.94795,     0.94895,     0.94995,     0.95095,     0.95195,     0.95295,     0.95395,     0.95495,     0.95596,     0.95696,     0.95796,     0.95896,     0.95996,\n",
       "           0.96096,     0.96196,     0.96296,     0.96396,     0.96496,     0.96597,     0.96697,     0.96797,     0.96897,     0.96997,     0.97097,     0.97197,     0.97297,     0.97397,     0.97497,     0.97598,     0.97698,     0.97798,     0.97898,     0.97998,     0.98098,     0.98198,     0.98298,     0.98398,\n",
       "           0.98498,     0.98599,     0.98699,     0.98799,     0.98899,     0.98999,     0.99099,     0.99199,     0.99299,     0.99399,     0.99499,       0.996,       0.997,       0.998,       0.999,           1]), array([[   0.046753,    0.046753,    0.060942, ...,           0,           0,           0],\n",
       "       [   0.078907,    0.078907,    0.098061, ...,           0,           0,           0],\n",
       "       [    0.17919,     0.17919,     0.20938, ...,           0,           0,           0],\n",
       "       [    0.22523,     0.22523,     0.29809, ...,           0,           0,           0],\n",
       "       [    0.15476,     0.15476,     0.18178, ...,           0,           0,           0],\n",
       "       [   0.051429,    0.051429,    0.065818, ...,           0,           0,           0]]), 'Confidence', 'F1'], [array([          0,    0.001001,    0.002002,    0.003003,    0.004004,    0.005005,    0.006006,    0.007007,    0.008008,    0.009009,     0.01001,    0.011011,    0.012012,    0.013013,    0.014014,    0.015015,    0.016016,    0.017017,    0.018018,    0.019019,     0.02002,    0.021021,    0.022022,    0.023023,\n",
       "          0.024024,    0.025025,    0.026026,    0.027027,    0.028028,    0.029029,     0.03003,    0.031031,    0.032032,    0.033033,    0.034034,    0.035035,    0.036036,    0.037037,    0.038038,    0.039039,     0.04004,    0.041041,    0.042042,    0.043043,    0.044044,    0.045045,    0.046046,    0.047047,\n",
       "          0.048048,    0.049049,     0.05005,    0.051051,    0.052052,    0.053053,    0.054054,    0.055055,    0.056056,    0.057057,    0.058058,    0.059059,     0.06006,    0.061061,    0.062062,    0.063063,    0.064064,    0.065065,    0.066066,    0.067067,    0.068068,    0.069069,     0.07007,    0.071071,\n",
       "          0.072072,    0.073073,    0.074074,    0.075075,    0.076076,    0.077077,    0.078078,    0.079079,     0.08008,    0.081081,    0.082082,    0.083083,    0.084084,    0.085085,    0.086086,    0.087087,    0.088088,    0.089089,     0.09009,    0.091091,    0.092092,    0.093093,    0.094094,    0.095095,\n",
       "          0.096096,    0.097097,    0.098098,    0.099099,      0.1001,      0.1011,      0.1021,      0.1031,      0.1041,     0.10511,     0.10611,     0.10711,     0.10811,     0.10911,     0.11011,     0.11111,     0.11211,     0.11311,     0.11411,     0.11512,     0.11612,     0.11712,     0.11812,     0.11912,\n",
       "           0.12012,     0.12112,     0.12212,     0.12312,     0.12412,     0.12513,     0.12613,     0.12713,     0.12813,     0.12913,     0.13013,     0.13113,     0.13213,     0.13313,     0.13413,     0.13514,     0.13614,     0.13714,     0.13814,     0.13914,     0.14014,     0.14114,     0.14214,     0.14314,\n",
       "           0.14414,     0.14515,     0.14615,     0.14715,     0.14815,     0.14915,     0.15015,     0.15115,     0.15215,     0.15315,     0.15415,     0.15516,     0.15616,     0.15716,     0.15816,     0.15916,     0.16016,     0.16116,     0.16216,     0.16316,     0.16416,     0.16517,     0.16617,     0.16717,\n",
       "           0.16817,     0.16917,     0.17017,     0.17117,     0.17217,     0.17317,     0.17417,     0.17518,     0.17618,     0.17718,     0.17818,     0.17918,     0.18018,     0.18118,     0.18218,     0.18318,     0.18418,     0.18519,     0.18619,     0.18719,     0.18819,     0.18919,     0.19019,     0.19119,\n",
       "           0.19219,     0.19319,     0.19419,      0.1952,      0.1962,      0.1972,      0.1982,      0.1992,      0.2002,      0.2012,      0.2022,      0.2032,      0.2042,     0.20521,     0.20621,     0.20721,     0.20821,     0.20921,     0.21021,     0.21121,     0.21221,     0.21321,     0.21421,     0.21522,\n",
       "           0.21622,     0.21722,     0.21822,     0.21922,     0.22022,     0.22122,     0.22222,     0.22322,     0.22422,     0.22523,     0.22623,     0.22723,     0.22823,     0.22923,     0.23023,     0.23123,     0.23223,     0.23323,     0.23423,     0.23524,     0.23624,     0.23724,     0.23824,     0.23924,\n",
       "           0.24024,     0.24124,     0.24224,     0.24324,     0.24424,     0.24525,     0.24625,     0.24725,     0.24825,     0.24925,     0.25025,     0.25125,     0.25225,     0.25325,     0.25425,     0.25526,     0.25626,     0.25726,     0.25826,     0.25926,     0.26026,     0.26126,     0.26226,     0.26326,\n",
       "           0.26426,     0.26527,     0.26627,     0.26727,     0.26827,     0.26927,     0.27027,     0.27127,     0.27227,     0.27327,     0.27427,     0.27528,     0.27628,     0.27728,     0.27828,     0.27928,     0.28028,     0.28128,     0.28228,     0.28328,     0.28428,     0.28529,     0.28629,     0.28729,\n",
       "           0.28829,     0.28929,     0.29029,     0.29129,     0.29229,     0.29329,     0.29429,      0.2953,      0.2963,      0.2973,      0.2983,      0.2993,      0.3003,      0.3013,      0.3023,      0.3033,      0.3043,     0.30531,     0.30631,     0.30731,     0.30831,     0.30931,     0.31031,     0.31131,\n",
       "           0.31231,     0.31331,     0.31431,     0.31532,     0.31632,     0.31732,     0.31832,     0.31932,     0.32032,     0.32132,     0.32232,     0.32332,     0.32432,     0.32533,     0.32633,     0.32733,     0.32833,     0.32933,     0.33033,     0.33133,     0.33233,     0.33333,     0.33433,     0.33534,\n",
       "           0.33634,     0.33734,     0.33834,     0.33934,     0.34034,     0.34134,     0.34234,     0.34334,     0.34434,     0.34535,     0.34635,     0.34735,     0.34835,     0.34935,     0.35035,     0.35135,     0.35235,     0.35335,     0.35435,     0.35536,     0.35636,     0.35736,     0.35836,     0.35936,\n",
       "           0.36036,     0.36136,     0.36236,     0.36336,     0.36436,     0.36537,     0.36637,     0.36737,     0.36837,     0.36937,     0.37037,     0.37137,     0.37237,     0.37337,     0.37437,     0.37538,     0.37638,     0.37738,     0.37838,     0.37938,     0.38038,     0.38138,     0.38238,     0.38338,\n",
       "           0.38438,     0.38539,     0.38639,     0.38739,     0.38839,     0.38939,     0.39039,     0.39139,     0.39239,     0.39339,     0.39439,      0.3954,      0.3964,      0.3974,      0.3984,      0.3994,      0.4004,      0.4014,      0.4024,      0.4034,      0.4044,     0.40541,     0.40641,     0.40741,\n",
       "           0.40841,     0.40941,     0.41041,     0.41141,     0.41241,     0.41341,     0.41441,     0.41542,     0.41642,     0.41742,     0.41842,     0.41942,     0.42042,     0.42142,     0.42242,     0.42342,     0.42442,     0.42543,     0.42643,     0.42743,     0.42843,     0.42943,     0.43043,     0.43143,\n",
       "           0.43243,     0.43343,     0.43443,     0.43544,     0.43644,     0.43744,     0.43844,     0.43944,     0.44044,     0.44144,     0.44244,     0.44344,     0.44444,     0.44545,     0.44645,     0.44745,     0.44845,     0.44945,     0.45045,     0.45145,     0.45245,     0.45345,     0.45445,     0.45546,\n",
       "           0.45646,     0.45746,     0.45846,     0.45946,     0.46046,     0.46146,     0.46246,     0.46346,     0.46446,     0.46547,     0.46647,     0.46747,     0.46847,     0.46947,     0.47047,     0.47147,     0.47247,     0.47347,     0.47447,     0.47548,     0.47648,     0.47748,     0.47848,     0.47948,\n",
       "           0.48048,     0.48148,     0.48248,     0.48348,     0.48448,     0.48549,     0.48649,     0.48749,     0.48849,     0.48949,     0.49049,     0.49149,     0.49249,     0.49349,     0.49449,      0.4955,      0.4965,      0.4975,      0.4985,      0.4995,      0.5005,      0.5015,      0.5025,      0.5035,\n",
       "            0.5045,     0.50551,     0.50651,     0.50751,     0.50851,     0.50951,     0.51051,     0.51151,     0.51251,     0.51351,     0.51451,     0.51552,     0.51652,     0.51752,     0.51852,     0.51952,     0.52052,     0.52152,     0.52252,     0.52352,     0.52452,     0.52553,     0.52653,     0.52753,\n",
       "           0.52853,     0.52953,     0.53053,     0.53153,     0.53253,     0.53353,     0.53453,     0.53554,     0.53654,     0.53754,     0.53854,     0.53954,     0.54054,     0.54154,     0.54254,     0.54354,     0.54454,     0.54555,     0.54655,     0.54755,     0.54855,     0.54955,     0.55055,     0.55155,\n",
       "           0.55255,     0.55355,     0.55455,     0.55556,     0.55656,     0.55756,     0.55856,     0.55956,     0.56056,     0.56156,     0.56256,     0.56356,     0.56456,     0.56557,     0.56657,     0.56757,     0.56857,     0.56957,     0.57057,     0.57157,     0.57257,     0.57357,     0.57457,     0.57558,\n",
       "           0.57658,     0.57758,     0.57858,     0.57958,     0.58058,     0.58158,     0.58258,     0.58358,     0.58458,     0.58559,     0.58659,     0.58759,     0.58859,     0.58959,     0.59059,     0.59159,     0.59259,     0.59359,     0.59459,      0.5956,      0.5966,      0.5976,      0.5986,      0.5996,\n",
       "            0.6006,      0.6016,      0.6026,      0.6036,      0.6046,     0.60561,     0.60661,     0.60761,     0.60861,     0.60961,     0.61061,     0.61161,     0.61261,     0.61361,     0.61461,     0.61562,     0.61662,     0.61762,     0.61862,     0.61962,     0.62062,     0.62162,     0.62262,     0.62362,\n",
       "           0.62462,     0.62563,     0.62663,     0.62763,     0.62863,     0.62963,     0.63063,     0.63163,     0.63263,     0.63363,     0.63463,     0.63564,     0.63664,     0.63764,     0.63864,     0.63964,     0.64064,     0.64164,     0.64264,     0.64364,     0.64464,     0.64565,     0.64665,     0.64765,\n",
       "           0.64865,     0.64965,     0.65065,     0.65165,     0.65265,     0.65365,     0.65465,     0.65566,     0.65666,     0.65766,     0.65866,     0.65966,     0.66066,     0.66166,     0.66266,     0.66366,     0.66466,     0.66567,     0.66667,     0.66767,     0.66867,     0.66967,     0.67067,     0.67167,\n",
       "           0.67267,     0.67367,     0.67467,     0.67568,     0.67668,     0.67768,     0.67868,     0.67968,     0.68068,     0.68168,     0.68268,     0.68368,     0.68468,     0.68569,     0.68669,     0.68769,     0.68869,     0.68969,     0.69069,     0.69169,     0.69269,     0.69369,     0.69469,      0.6957,\n",
       "            0.6967,      0.6977,      0.6987,      0.6997,      0.7007,      0.7017,      0.7027,      0.7037,      0.7047,     0.70571,     0.70671,     0.70771,     0.70871,     0.70971,     0.71071,     0.71171,     0.71271,     0.71371,     0.71471,     0.71572,     0.71672,     0.71772,     0.71872,     0.71972,\n",
       "           0.72072,     0.72172,     0.72272,     0.72372,     0.72472,     0.72573,     0.72673,     0.72773,     0.72873,     0.72973,     0.73073,     0.73173,     0.73273,     0.73373,     0.73473,     0.73574,     0.73674,     0.73774,     0.73874,     0.73974,     0.74074,     0.74174,     0.74274,     0.74374,\n",
       "           0.74474,     0.74575,     0.74675,     0.74775,     0.74875,     0.74975,     0.75075,     0.75175,     0.75275,     0.75375,     0.75475,     0.75576,     0.75676,     0.75776,     0.75876,     0.75976,     0.76076,     0.76176,     0.76276,     0.76376,     0.76476,     0.76577,     0.76677,     0.76777,\n",
       "           0.76877,     0.76977,     0.77077,     0.77177,     0.77277,     0.77377,     0.77477,     0.77578,     0.77678,     0.77778,     0.77878,     0.77978,     0.78078,     0.78178,     0.78278,     0.78378,     0.78478,     0.78579,     0.78679,     0.78779,     0.78879,     0.78979,     0.79079,     0.79179,\n",
       "           0.79279,     0.79379,     0.79479,      0.7958,      0.7968,      0.7978,      0.7988,      0.7998,      0.8008,      0.8018,      0.8028,      0.8038,      0.8048,     0.80581,     0.80681,     0.80781,     0.80881,     0.80981,     0.81081,     0.81181,     0.81281,     0.81381,     0.81481,     0.81582,\n",
       "           0.81682,     0.81782,     0.81882,     0.81982,     0.82082,     0.82182,     0.82282,     0.82382,     0.82482,     0.82583,     0.82683,     0.82783,     0.82883,     0.82983,     0.83083,     0.83183,     0.83283,     0.83383,     0.83483,     0.83584,     0.83684,     0.83784,     0.83884,     0.83984,\n",
       "           0.84084,     0.84184,     0.84284,     0.84384,     0.84484,     0.84585,     0.84685,     0.84785,     0.84885,     0.84985,     0.85085,     0.85185,     0.85285,     0.85385,     0.85485,     0.85586,     0.85686,     0.85786,     0.85886,     0.85986,     0.86086,     0.86186,     0.86286,     0.86386,\n",
       "           0.86486,     0.86587,     0.86687,     0.86787,     0.86887,     0.86987,     0.87087,     0.87187,     0.87287,     0.87387,     0.87487,     0.87588,     0.87688,     0.87788,     0.87888,     0.87988,     0.88088,     0.88188,     0.88288,     0.88388,     0.88488,     0.88589,     0.88689,     0.88789,\n",
       "           0.88889,     0.88989,     0.89089,     0.89189,     0.89289,     0.89389,     0.89489,      0.8959,      0.8969,      0.8979,      0.8989,      0.8999,      0.9009,      0.9019,      0.9029,      0.9039,      0.9049,     0.90591,     0.90691,     0.90791,     0.90891,     0.90991,     0.91091,     0.91191,\n",
       "           0.91291,     0.91391,     0.91491,     0.91592,     0.91692,     0.91792,     0.91892,     0.91992,     0.92092,     0.92192,     0.92292,     0.92392,     0.92492,     0.92593,     0.92693,     0.92793,     0.92893,     0.92993,     0.93093,     0.93193,     0.93293,     0.93393,     0.93493,     0.93594,\n",
       "           0.93694,     0.93794,     0.93894,     0.93994,     0.94094,     0.94194,     0.94294,     0.94394,     0.94494,     0.94595,     0.94695,     0.94795,     0.94895,     0.94995,     0.95095,     0.95195,     0.95295,     0.95395,     0.95495,     0.95596,     0.95696,     0.95796,     0.95896,     0.95996,\n",
       "           0.96096,     0.96196,     0.96296,     0.96396,     0.96496,     0.96597,     0.96697,     0.96797,     0.96897,     0.96997,     0.97097,     0.97197,     0.97297,     0.97397,     0.97497,     0.97598,     0.97698,     0.97798,     0.97898,     0.97998,     0.98098,     0.98198,     0.98298,     0.98398,\n",
       "           0.98498,     0.98599,     0.98699,     0.98799,     0.98899,     0.98999,     0.99099,     0.99199,     0.99299,     0.99399,     0.99499,       0.996,       0.997,       0.998,       0.999,           1]), array([[   0.025281,    0.025281,    0.033788, ...,           1,           1,           1],\n",
       "       [   0.042553,    0.042553,     0.05462, ...,           1,           1,           1],\n",
       "       [    0.10231,     0.10231,     0.12393, ...,           1,           1,           1],\n",
       "       [    0.13441,     0.13441,     0.18977, ...,           1,           1,           1],\n",
       "       [   0.087838,    0.087838,     0.10889, ...,           1,           1,           1],\n",
       "       [    0.02795,     0.02795,    0.037193, ...,           1,           1,           1]]), 'Confidence', 'Precision'], [array([          0,    0.001001,    0.002002,    0.003003,    0.004004,    0.005005,    0.006006,    0.007007,    0.008008,    0.009009,     0.01001,    0.011011,    0.012012,    0.013013,    0.014014,    0.015015,    0.016016,    0.017017,    0.018018,    0.019019,     0.02002,    0.021021,    0.022022,    0.023023,\n",
       "          0.024024,    0.025025,    0.026026,    0.027027,    0.028028,    0.029029,     0.03003,    0.031031,    0.032032,    0.033033,    0.034034,    0.035035,    0.036036,    0.037037,    0.038038,    0.039039,     0.04004,    0.041041,    0.042042,    0.043043,    0.044044,    0.045045,    0.046046,    0.047047,\n",
       "          0.048048,    0.049049,     0.05005,    0.051051,    0.052052,    0.053053,    0.054054,    0.055055,    0.056056,    0.057057,    0.058058,    0.059059,     0.06006,    0.061061,    0.062062,    0.063063,    0.064064,    0.065065,    0.066066,    0.067067,    0.068068,    0.069069,     0.07007,    0.071071,\n",
       "          0.072072,    0.073073,    0.074074,    0.075075,    0.076076,    0.077077,    0.078078,    0.079079,     0.08008,    0.081081,    0.082082,    0.083083,    0.084084,    0.085085,    0.086086,    0.087087,    0.088088,    0.089089,     0.09009,    0.091091,    0.092092,    0.093093,    0.094094,    0.095095,\n",
       "          0.096096,    0.097097,    0.098098,    0.099099,      0.1001,      0.1011,      0.1021,      0.1031,      0.1041,     0.10511,     0.10611,     0.10711,     0.10811,     0.10911,     0.11011,     0.11111,     0.11211,     0.11311,     0.11411,     0.11512,     0.11612,     0.11712,     0.11812,     0.11912,\n",
       "           0.12012,     0.12112,     0.12212,     0.12312,     0.12412,     0.12513,     0.12613,     0.12713,     0.12813,     0.12913,     0.13013,     0.13113,     0.13213,     0.13313,     0.13413,     0.13514,     0.13614,     0.13714,     0.13814,     0.13914,     0.14014,     0.14114,     0.14214,     0.14314,\n",
       "           0.14414,     0.14515,     0.14615,     0.14715,     0.14815,     0.14915,     0.15015,     0.15115,     0.15215,     0.15315,     0.15415,     0.15516,     0.15616,     0.15716,     0.15816,     0.15916,     0.16016,     0.16116,     0.16216,     0.16316,     0.16416,     0.16517,     0.16617,     0.16717,\n",
       "           0.16817,     0.16917,     0.17017,     0.17117,     0.17217,     0.17317,     0.17417,     0.17518,     0.17618,     0.17718,     0.17818,     0.17918,     0.18018,     0.18118,     0.18218,     0.18318,     0.18418,     0.18519,     0.18619,     0.18719,     0.18819,     0.18919,     0.19019,     0.19119,\n",
       "           0.19219,     0.19319,     0.19419,      0.1952,      0.1962,      0.1972,      0.1982,      0.1992,      0.2002,      0.2012,      0.2022,      0.2032,      0.2042,     0.20521,     0.20621,     0.20721,     0.20821,     0.20921,     0.21021,     0.21121,     0.21221,     0.21321,     0.21421,     0.21522,\n",
       "           0.21622,     0.21722,     0.21822,     0.21922,     0.22022,     0.22122,     0.22222,     0.22322,     0.22422,     0.22523,     0.22623,     0.22723,     0.22823,     0.22923,     0.23023,     0.23123,     0.23223,     0.23323,     0.23423,     0.23524,     0.23624,     0.23724,     0.23824,     0.23924,\n",
       "           0.24024,     0.24124,     0.24224,     0.24324,     0.24424,     0.24525,     0.24625,     0.24725,     0.24825,     0.24925,     0.25025,     0.25125,     0.25225,     0.25325,     0.25425,     0.25526,     0.25626,     0.25726,     0.25826,     0.25926,     0.26026,     0.26126,     0.26226,     0.26326,\n",
       "           0.26426,     0.26527,     0.26627,     0.26727,     0.26827,     0.26927,     0.27027,     0.27127,     0.27227,     0.27327,     0.27427,     0.27528,     0.27628,     0.27728,     0.27828,     0.27928,     0.28028,     0.28128,     0.28228,     0.28328,     0.28428,     0.28529,     0.28629,     0.28729,\n",
       "           0.28829,     0.28929,     0.29029,     0.29129,     0.29229,     0.29329,     0.29429,      0.2953,      0.2963,      0.2973,      0.2983,      0.2993,      0.3003,      0.3013,      0.3023,      0.3033,      0.3043,     0.30531,     0.30631,     0.30731,     0.30831,     0.30931,     0.31031,     0.31131,\n",
       "           0.31231,     0.31331,     0.31431,     0.31532,     0.31632,     0.31732,     0.31832,     0.31932,     0.32032,     0.32132,     0.32232,     0.32332,     0.32432,     0.32533,     0.32633,     0.32733,     0.32833,     0.32933,     0.33033,     0.33133,     0.33233,     0.33333,     0.33433,     0.33534,\n",
       "           0.33634,     0.33734,     0.33834,     0.33934,     0.34034,     0.34134,     0.34234,     0.34334,     0.34434,     0.34535,     0.34635,     0.34735,     0.34835,     0.34935,     0.35035,     0.35135,     0.35235,     0.35335,     0.35435,     0.35536,     0.35636,     0.35736,     0.35836,     0.35936,\n",
       "           0.36036,     0.36136,     0.36236,     0.36336,     0.36436,     0.36537,     0.36637,     0.36737,     0.36837,     0.36937,     0.37037,     0.37137,     0.37237,     0.37337,     0.37437,     0.37538,     0.37638,     0.37738,     0.37838,     0.37938,     0.38038,     0.38138,     0.38238,     0.38338,\n",
       "           0.38438,     0.38539,     0.38639,     0.38739,     0.38839,     0.38939,     0.39039,     0.39139,     0.39239,     0.39339,     0.39439,      0.3954,      0.3964,      0.3974,      0.3984,      0.3994,      0.4004,      0.4014,      0.4024,      0.4034,      0.4044,     0.40541,     0.40641,     0.40741,\n",
       "           0.40841,     0.40941,     0.41041,     0.41141,     0.41241,     0.41341,     0.41441,     0.41542,     0.41642,     0.41742,     0.41842,     0.41942,     0.42042,     0.42142,     0.42242,     0.42342,     0.42442,     0.42543,     0.42643,     0.42743,     0.42843,     0.42943,     0.43043,     0.43143,\n",
       "           0.43243,     0.43343,     0.43443,     0.43544,     0.43644,     0.43744,     0.43844,     0.43944,     0.44044,     0.44144,     0.44244,     0.44344,     0.44444,     0.44545,     0.44645,     0.44745,     0.44845,     0.44945,     0.45045,     0.45145,     0.45245,     0.45345,     0.45445,     0.45546,\n",
       "           0.45646,     0.45746,     0.45846,     0.45946,     0.46046,     0.46146,     0.46246,     0.46346,     0.46446,     0.46547,     0.46647,     0.46747,     0.46847,     0.46947,     0.47047,     0.47147,     0.47247,     0.47347,     0.47447,     0.47548,     0.47648,     0.47748,     0.47848,     0.47948,\n",
       "           0.48048,     0.48148,     0.48248,     0.48348,     0.48448,     0.48549,     0.48649,     0.48749,     0.48849,     0.48949,     0.49049,     0.49149,     0.49249,     0.49349,     0.49449,      0.4955,      0.4965,      0.4975,      0.4985,      0.4995,      0.5005,      0.5015,      0.5025,      0.5035,\n",
       "            0.5045,     0.50551,     0.50651,     0.50751,     0.50851,     0.50951,     0.51051,     0.51151,     0.51251,     0.51351,     0.51451,     0.51552,     0.51652,     0.51752,     0.51852,     0.51952,     0.52052,     0.52152,     0.52252,     0.52352,     0.52452,     0.52553,     0.52653,     0.52753,\n",
       "           0.52853,     0.52953,     0.53053,     0.53153,     0.53253,     0.53353,     0.53453,     0.53554,     0.53654,     0.53754,     0.53854,     0.53954,     0.54054,     0.54154,     0.54254,     0.54354,     0.54454,     0.54555,     0.54655,     0.54755,     0.54855,     0.54955,     0.55055,     0.55155,\n",
       "           0.55255,     0.55355,     0.55455,     0.55556,     0.55656,     0.55756,     0.55856,     0.55956,     0.56056,     0.56156,     0.56256,     0.56356,     0.56456,     0.56557,     0.56657,     0.56757,     0.56857,     0.56957,     0.57057,     0.57157,     0.57257,     0.57357,     0.57457,     0.57558,\n",
       "           0.57658,     0.57758,     0.57858,     0.57958,     0.58058,     0.58158,     0.58258,     0.58358,     0.58458,     0.58559,     0.58659,     0.58759,     0.58859,     0.58959,     0.59059,     0.59159,     0.59259,     0.59359,     0.59459,      0.5956,      0.5966,      0.5976,      0.5986,      0.5996,\n",
       "            0.6006,      0.6016,      0.6026,      0.6036,      0.6046,     0.60561,     0.60661,     0.60761,     0.60861,     0.60961,     0.61061,     0.61161,     0.61261,     0.61361,     0.61461,     0.61562,     0.61662,     0.61762,     0.61862,     0.61962,     0.62062,     0.62162,     0.62262,     0.62362,\n",
       "           0.62462,     0.62563,     0.62663,     0.62763,     0.62863,     0.62963,     0.63063,     0.63163,     0.63263,     0.63363,     0.63463,     0.63564,     0.63664,     0.63764,     0.63864,     0.63964,     0.64064,     0.64164,     0.64264,     0.64364,     0.64464,     0.64565,     0.64665,     0.64765,\n",
       "           0.64865,     0.64965,     0.65065,     0.65165,     0.65265,     0.65365,     0.65465,     0.65566,     0.65666,     0.65766,     0.65866,     0.65966,     0.66066,     0.66166,     0.66266,     0.66366,     0.66466,     0.66567,     0.66667,     0.66767,     0.66867,     0.66967,     0.67067,     0.67167,\n",
       "           0.67267,     0.67367,     0.67467,     0.67568,     0.67668,     0.67768,     0.67868,     0.67968,     0.68068,     0.68168,     0.68268,     0.68368,     0.68468,     0.68569,     0.68669,     0.68769,     0.68869,     0.68969,     0.69069,     0.69169,     0.69269,     0.69369,     0.69469,      0.6957,\n",
       "            0.6967,      0.6977,      0.6987,      0.6997,      0.7007,      0.7017,      0.7027,      0.7037,      0.7047,     0.70571,     0.70671,     0.70771,     0.70871,     0.70971,     0.71071,     0.71171,     0.71271,     0.71371,     0.71471,     0.71572,     0.71672,     0.71772,     0.71872,     0.71972,\n",
       "           0.72072,     0.72172,     0.72272,     0.72372,     0.72472,     0.72573,     0.72673,     0.72773,     0.72873,     0.72973,     0.73073,     0.73173,     0.73273,     0.73373,     0.73473,     0.73574,     0.73674,     0.73774,     0.73874,     0.73974,     0.74074,     0.74174,     0.74274,     0.74374,\n",
       "           0.74474,     0.74575,     0.74675,     0.74775,     0.74875,     0.74975,     0.75075,     0.75175,     0.75275,     0.75375,     0.75475,     0.75576,     0.75676,     0.75776,     0.75876,     0.75976,     0.76076,     0.76176,     0.76276,     0.76376,     0.76476,     0.76577,     0.76677,     0.76777,\n",
       "           0.76877,     0.76977,     0.77077,     0.77177,     0.77277,     0.77377,     0.77477,     0.77578,     0.77678,     0.77778,     0.77878,     0.77978,     0.78078,     0.78178,     0.78278,     0.78378,     0.78478,     0.78579,     0.78679,     0.78779,     0.78879,     0.78979,     0.79079,     0.79179,\n",
       "           0.79279,     0.79379,     0.79479,      0.7958,      0.7968,      0.7978,      0.7988,      0.7998,      0.8008,      0.8018,      0.8028,      0.8038,      0.8048,     0.80581,     0.80681,     0.80781,     0.80881,     0.80981,     0.81081,     0.81181,     0.81281,     0.81381,     0.81481,     0.81582,\n",
       "           0.81682,     0.81782,     0.81882,     0.81982,     0.82082,     0.82182,     0.82282,     0.82382,     0.82482,     0.82583,     0.82683,     0.82783,     0.82883,     0.82983,     0.83083,     0.83183,     0.83283,     0.83383,     0.83483,     0.83584,     0.83684,     0.83784,     0.83884,     0.83984,\n",
       "           0.84084,     0.84184,     0.84284,     0.84384,     0.84484,     0.84585,     0.84685,     0.84785,     0.84885,     0.84985,     0.85085,     0.85185,     0.85285,     0.85385,     0.85485,     0.85586,     0.85686,     0.85786,     0.85886,     0.85986,     0.86086,     0.86186,     0.86286,     0.86386,\n",
       "           0.86486,     0.86587,     0.86687,     0.86787,     0.86887,     0.86987,     0.87087,     0.87187,     0.87287,     0.87387,     0.87487,     0.87588,     0.87688,     0.87788,     0.87888,     0.87988,     0.88088,     0.88188,     0.88288,     0.88388,     0.88488,     0.88589,     0.88689,     0.88789,\n",
       "           0.88889,     0.88989,     0.89089,     0.89189,     0.89289,     0.89389,     0.89489,      0.8959,      0.8969,      0.8979,      0.8989,      0.8999,      0.9009,      0.9019,      0.9029,      0.9039,      0.9049,     0.90591,     0.90691,     0.90791,     0.90891,     0.90991,     0.91091,     0.91191,\n",
       "           0.91291,     0.91391,     0.91491,     0.91592,     0.91692,     0.91792,     0.91892,     0.91992,     0.92092,     0.92192,     0.92292,     0.92392,     0.92492,     0.92593,     0.92693,     0.92793,     0.92893,     0.92993,     0.93093,     0.93193,     0.93293,     0.93393,     0.93493,     0.93594,\n",
       "           0.93694,     0.93794,     0.93894,     0.93994,     0.94094,     0.94194,     0.94294,     0.94394,     0.94494,     0.94595,     0.94695,     0.94795,     0.94895,     0.94995,     0.95095,     0.95195,     0.95295,     0.95395,     0.95495,     0.95596,     0.95696,     0.95796,     0.95896,     0.95996,\n",
       "           0.96096,     0.96196,     0.96296,     0.96396,     0.96496,     0.96597,     0.96697,     0.96797,     0.96897,     0.96997,     0.97097,     0.97197,     0.97297,     0.97397,     0.97497,     0.97598,     0.97698,     0.97798,     0.97898,     0.97998,     0.98098,     0.98198,     0.98298,     0.98398,\n",
       "           0.98498,     0.98599,     0.98699,     0.98799,     0.98899,     0.98999,     0.99099,     0.99199,     0.99299,     0.99399,     0.99499,       0.996,       0.997,       0.998,       0.999,           1]), array([[    0.31034,     0.31034,     0.31034, ...,           0,           0,           0],\n",
       "       [    0.54167,     0.54167,     0.47917, ...,           0,           0,           0],\n",
       "       [    0.72093,     0.72093,     0.67442, ...,           0,           0,           0],\n",
       "       [    0.69444,     0.69444,     0.69444, ...,           0,           0,           0],\n",
       "       [       0.65,        0.65,        0.55, ...,           0,           0,           0],\n",
       "       [    0.32143,     0.32143,     0.28571, ...,           0,           0,           0]]), 'Confidence', 'Recall']]\n",
       "fitness: 0.11904911306991718\n",
       "keys: ['metrics/precision(B)', 'metrics/recall(B)', 'metrics/mAP50(B)', 'metrics/mAP50-95(B)']\n",
       "maps: array([  0.0093246,     0.02908,     0.22569,     0.10213,     0.23314,     0.10574,   0.0097953])\n",
       "names: {0: 'elbow positive', 1: 'fingers positive', 2: 'forearm fracture', 3: 'humerus fracture', 4: 'humerus', 5: 'shoulder fracture', 6: 'wrist positive'}\n",
       "plot: True\n",
       "results_dict: {'metrics/precision(B)': 0.3512446041923096, 'metrics/recall(B)': 0.25281674056608944, 'metrics/mAP50(B)': 0.27133498796480077, 'metrics/mAP50-95(B)': 0.102128460303819, 'fitness': 0.11904911306991718}\n",
       "save_dir: WindowsPath('bone_detection/bone_yolov8')\n",
       "speed: {'preprocess': 0.20094164486589103, 'inference': 1.6491282945391774, 'loss': 0.0, 'postprocess': 0.7868032345826598}\n",
       "task: 'detect'"
      ]
     },
     "execution_count": 6,
     "metadata": {},
     "output_type": "execute_result"
    }
   ],
   "source": [
    "model.train(\n",
    "    data=yaml_path,          #Path to the YAML file\n",
    "    epochs=50,               #Number of training epochs\n",
    "    imgsz=640,               #Image size (resize input images to 640x640)\n",
    "    batch=16,                #Batch size\n",
    "    project=\"bone_detection\",  #Directory to save training results\n",
    "    name=\"bone_yolov8\",       #Sub-directory name for this experiment\n",
    "    device=0                  #Use GPU if available (set device='cpu' to use CPU)\n",
    ")"
   ]
  },
  {
   "cell_type": "code",
   "execution_count": 7,
   "metadata": {},
   "outputs": [
    {
     "name": "stdout",
     "output_type": "stream",
     "text": [
      "Ultralytics 8.3.63  Python-3.12.4 torch-2.2.2+cu121 CUDA:0 (NVIDIA GeForce RTX 3060 Laptop GPU, 6144MiB)\n",
      "Model summary (fused): 168 layers, 3,007,013 parameters, 0 gradients, 8.1 GFLOPs\n"
     ]
    },
    {
     "name": "stderr",
     "output_type": "stream",
     "text": [
      "\u001b[34m\u001b[1mval: \u001b[0mScanning D:\\Bone\\bone fracture detection.v4-v4.yolov8\\valid\\labels.cache... 348 images, 175 backgrounds, 0 corrupt: 100%|██████████| 348/348 [00:00<?, ?it/s]\n",
      "                 Class     Images  Instances      Box(P          R      mAP50  mAP50-95): 100%|██████████| 22/22 [00:03<00:00,  6.73it/s]\n"
     ]
    },
    {
     "name": "stdout",
     "output_type": "stream",
     "text": [
      "                   all        348        204      0.343      0.261      0.272      0.101\n",
      "        elbow positive         28         29      0.107      0.103     0.0593      0.012\n",
      "      fingers positive         41         48      0.225      0.146     0.0935     0.0284\n",
      "      forearm fracture         37         43      0.646      0.509      0.585      0.231\n",
      "               humerus         31         36      0.739      0.556      0.628       0.23\n",
      "     shoulder fracture         19         20      0.341       0.25       0.23     0.0938\n",
      "        wrist positive         17         28          0          0     0.0336    0.00991\n",
      "Speed: 0.3ms preprocess, 5.2ms inference, 0.0ms loss, 0.9ms postprocess per image\n",
      "Results saved to \u001b[1mbone_detection\\bone_yolov82\u001b[0m\n",
      "Validation metrics: ultralytics.utils.metrics.DetMetrics object with attributes:\n",
      "\n",
      "ap_class_index: array([0, 1, 2, 4, 5, 6])\n",
      "box: ultralytics.utils.metrics.Metric object\n",
      "confusion_matrix: <ultralytics.utils.metrics.ConfusionMatrix object at 0x000002121B5F7AA0>\n",
      "curves: ['Precision-Recall(B)', 'F1-Confidence(B)', 'Precision-Confidence(B)', 'Recall-Confidence(B)']\n",
      "curves_results: [[array([          0,    0.001001,    0.002002,    0.003003,    0.004004,    0.005005,    0.006006,    0.007007,    0.008008,    0.009009,     0.01001,    0.011011,    0.012012,    0.013013,    0.014014,    0.015015,    0.016016,    0.017017,    0.018018,    0.019019,     0.02002,    0.021021,    0.022022,    0.023023,\n",
      "          0.024024,    0.025025,    0.026026,    0.027027,    0.028028,    0.029029,     0.03003,    0.031031,    0.032032,    0.033033,    0.034034,    0.035035,    0.036036,    0.037037,    0.038038,    0.039039,     0.04004,    0.041041,    0.042042,    0.043043,    0.044044,    0.045045,    0.046046,    0.047047,\n",
      "          0.048048,    0.049049,     0.05005,    0.051051,    0.052052,    0.053053,    0.054054,    0.055055,    0.056056,    0.057057,    0.058058,    0.059059,     0.06006,    0.061061,    0.062062,    0.063063,    0.064064,    0.065065,    0.066066,    0.067067,    0.068068,    0.069069,     0.07007,    0.071071,\n",
      "          0.072072,    0.073073,    0.074074,    0.075075,    0.076076,    0.077077,    0.078078,    0.079079,     0.08008,    0.081081,    0.082082,    0.083083,    0.084084,    0.085085,    0.086086,    0.087087,    0.088088,    0.089089,     0.09009,    0.091091,    0.092092,    0.093093,    0.094094,    0.095095,\n",
      "          0.096096,    0.097097,    0.098098,    0.099099,      0.1001,      0.1011,      0.1021,      0.1031,      0.1041,     0.10511,     0.10611,     0.10711,     0.10811,     0.10911,     0.11011,     0.11111,     0.11211,     0.11311,     0.11411,     0.11512,     0.11612,     0.11712,     0.11812,     0.11912,\n",
      "           0.12012,     0.12112,     0.12212,     0.12312,     0.12412,     0.12513,     0.12613,     0.12713,     0.12813,     0.12913,     0.13013,     0.13113,     0.13213,     0.13313,     0.13413,     0.13514,     0.13614,     0.13714,     0.13814,     0.13914,     0.14014,     0.14114,     0.14214,     0.14314,\n",
      "           0.14414,     0.14515,     0.14615,     0.14715,     0.14815,     0.14915,     0.15015,     0.15115,     0.15215,     0.15315,     0.15415,     0.15516,     0.15616,     0.15716,     0.15816,     0.15916,     0.16016,     0.16116,     0.16216,     0.16316,     0.16416,     0.16517,     0.16617,     0.16717,\n",
      "           0.16817,     0.16917,     0.17017,     0.17117,     0.17217,     0.17317,     0.17417,     0.17518,     0.17618,     0.17718,     0.17818,     0.17918,     0.18018,     0.18118,     0.18218,     0.18318,     0.18418,     0.18519,     0.18619,     0.18719,     0.18819,     0.18919,     0.19019,     0.19119,\n",
      "           0.19219,     0.19319,     0.19419,      0.1952,      0.1962,      0.1972,      0.1982,      0.1992,      0.2002,      0.2012,      0.2022,      0.2032,      0.2042,     0.20521,     0.20621,     0.20721,     0.20821,     0.20921,     0.21021,     0.21121,     0.21221,     0.21321,     0.21421,     0.21522,\n",
      "           0.21622,     0.21722,     0.21822,     0.21922,     0.22022,     0.22122,     0.22222,     0.22322,     0.22422,     0.22523,     0.22623,     0.22723,     0.22823,     0.22923,     0.23023,     0.23123,     0.23223,     0.23323,     0.23423,     0.23524,     0.23624,     0.23724,     0.23824,     0.23924,\n",
      "           0.24024,     0.24124,     0.24224,     0.24324,     0.24424,     0.24525,     0.24625,     0.24725,     0.24825,     0.24925,     0.25025,     0.25125,     0.25225,     0.25325,     0.25425,     0.25526,     0.25626,     0.25726,     0.25826,     0.25926,     0.26026,     0.26126,     0.26226,     0.26326,\n",
      "           0.26426,     0.26527,     0.26627,     0.26727,     0.26827,     0.26927,     0.27027,     0.27127,     0.27227,     0.27327,     0.27427,     0.27528,     0.27628,     0.27728,     0.27828,     0.27928,     0.28028,     0.28128,     0.28228,     0.28328,     0.28428,     0.28529,     0.28629,     0.28729,\n",
      "           0.28829,     0.28929,     0.29029,     0.29129,     0.29229,     0.29329,     0.29429,      0.2953,      0.2963,      0.2973,      0.2983,      0.2993,      0.3003,      0.3013,      0.3023,      0.3033,      0.3043,     0.30531,     0.30631,     0.30731,     0.30831,     0.30931,     0.31031,     0.31131,\n",
      "           0.31231,     0.31331,     0.31431,     0.31532,     0.31632,     0.31732,     0.31832,     0.31932,     0.32032,     0.32132,     0.32232,     0.32332,     0.32432,     0.32533,     0.32633,     0.32733,     0.32833,     0.32933,     0.33033,     0.33133,     0.33233,     0.33333,     0.33433,     0.33534,\n",
      "           0.33634,     0.33734,     0.33834,     0.33934,     0.34034,     0.34134,     0.34234,     0.34334,     0.34434,     0.34535,     0.34635,     0.34735,     0.34835,     0.34935,     0.35035,     0.35135,     0.35235,     0.35335,     0.35435,     0.35536,     0.35636,     0.35736,     0.35836,     0.35936,\n",
      "           0.36036,     0.36136,     0.36236,     0.36336,     0.36436,     0.36537,     0.36637,     0.36737,     0.36837,     0.36937,     0.37037,     0.37137,     0.37237,     0.37337,     0.37437,     0.37538,     0.37638,     0.37738,     0.37838,     0.37938,     0.38038,     0.38138,     0.38238,     0.38338,\n",
      "           0.38438,     0.38539,     0.38639,     0.38739,     0.38839,     0.38939,     0.39039,     0.39139,     0.39239,     0.39339,     0.39439,      0.3954,      0.3964,      0.3974,      0.3984,      0.3994,      0.4004,      0.4014,      0.4024,      0.4034,      0.4044,     0.40541,     0.40641,     0.40741,\n",
      "           0.40841,     0.40941,     0.41041,     0.41141,     0.41241,     0.41341,     0.41441,     0.41542,     0.41642,     0.41742,     0.41842,     0.41942,     0.42042,     0.42142,     0.42242,     0.42342,     0.42442,     0.42543,     0.42643,     0.42743,     0.42843,     0.42943,     0.43043,     0.43143,\n",
      "           0.43243,     0.43343,     0.43443,     0.43544,     0.43644,     0.43744,     0.43844,     0.43944,     0.44044,     0.44144,     0.44244,     0.44344,     0.44444,     0.44545,     0.44645,     0.44745,     0.44845,     0.44945,     0.45045,     0.45145,     0.45245,     0.45345,     0.45445,     0.45546,\n",
      "           0.45646,     0.45746,     0.45846,     0.45946,     0.46046,     0.46146,     0.46246,     0.46346,     0.46446,     0.46547,     0.46647,     0.46747,     0.46847,     0.46947,     0.47047,     0.47147,     0.47247,     0.47347,     0.47447,     0.47548,     0.47648,     0.47748,     0.47848,     0.47948,\n",
      "           0.48048,     0.48148,     0.48248,     0.48348,     0.48448,     0.48549,     0.48649,     0.48749,     0.48849,     0.48949,     0.49049,     0.49149,     0.49249,     0.49349,     0.49449,      0.4955,      0.4965,      0.4975,      0.4985,      0.4995,      0.5005,      0.5015,      0.5025,      0.5035,\n",
      "            0.5045,     0.50551,     0.50651,     0.50751,     0.50851,     0.50951,     0.51051,     0.51151,     0.51251,     0.51351,     0.51451,     0.51552,     0.51652,     0.51752,     0.51852,     0.51952,     0.52052,     0.52152,     0.52252,     0.52352,     0.52452,     0.52553,     0.52653,     0.52753,\n",
      "           0.52853,     0.52953,     0.53053,     0.53153,     0.53253,     0.53353,     0.53453,     0.53554,     0.53654,     0.53754,     0.53854,     0.53954,     0.54054,     0.54154,     0.54254,     0.54354,     0.54454,     0.54555,     0.54655,     0.54755,     0.54855,     0.54955,     0.55055,     0.55155,\n",
      "           0.55255,     0.55355,     0.55455,     0.55556,     0.55656,     0.55756,     0.55856,     0.55956,     0.56056,     0.56156,     0.56256,     0.56356,     0.56456,     0.56557,     0.56657,     0.56757,     0.56857,     0.56957,     0.57057,     0.57157,     0.57257,     0.57357,     0.57457,     0.57558,\n",
      "           0.57658,     0.57758,     0.57858,     0.57958,     0.58058,     0.58158,     0.58258,     0.58358,     0.58458,     0.58559,     0.58659,     0.58759,     0.58859,     0.58959,     0.59059,     0.59159,     0.59259,     0.59359,     0.59459,      0.5956,      0.5966,      0.5976,      0.5986,      0.5996,\n",
      "            0.6006,      0.6016,      0.6026,      0.6036,      0.6046,     0.60561,     0.60661,     0.60761,     0.60861,     0.60961,     0.61061,     0.61161,     0.61261,     0.61361,     0.61461,     0.61562,     0.61662,     0.61762,     0.61862,     0.61962,     0.62062,     0.62162,     0.62262,     0.62362,\n",
      "           0.62462,     0.62563,     0.62663,     0.62763,     0.62863,     0.62963,     0.63063,     0.63163,     0.63263,     0.63363,     0.63463,     0.63564,     0.63664,     0.63764,     0.63864,     0.63964,     0.64064,     0.64164,     0.64264,     0.64364,     0.64464,     0.64565,     0.64665,     0.64765,\n",
      "           0.64865,     0.64965,     0.65065,     0.65165,     0.65265,     0.65365,     0.65465,     0.65566,     0.65666,     0.65766,     0.65866,     0.65966,     0.66066,     0.66166,     0.66266,     0.66366,     0.66466,     0.66567,     0.66667,     0.66767,     0.66867,     0.66967,     0.67067,     0.67167,\n",
      "           0.67267,     0.67367,     0.67467,     0.67568,     0.67668,     0.67768,     0.67868,     0.67968,     0.68068,     0.68168,     0.68268,     0.68368,     0.68468,     0.68569,     0.68669,     0.68769,     0.68869,     0.68969,     0.69069,     0.69169,     0.69269,     0.69369,     0.69469,      0.6957,\n",
      "            0.6967,      0.6977,      0.6987,      0.6997,      0.7007,      0.7017,      0.7027,      0.7037,      0.7047,     0.70571,     0.70671,     0.70771,     0.70871,     0.70971,     0.71071,     0.71171,     0.71271,     0.71371,     0.71471,     0.71572,     0.71672,     0.71772,     0.71872,     0.71972,\n",
      "           0.72072,     0.72172,     0.72272,     0.72372,     0.72472,     0.72573,     0.72673,     0.72773,     0.72873,     0.72973,     0.73073,     0.73173,     0.73273,     0.73373,     0.73473,     0.73574,     0.73674,     0.73774,     0.73874,     0.73974,     0.74074,     0.74174,     0.74274,     0.74374,\n",
      "           0.74474,     0.74575,     0.74675,     0.74775,     0.74875,     0.74975,     0.75075,     0.75175,     0.75275,     0.75375,     0.75475,     0.75576,     0.75676,     0.75776,     0.75876,     0.75976,     0.76076,     0.76176,     0.76276,     0.76376,     0.76476,     0.76577,     0.76677,     0.76777,\n",
      "           0.76877,     0.76977,     0.77077,     0.77177,     0.77277,     0.77377,     0.77477,     0.77578,     0.77678,     0.77778,     0.77878,     0.77978,     0.78078,     0.78178,     0.78278,     0.78378,     0.78478,     0.78579,     0.78679,     0.78779,     0.78879,     0.78979,     0.79079,     0.79179,\n",
      "           0.79279,     0.79379,     0.79479,      0.7958,      0.7968,      0.7978,      0.7988,      0.7998,      0.8008,      0.8018,      0.8028,      0.8038,      0.8048,     0.80581,     0.80681,     0.80781,     0.80881,     0.80981,     0.81081,     0.81181,     0.81281,     0.81381,     0.81481,     0.81582,\n",
      "           0.81682,     0.81782,     0.81882,     0.81982,     0.82082,     0.82182,     0.82282,     0.82382,     0.82482,     0.82583,     0.82683,     0.82783,     0.82883,     0.82983,     0.83083,     0.83183,     0.83283,     0.83383,     0.83483,     0.83584,     0.83684,     0.83784,     0.83884,     0.83984,\n",
      "           0.84084,     0.84184,     0.84284,     0.84384,     0.84484,     0.84585,     0.84685,     0.84785,     0.84885,     0.84985,     0.85085,     0.85185,     0.85285,     0.85385,     0.85485,     0.85586,     0.85686,     0.85786,     0.85886,     0.85986,     0.86086,     0.86186,     0.86286,     0.86386,\n",
      "           0.86486,     0.86587,     0.86687,     0.86787,     0.86887,     0.86987,     0.87087,     0.87187,     0.87287,     0.87387,     0.87487,     0.87588,     0.87688,     0.87788,     0.87888,     0.87988,     0.88088,     0.88188,     0.88288,     0.88388,     0.88488,     0.88589,     0.88689,     0.88789,\n",
      "           0.88889,     0.88989,     0.89089,     0.89189,     0.89289,     0.89389,     0.89489,      0.8959,      0.8969,      0.8979,      0.8989,      0.8999,      0.9009,      0.9019,      0.9029,      0.9039,      0.9049,     0.90591,     0.90691,     0.90791,     0.90891,     0.90991,     0.91091,     0.91191,\n",
      "           0.91291,     0.91391,     0.91491,     0.91592,     0.91692,     0.91792,     0.91892,     0.91992,     0.92092,     0.92192,     0.92292,     0.92392,     0.92492,     0.92593,     0.92693,     0.92793,     0.92893,     0.92993,     0.93093,     0.93193,     0.93293,     0.93393,     0.93493,     0.93594,\n",
      "           0.93694,     0.93794,     0.93894,     0.93994,     0.94094,     0.94194,     0.94294,     0.94394,     0.94494,     0.94595,     0.94695,     0.94795,     0.94895,     0.94995,     0.95095,     0.95195,     0.95295,     0.95395,     0.95495,     0.95596,     0.95696,     0.95796,     0.95896,     0.95996,\n",
      "           0.96096,     0.96196,     0.96296,     0.96396,     0.96496,     0.96597,     0.96697,     0.96797,     0.96897,     0.96997,     0.97097,     0.97197,     0.97297,     0.97397,     0.97497,     0.97598,     0.97698,     0.97798,     0.97898,     0.97998,     0.98098,     0.98198,     0.98298,     0.98398,\n",
      "           0.98498,     0.98599,     0.98699,     0.98799,     0.98899,     0.98999,     0.99099,     0.99199,     0.99299,     0.99399,     0.99499,       0.996,       0.997,       0.998,       0.999,           1]), array([[        0.4,         0.4,         0.4, ...,  9.1488e-05,  4.5744e-05,           0],\n",
      "       [        0.5,         0.5,         0.5, ...,  0.00018772,  9.3858e-05,           0],\n",
      "       [          1,           1,           1, ...,  0.00062669,  0.00031334,           0],\n",
      "       [          1,           1,           1, ...,  0.00088065,  0.00044032,           0],\n",
      "       [        0.6,         0.6,         0.6, ...,  0.00042296,  0.00021148,           0],\n",
      "       [   0.083333,    0.083333,    0.083333, ...,  8.4563e-05,  4.2282e-05,           0]]), 'Recall', 'Precision'], [array([          0,    0.001001,    0.002002,    0.003003,    0.004004,    0.005005,    0.006006,    0.007007,    0.008008,    0.009009,     0.01001,    0.011011,    0.012012,    0.013013,    0.014014,    0.015015,    0.016016,    0.017017,    0.018018,    0.019019,     0.02002,    0.021021,    0.022022,    0.023023,\n",
      "          0.024024,    0.025025,    0.026026,    0.027027,    0.028028,    0.029029,     0.03003,    0.031031,    0.032032,    0.033033,    0.034034,    0.035035,    0.036036,    0.037037,    0.038038,    0.039039,     0.04004,    0.041041,    0.042042,    0.043043,    0.044044,    0.045045,    0.046046,    0.047047,\n",
      "          0.048048,    0.049049,     0.05005,    0.051051,    0.052052,    0.053053,    0.054054,    0.055055,    0.056056,    0.057057,    0.058058,    0.059059,     0.06006,    0.061061,    0.062062,    0.063063,    0.064064,    0.065065,    0.066066,    0.067067,    0.068068,    0.069069,     0.07007,    0.071071,\n",
      "          0.072072,    0.073073,    0.074074,    0.075075,    0.076076,    0.077077,    0.078078,    0.079079,     0.08008,    0.081081,    0.082082,    0.083083,    0.084084,    0.085085,    0.086086,    0.087087,    0.088088,    0.089089,     0.09009,    0.091091,    0.092092,    0.093093,    0.094094,    0.095095,\n",
      "          0.096096,    0.097097,    0.098098,    0.099099,      0.1001,      0.1011,      0.1021,      0.1031,      0.1041,     0.10511,     0.10611,     0.10711,     0.10811,     0.10911,     0.11011,     0.11111,     0.11211,     0.11311,     0.11411,     0.11512,     0.11612,     0.11712,     0.11812,     0.11912,\n",
      "           0.12012,     0.12112,     0.12212,     0.12312,     0.12412,     0.12513,     0.12613,     0.12713,     0.12813,     0.12913,     0.13013,     0.13113,     0.13213,     0.13313,     0.13413,     0.13514,     0.13614,     0.13714,     0.13814,     0.13914,     0.14014,     0.14114,     0.14214,     0.14314,\n",
      "           0.14414,     0.14515,     0.14615,     0.14715,     0.14815,     0.14915,     0.15015,     0.15115,     0.15215,     0.15315,     0.15415,     0.15516,     0.15616,     0.15716,     0.15816,     0.15916,     0.16016,     0.16116,     0.16216,     0.16316,     0.16416,     0.16517,     0.16617,     0.16717,\n",
      "           0.16817,     0.16917,     0.17017,     0.17117,     0.17217,     0.17317,     0.17417,     0.17518,     0.17618,     0.17718,     0.17818,     0.17918,     0.18018,     0.18118,     0.18218,     0.18318,     0.18418,     0.18519,     0.18619,     0.18719,     0.18819,     0.18919,     0.19019,     0.19119,\n",
      "           0.19219,     0.19319,     0.19419,      0.1952,      0.1962,      0.1972,      0.1982,      0.1992,      0.2002,      0.2012,      0.2022,      0.2032,      0.2042,     0.20521,     0.20621,     0.20721,     0.20821,     0.20921,     0.21021,     0.21121,     0.21221,     0.21321,     0.21421,     0.21522,\n",
      "           0.21622,     0.21722,     0.21822,     0.21922,     0.22022,     0.22122,     0.22222,     0.22322,     0.22422,     0.22523,     0.22623,     0.22723,     0.22823,     0.22923,     0.23023,     0.23123,     0.23223,     0.23323,     0.23423,     0.23524,     0.23624,     0.23724,     0.23824,     0.23924,\n",
      "           0.24024,     0.24124,     0.24224,     0.24324,     0.24424,     0.24525,     0.24625,     0.24725,     0.24825,     0.24925,     0.25025,     0.25125,     0.25225,     0.25325,     0.25425,     0.25526,     0.25626,     0.25726,     0.25826,     0.25926,     0.26026,     0.26126,     0.26226,     0.26326,\n",
      "           0.26426,     0.26527,     0.26627,     0.26727,     0.26827,     0.26927,     0.27027,     0.27127,     0.27227,     0.27327,     0.27427,     0.27528,     0.27628,     0.27728,     0.27828,     0.27928,     0.28028,     0.28128,     0.28228,     0.28328,     0.28428,     0.28529,     0.28629,     0.28729,\n",
      "           0.28829,     0.28929,     0.29029,     0.29129,     0.29229,     0.29329,     0.29429,      0.2953,      0.2963,      0.2973,      0.2983,      0.2993,      0.3003,      0.3013,      0.3023,      0.3033,      0.3043,     0.30531,     0.30631,     0.30731,     0.30831,     0.30931,     0.31031,     0.31131,\n",
      "           0.31231,     0.31331,     0.31431,     0.31532,     0.31632,     0.31732,     0.31832,     0.31932,     0.32032,     0.32132,     0.32232,     0.32332,     0.32432,     0.32533,     0.32633,     0.32733,     0.32833,     0.32933,     0.33033,     0.33133,     0.33233,     0.33333,     0.33433,     0.33534,\n",
      "           0.33634,     0.33734,     0.33834,     0.33934,     0.34034,     0.34134,     0.34234,     0.34334,     0.34434,     0.34535,     0.34635,     0.34735,     0.34835,     0.34935,     0.35035,     0.35135,     0.35235,     0.35335,     0.35435,     0.35536,     0.35636,     0.35736,     0.35836,     0.35936,\n",
      "           0.36036,     0.36136,     0.36236,     0.36336,     0.36436,     0.36537,     0.36637,     0.36737,     0.36837,     0.36937,     0.37037,     0.37137,     0.37237,     0.37337,     0.37437,     0.37538,     0.37638,     0.37738,     0.37838,     0.37938,     0.38038,     0.38138,     0.38238,     0.38338,\n",
      "           0.38438,     0.38539,     0.38639,     0.38739,     0.38839,     0.38939,     0.39039,     0.39139,     0.39239,     0.39339,     0.39439,      0.3954,      0.3964,      0.3974,      0.3984,      0.3994,      0.4004,      0.4014,      0.4024,      0.4034,      0.4044,     0.40541,     0.40641,     0.40741,\n",
      "           0.40841,     0.40941,     0.41041,     0.41141,     0.41241,     0.41341,     0.41441,     0.41542,     0.41642,     0.41742,     0.41842,     0.41942,     0.42042,     0.42142,     0.42242,     0.42342,     0.42442,     0.42543,     0.42643,     0.42743,     0.42843,     0.42943,     0.43043,     0.43143,\n",
      "           0.43243,     0.43343,     0.43443,     0.43544,     0.43644,     0.43744,     0.43844,     0.43944,     0.44044,     0.44144,     0.44244,     0.44344,     0.44444,     0.44545,     0.44645,     0.44745,     0.44845,     0.44945,     0.45045,     0.45145,     0.45245,     0.45345,     0.45445,     0.45546,\n",
      "           0.45646,     0.45746,     0.45846,     0.45946,     0.46046,     0.46146,     0.46246,     0.46346,     0.46446,     0.46547,     0.46647,     0.46747,     0.46847,     0.46947,     0.47047,     0.47147,     0.47247,     0.47347,     0.47447,     0.47548,     0.47648,     0.47748,     0.47848,     0.47948,\n",
      "           0.48048,     0.48148,     0.48248,     0.48348,     0.48448,     0.48549,     0.48649,     0.48749,     0.48849,     0.48949,     0.49049,     0.49149,     0.49249,     0.49349,     0.49449,      0.4955,      0.4965,      0.4975,      0.4985,      0.4995,      0.5005,      0.5015,      0.5025,      0.5035,\n",
      "            0.5045,     0.50551,     0.50651,     0.50751,     0.50851,     0.50951,     0.51051,     0.51151,     0.51251,     0.51351,     0.51451,     0.51552,     0.51652,     0.51752,     0.51852,     0.51952,     0.52052,     0.52152,     0.52252,     0.52352,     0.52452,     0.52553,     0.52653,     0.52753,\n",
      "           0.52853,     0.52953,     0.53053,     0.53153,     0.53253,     0.53353,     0.53453,     0.53554,     0.53654,     0.53754,     0.53854,     0.53954,     0.54054,     0.54154,     0.54254,     0.54354,     0.54454,     0.54555,     0.54655,     0.54755,     0.54855,     0.54955,     0.55055,     0.55155,\n",
      "           0.55255,     0.55355,     0.55455,     0.55556,     0.55656,     0.55756,     0.55856,     0.55956,     0.56056,     0.56156,     0.56256,     0.56356,     0.56456,     0.56557,     0.56657,     0.56757,     0.56857,     0.56957,     0.57057,     0.57157,     0.57257,     0.57357,     0.57457,     0.57558,\n",
      "           0.57658,     0.57758,     0.57858,     0.57958,     0.58058,     0.58158,     0.58258,     0.58358,     0.58458,     0.58559,     0.58659,     0.58759,     0.58859,     0.58959,     0.59059,     0.59159,     0.59259,     0.59359,     0.59459,      0.5956,      0.5966,      0.5976,      0.5986,      0.5996,\n",
      "            0.6006,      0.6016,      0.6026,      0.6036,      0.6046,     0.60561,     0.60661,     0.60761,     0.60861,     0.60961,     0.61061,     0.61161,     0.61261,     0.61361,     0.61461,     0.61562,     0.61662,     0.61762,     0.61862,     0.61962,     0.62062,     0.62162,     0.62262,     0.62362,\n",
      "           0.62462,     0.62563,     0.62663,     0.62763,     0.62863,     0.62963,     0.63063,     0.63163,     0.63263,     0.63363,     0.63463,     0.63564,     0.63664,     0.63764,     0.63864,     0.63964,     0.64064,     0.64164,     0.64264,     0.64364,     0.64464,     0.64565,     0.64665,     0.64765,\n",
      "           0.64865,     0.64965,     0.65065,     0.65165,     0.65265,     0.65365,     0.65465,     0.65566,     0.65666,     0.65766,     0.65866,     0.65966,     0.66066,     0.66166,     0.66266,     0.66366,     0.66466,     0.66567,     0.66667,     0.66767,     0.66867,     0.66967,     0.67067,     0.67167,\n",
      "           0.67267,     0.67367,     0.67467,     0.67568,     0.67668,     0.67768,     0.67868,     0.67968,     0.68068,     0.68168,     0.68268,     0.68368,     0.68468,     0.68569,     0.68669,     0.68769,     0.68869,     0.68969,     0.69069,     0.69169,     0.69269,     0.69369,     0.69469,      0.6957,\n",
      "            0.6967,      0.6977,      0.6987,      0.6997,      0.7007,      0.7017,      0.7027,      0.7037,      0.7047,     0.70571,     0.70671,     0.70771,     0.70871,     0.70971,     0.71071,     0.71171,     0.71271,     0.71371,     0.71471,     0.71572,     0.71672,     0.71772,     0.71872,     0.71972,\n",
      "           0.72072,     0.72172,     0.72272,     0.72372,     0.72472,     0.72573,     0.72673,     0.72773,     0.72873,     0.72973,     0.73073,     0.73173,     0.73273,     0.73373,     0.73473,     0.73574,     0.73674,     0.73774,     0.73874,     0.73974,     0.74074,     0.74174,     0.74274,     0.74374,\n",
      "           0.74474,     0.74575,     0.74675,     0.74775,     0.74875,     0.74975,     0.75075,     0.75175,     0.75275,     0.75375,     0.75475,     0.75576,     0.75676,     0.75776,     0.75876,     0.75976,     0.76076,     0.76176,     0.76276,     0.76376,     0.76476,     0.76577,     0.76677,     0.76777,\n",
      "           0.76877,     0.76977,     0.77077,     0.77177,     0.77277,     0.77377,     0.77477,     0.77578,     0.77678,     0.77778,     0.77878,     0.77978,     0.78078,     0.78178,     0.78278,     0.78378,     0.78478,     0.78579,     0.78679,     0.78779,     0.78879,     0.78979,     0.79079,     0.79179,\n",
      "           0.79279,     0.79379,     0.79479,      0.7958,      0.7968,      0.7978,      0.7988,      0.7998,      0.8008,      0.8018,      0.8028,      0.8038,      0.8048,     0.80581,     0.80681,     0.80781,     0.80881,     0.80981,     0.81081,     0.81181,     0.81281,     0.81381,     0.81481,     0.81582,\n",
      "           0.81682,     0.81782,     0.81882,     0.81982,     0.82082,     0.82182,     0.82282,     0.82382,     0.82482,     0.82583,     0.82683,     0.82783,     0.82883,     0.82983,     0.83083,     0.83183,     0.83283,     0.83383,     0.83483,     0.83584,     0.83684,     0.83784,     0.83884,     0.83984,\n",
      "           0.84084,     0.84184,     0.84284,     0.84384,     0.84484,     0.84585,     0.84685,     0.84785,     0.84885,     0.84985,     0.85085,     0.85185,     0.85285,     0.85385,     0.85485,     0.85586,     0.85686,     0.85786,     0.85886,     0.85986,     0.86086,     0.86186,     0.86286,     0.86386,\n",
      "           0.86486,     0.86587,     0.86687,     0.86787,     0.86887,     0.86987,     0.87087,     0.87187,     0.87287,     0.87387,     0.87487,     0.87588,     0.87688,     0.87788,     0.87888,     0.87988,     0.88088,     0.88188,     0.88288,     0.88388,     0.88488,     0.88589,     0.88689,     0.88789,\n",
      "           0.88889,     0.88989,     0.89089,     0.89189,     0.89289,     0.89389,     0.89489,      0.8959,      0.8969,      0.8979,      0.8989,      0.8999,      0.9009,      0.9019,      0.9029,      0.9039,      0.9049,     0.90591,     0.90691,     0.90791,     0.90891,     0.90991,     0.91091,     0.91191,\n",
      "           0.91291,     0.91391,     0.91491,     0.91592,     0.91692,     0.91792,     0.91892,     0.91992,     0.92092,     0.92192,     0.92292,     0.92392,     0.92492,     0.92593,     0.92693,     0.92793,     0.92893,     0.92993,     0.93093,     0.93193,     0.93293,     0.93393,     0.93493,     0.93594,\n",
      "           0.93694,     0.93794,     0.93894,     0.93994,     0.94094,     0.94194,     0.94294,     0.94394,     0.94494,     0.94595,     0.94695,     0.94795,     0.94895,     0.94995,     0.95095,     0.95195,     0.95295,     0.95395,     0.95495,     0.95596,     0.95696,     0.95796,     0.95896,     0.95996,\n",
      "           0.96096,     0.96196,     0.96296,     0.96396,     0.96496,     0.96597,     0.96697,     0.96797,     0.96897,     0.96997,     0.97097,     0.97197,     0.97297,     0.97397,     0.97497,     0.97598,     0.97698,     0.97798,     0.97898,     0.97998,     0.98098,     0.98198,     0.98298,     0.98398,\n",
      "           0.98498,     0.98599,     0.98699,     0.98799,     0.98899,     0.98999,     0.99099,     0.99199,     0.99299,     0.99399,     0.99499,       0.996,       0.997,       0.998,       0.999,           1]), array([[   0.055096,    0.055096,     0.06971, ...,           0,           0,           0],\n",
      "       [   0.079632,    0.079632,    0.095934, ...,           0,           0,           0],\n",
      "       [    0.16667,     0.16667,     0.19941, ...,           0,           0,           0],\n",
      "       [    0.22523,     0.22523,     0.29456, ...,           0,           0,           0],\n",
      "       [    0.14815,     0.14815,     0.18843, ...,           0,           0,           0],\n",
      "       [   0.052632,    0.052632,    0.065603, ...,           0,           0,           0]]), 'Confidence', 'F1'], [array([          0,    0.001001,    0.002002,    0.003003,    0.004004,    0.005005,    0.006006,    0.007007,    0.008008,    0.009009,     0.01001,    0.011011,    0.012012,    0.013013,    0.014014,    0.015015,    0.016016,    0.017017,    0.018018,    0.019019,     0.02002,    0.021021,    0.022022,    0.023023,\n",
      "          0.024024,    0.025025,    0.026026,    0.027027,    0.028028,    0.029029,     0.03003,    0.031031,    0.032032,    0.033033,    0.034034,    0.035035,    0.036036,    0.037037,    0.038038,    0.039039,     0.04004,    0.041041,    0.042042,    0.043043,    0.044044,    0.045045,    0.046046,    0.047047,\n",
      "          0.048048,    0.049049,     0.05005,    0.051051,    0.052052,    0.053053,    0.054054,    0.055055,    0.056056,    0.057057,    0.058058,    0.059059,     0.06006,    0.061061,    0.062062,    0.063063,    0.064064,    0.065065,    0.066066,    0.067067,    0.068068,    0.069069,     0.07007,    0.071071,\n",
      "          0.072072,    0.073073,    0.074074,    0.075075,    0.076076,    0.077077,    0.078078,    0.079079,     0.08008,    0.081081,    0.082082,    0.083083,    0.084084,    0.085085,    0.086086,    0.087087,    0.088088,    0.089089,     0.09009,    0.091091,    0.092092,    0.093093,    0.094094,    0.095095,\n",
      "          0.096096,    0.097097,    0.098098,    0.099099,      0.1001,      0.1011,      0.1021,      0.1031,      0.1041,     0.10511,     0.10611,     0.10711,     0.10811,     0.10911,     0.11011,     0.11111,     0.11211,     0.11311,     0.11411,     0.11512,     0.11612,     0.11712,     0.11812,     0.11912,\n",
      "           0.12012,     0.12112,     0.12212,     0.12312,     0.12412,     0.12513,     0.12613,     0.12713,     0.12813,     0.12913,     0.13013,     0.13113,     0.13213,     0.13313,     0.13413,     0.13514,     0.13614,     0.13714,     0.13814,     0.13914,     0.14014,     0.14114,     0.14214,     0.14314,\n",
      "           0.14414,     0.14515,     0.14615,     0.14715,     0.14815,     0.14915,     0.15015,     0.15115,     0.15215,     0.15315,     0.15415,     0.15516,     0.15616,     0.15716,     0.15816,     0.15916,     0.16016,     0.16116,     0.16216,     0.16316,     0.16416,     0.16517,     0.16617,     0.16717,\n",
      "           0.16817,     0.16917,     0.17017,     0.17117,     0.17217,     0.17317,     0.17417,     0.17518,     0.17618,     0.17718,     0.17818,     0.17918,     0.18018,     0.18118,     0.18218,     0.18318,     0.18418,     0.18519,     0.18619,     0.18719,     0.18819,     0.18919,     0.19019,     0.19119,\n",
      "           0.19219,     0.19319,     0.19419,      0.1952,      0.1962,      0.1972,      0.1982,      0.1992,      0.2002,      0.2012,      0.2022,      0.2032,      0.2042,     0.20521,     0.20621,     0.20721,     0.20821,     0.20921,     0.21021,     0.21121,     0.21221,     0.21321,     0.21421,     0.21522,\n",
      "           0.21622,     0.21722,     0.21822,     0.21922,     0.22022,     0.22122,     0.22222,     0.22322,     0.22422,     0.22523,     0.22623,     0.22723,     0.22823,     0.22923,     0.23023,     0.23123,     0.23223,     0.23323,     0.23423,     0.23524,     0.23624,     0.23724,     0.23824,     0.23924,\n",
      "           0.24024,     0.24124,     0.24224,     0.24324,     0.24424,     0.24525,     0.24625,     0.24725,     0.24825,     0.24925,     0.25025,     0.25125,     0.25225,     0.25325,     0.25425,     0.25526,     0.25626,     0.25726,     0.25826,     0.25926,     0.26026,     0.26126,     0.26226,     0.26326,\n",
      "           0.26426,     0.26527,     0.26627,     0.26727,     0.26827,     0.26927,     0.27027,     0.27127,     0.27227,     0.27327,     0.27427,     0.27528,     0.27628,     0.27728,     0.27828,     0.27928,     0.28028,     0.28128,     0.28228,     0.28328,     0.28428,     0.28529,     0.28629,     0.28729,\n",
      "           0.28829,     0.28929,     0.29029,     0.29129,     0.29229,     0.29329,     0.29429,      0.2953,      0.2963,      0.2973,      0.2983,      0.2993,      0.3003,      0.3013,      0.3023,      0.3033,      0.3043,     0.30531,     0.30631,     0.30731,     0.30831,     0.30931,     0.31031,     0.31131,\n",
      "           0.31231,     0.31331,     0.31431,     0.31532,     0.31632,     0.31732,     0.31832,     0.31932,     0.32032,     0.32132,     0.32232,     0.32332,     0.32432,     0.32533,     0.32633,     0.32733,     0.32833,     0.32933,     0.33033,     0.33133,     0.33233,     0.33333,     0.33433,     0.33534,\n",
      "           0.33634,     0.33734,     0.33834,     0.33934,     0.34034,     0.34134,     0.34234,     0.34334,     0.34434,     0.34535,     0.34635,     0.34735,     0.34835,     0.34935,     0.35035,     0.35135,     0.35235,     0.35335,     0.35435,     0.35536,     0.35636,     0.35736,     0.35836,     0.35936,\n",
      "           0.36036,     0.36136,     0.36236,     0.36336,     0.36436,     0.36537,     0.36637,     0.36737,     0.36837,     0.36937,     0.37037,     0.37137,     0.37237,     0.37337,     0.37437,     0.37538,     0.37638,     0.37738,     0.37838,     0.37938,     0.38038,     0.38138,     0.38238,     0.38338,\n",
      "           0.38438,     0.38539,     0.38639,     0.38739,     0.38839,     0.38939,     0.39039,     0.39139,     0.39239,     0.39339,     0.39439,      0.3954,      0.3964,      0.3974,      0.3984,      0.3994,      0.4004,      0.4014,      0.4024,      0.4034,      0.4044,     0.40541,     0.40641,     0.40741,\n",
      "           0.40841,     0.40941,     0.41041,     0.41141,     0.41241,     0.41341,     0.41441,     0.41542,     0.41642,     0.41742,     0.41842,     0.41942,     0.42042,     0.42142,     0.42242,     0.42342,     0.42442,     0.42543,     0.42643,     0.42743,     0.42843,     0.42943,     0.43043,     0.43143,\n",
      "           0.43243,     0.43343,     0.43443,     0.43544,     0.43644,     0.43744,     0.43844,     0.43944,     0.44044,     0.44144,     0.44244,     0.44344,     0.44444,     0.44545,     0.44645,     0.44745,     0.44845,     0.44945,     0.45045,     0.45145,     0.45245,     0.45345,     0.45445,     0.45546,\n",
      "           0.45646,     0.45746,     0.45846,     0.45946,     0.46046,     0.46146,     0.46246,     0.46346,     0.46446,     0.46547,     0.46647,     0.46747,     0.46847,     0.46947,     0.47047,     0.47147,     0.47247,     0.47347,     0.47447,     0.47548,     0.47648,     0.47748,     0.47848,     0.47948,\n",
      "           0.48048,     0.48148,     0.48248,     0.48348,     0.48448,     0.48549,     0.48649,     0.48749,     0.48849,     0.48949,     0.49049,     0.49149,     0.49249,     0.49349,     0.49449,      0.4955,      0.4965,      0.4975,      0.4985,      0.4995,      0.5005,      0.5015,      0.5025,      0.5035,\n",
      "            0.5045,     0.50551,     0.50651,     0.50751,     0.50851,     0.50951,     0.51051,     0.51151,     0.51251,     0.51351,     0.51451,     0.51552,     0.51652,     0.51752,     0.51852,     0.51952,     0.52052,     0.52152,     0.52252,     0.52352,     0.52452,     0.52553,     0.52653,     0.52753,\n",
      "           0.52853,     0.52953,     0.53053,     0.53153,     0.53253,     0.53353,     0.53453,     0.53554,     0.53654,     0.53754,     0.53854,     0.53954,     0.54054,     0.54154,     0.54254,     0.54354,     0.54454,     0.54555,     0.54655,     0.54755,     0.54855,     0.54955,     0.55055,     0.55155,\n",
      "           0.55255,     0.55355,     0.55455,     0.55556,     0.55656,     0.55756,     0.55856,     0.55956,     0.56056,     0.56156,     0.56256,     0.56356,     0.56456,     0.56557,     0.56657,     0.56757,     0.56857,     0.56957,     0.57057,     0.57157,     0.57257,     0.57357,     0.57457,     0.57558,\n",
      "           0.57658,     0.57758,     0.57858,     0.57958,     0.58058,     0.58158,     0.58258,     0.58358,     0.58458,     0.58559,     0.58659,     0.58759,     0.58859,     0.58959,     0.59059,     0.59159,     0.59259,     0.59359,     0.59459,      0.5956,      0.5966,      0.5976,      0.5986,      0.5996,\n",
      "            0.6006,      0.6016,      0.6026,      0.6036,      0.6046,     0.60561,     0.60661,     0.60761,     0.60861,     0.60961,     0.61061,     0.61161,     0.61261,     0.61361,     0.61461,     0.61562,     0.61662,     0.61762,     0.61862,     0.61962,     0.62062,     0.62162,     0.62262,     0.62362,\n",
      "           0.62462,     0.62563,     0.62663,     0.62763,     0.62863,     0.62963,     0.63063,     0.63163,     0.63263,     0.63363,     0.63463,     0.63564,     0.63664,     0.63764,     0.63864,     0.63964,     0.64064,     0.64164,     0.64264,     0.64364,     0.64464,     0.64565,     0.64665,     0.64765,\n",
      "           0.64865,     0.64965,     0.65065,     0.65165,     0.65265,     0.65365,     0.65465,     0.65566,     0.65666,     0.65766,     0.65866,     0.65966,     0.66066,     0.66166,     0.66266,     0.66366,     0.66466,     0.66567,     0.66667,     0.66767,     0.66867,     0.66967,     0.67067,     0.67167,\n",
      "           0.67267,     0.67367,     0.67467,     0.67568,     0.67668,     0.67768,     0.67868,     0.67968,     0.68068,     0.68168,     0.68268,     0.68368,     0.68468,     0.68569,     0.68669,     0.68769,     0.68869,     0.68969,     0.69069,     0.69169,     0.69269,     0.69369,     0.69469,      0.6957,\n",
      "            0.6967,      0.6977,      0.6987,      0.6997,      0.7007,      0.7017,      0.7027,      0.7037,      0.7047,     0.70571,     0.70671,     0.70771,     0.70871,     0.70971,     0.71071,     0.71171,     0.71271,     0.71371,     0.71471,     0.71572,     0.71672,     0.71772,     0.71872,     0.71972,\n",
      "           0.72072,     0.72172,     0.72272,     0.72372,     0.72472,     0.72573,     0.72673,     0.72773,     0.72873,     0.72973,     0.73073,     0.73173,     0.73273,     0.73373,     0.73473,     0.73574,     0.73674,     0.73774,     0.73874,     0.73974,     0.74074,     0.74174,     0.74274,     0.74374,\n",
      "           0.74474,     0.74575,     0.74675,     0.74775,     0.74875,     0.74975,     0.75075,     0.75175,     0.75275,     0.75375,     0.75475,     0.75576,     0.75676,     0.75776,     0.75876,     0.75976,     0.76076,     0.76176,     0.76276,     0.76376,     0.76476,     0.76577,     0.76677,     0.76777,\n",
      "           0.76877,     0.76977,     0.77077,     0.77177,     0.77277,     0.77377,     0.77477,     0.77578,     0.77678,     0.77778,     0.77878,     0.77978,     0.78078,     0.78178,     0.78278,     0.78378,     0.78478,     0.78579,     0.78679,     0.78779,     0.78879,     0.78979,     0.79079,     0.79179,\n",
      "           0.79279,     0.79379,     0.79479,      0.7958,      0.7968,      0.7978,      0.7988,      0.7998,      0.8008,      0.8018,      0.8028,      0.8038,      0.8048,     0.80581,     0.80681,     0.80781,     0.80881,     0.80981,     0.81081,     0.81181,     0.81281,     0.81381,     0.81481,     0.81582,\n",
      "           0.81682,     0.81782,     0.81882,     0.81982,     0.82082,     0.82182,     0.82282,     0.82382,     0.82482,     0.82583,     0.82683,     0.82783,     0.82883,     0.82983,     0.83083,     0.83183,     0.83283,     0.83383,     0.83483,     0.83584,     0.83684,     0.83784,     0.83884,     0.83984,\n",
      "           0.84084,     0.84184,     0.84284,     0.84384,     0.84484,     0.84585,     0.84685,     0.84785,     0.84885,     0.84985,     0.85085,     0.85185,     0.85285,     0.85385,     0.85485,     0.85586,     0.85686,     0.85786,     0.85886,     0.85986,     0.86086,     0.86186,     0.86286,     0.86386,\n",
      "           0.86486,     0.86587,     0.86687,     0.86787,     0.86887,     0.86987,     0.87087,     0.87187,     0.87287,     0.87387,     0.87487,     0.87588,     0.87688,     0.87788,     0.87888,     0.87988,     0.88088,     0.88188,     0.88288,     0.88388,     0.88488,     0.88589,     0.88689,     0.88789,\n",
      "           0.88889,     0.88989,     0.89089,     0.89189,     0.89289,     0.89389,     0.89489,      0.8959,      0.8969,      0.8979,      0.8989,      0.8999,      0.9009,      0.9019,      0.9029,      0.9039,      0.9049,     0.90591,     0.90691,     0.90791,     0.90891,     0.90991,     0.91091,     0.91191,\n",
      "           0.91291,     0.91391,     0.91491,     0.91592,     0.91692,     0.91792,     0.91892,     0.91992,     0.92092,     0.92192,     0.92292,     0.92392,     0.92492,     0.92593,     0.92693,     0.92793,     0.92893,     0.92993,     0.93093,     0.93193,     0.93293,     0.93393,     0.93493,     0.93594,\n",
      "           0.93694,     0.93794,     0.93894,     0.93994,     0.94094,     0.94194,     0.94294,     0.94394,     0.94494,     0.94595,     0.94695,     0.94795,     0.94895,     0.94995,     0.95095,     0.95195,     0.95295,     0.95395,     0.95495,     0.95596,     0.95696,     0.95796,     0.95896,     0.95996,\n",
      "           0.96096,     0.96196,     0.96296,     0.96396,     0.96496,     0.96597,     0.96697,     0.96797,     0.96897,     0.96997,     0.97097,     0.97197,     0.97297,     0.97397,     0.97497,     0.97598,     0.97698,     0.97798,     0.97898,     0.97998,     0.98098,     0.98198,     0.98298,     0.98398,\n",
      "           0.98498,     0.98599,     0.98699,     0.98799,     0.98899,     0.98999,     0.99099,     0.99199,     0.99299,     0.99399,     0.99499,       0.996,       0.997,       0.998,       0.999,           1]), array([[    0.02994,     0.02994,    0.038774, ...,           1,           1,           1],\n",
      "       [   0.042975,    0.042975,    0.053574, ...,           1,           1,           1],\n",
      "       [   0.094637,    0.094637,     0.11773, ...,           1,           1,           1],\n",
      "       [    0.13441,     0.13441,     0.18693, ...,           1,           1,           1],\n",
      "       [   0.084507,    0.084507,     0.11369, ...,           1,           1,           1],\n",
      "       [   0.028662,    0.028662,    0.037056, ...,           1,           1,           1]]), 'Confidence', 'Precision'], [array([          0,    0.001001,    0.002002,    0.003003,    0.004004,    0.005005,    0.006006,    0.007007,    0.008008,    0.009009,     0.01001,    0.011011,    0.012012,    0.013013,    0.014014,    0.015015,    0.016016,    0.017017,    0.018018,    0.019019,     0.02002,    0.021021,    0.022022,    0.023023,\n",
      "          0.024024,    0.025025,    0.026026,    0.027027,    0.028028,    0.029029,     0.03003,    0.031031,    0.032032,    0.033033,    0.034034,    0.035035,    0.036036,    0.037037,    0.038038,    0.039039,     0.04004,    0.041041,    0.042042,    0.043043,    0.044044,    0.045045,    0.046046,    0.047047,\n",
      "          0.048048,    0.049049,     0.05005,    0.051051,    0.052052,    0.053053,    0.054054,    0.055055,    0.056056,    0.057057,    0.058058,    0.059059,     0.06006,    0.061061,    0.062062,    0.063063,    0.064064,    0.065065,    0.066066,    0.067067,    0.068068,    0.069069,     0.07007,    0.071071,\n",
      "          0.072072,    0.073073,    0.074074,    0.075075,    0.076076,    0.077077,    0.078078,    0.079079,     0.08008,    0.081081,    0.082082,    0.083083,    0.084084,    0.085085,    0.086086,    0.087087,    0.088088,    0.089089,     0.09009,    0.091091,    0.092092,    0.093093,    0.094094,    0.095095,\n",
      "          0.096096,    0.097097,    0.098098,    0.099099,      0.1001,      0.1011,      0.1021,      0.1031,      0.1041,     0.10511,     0.10611,     0.10711,     0.10811,     0.10911,     0.11011,     0.11111,     0.11211,     0.11311,     0.11411,     0.11512,     0.11612,     0.11712,     0.11812,     0.11912,\n",
      "           0.12012,     0.12112,     0.12212,     0.12312,     0.12412,     0.12513,     0.12613,     0.12713,     0.12813,     0.12913,     0.13013,     0.13113,     0.13213,     0.13313,     0.13413,     0.13514,     0.13614,     0.13714,     0.13814,     0.13914,     0.14014,     0.14114,     0.14214,     0.14314,\n",
      "           0.14414,     0.14515,     0.14615,     0.14715,     0.14815,     0.14915,     0.15015,     0.15115,     0.15215,     0.15315,     0.15415,     0.15516,     0.15616,     0.15716,     0.15816,     0.15916,     0.16016,     0.16116,     0.16216,     0.16316,     0.16416,     0.16517,     0.16617,     0.16717,\n",
      "           0.16817,     0.16917,     0.17017,     0.17117,     0.17217,     0.17317,     0.17417,     0.17518,     0.17618,     0.17718,     0.17818,     0.17918,     0.18018,     0.18118,     0.18218,     0.18318,     0.18418,     0.18519,     0.18619,     0.18719,     0.18819,     0.18919,     0.19019,     0.19119,\n",
      "           0.19219,     0.19319,     0.19419,      0.1952,      0.1962,      0.1972,      0.1982,      0.1992,      0.2002,      0.2012,      0.2022,      0.2032,      0.2042,     0.20521,     0.20621,     0.20721,     0.20821,     0.20921,     0.21021,     0.21121,     0.21221,     0.21321,     0.21421,     0.21522,\n",
      "           0.21622,     0.21722,     0.21822,     0.21922,     0.22022,     0.22122,     0.22222,     0.22322,     0.22422,     0.22523,     0.22623,     0.22723,     0.22823,     0.22923,     0.23023,     0.23123,     0.23223,     0.23323,     0.23423,     0.23524,     0.23624,     0.23724,     0.23824,     0.23924,\n",
      "           0.24024,     0.24124,     0.24224,     0.24324,     0.24424,     0.24525,     0.24625,     0.24725,     0.24825,     0.24925,     0.25025,     0.25125,     0.25225,     0.25325,     0.25425,     0.25526,     0.25626,     0.25726,     0.25826,     0.25926,     0.26026,     0.26126,     0.26226,     0.26326,\n",
      "           0.26426,     0.26527,     0.26627,     0.26727,     0.26827,     0.26927,     0.27027,     0.27127,     0.27227,     0.27327,     0.27427,     0.27528,     0.27628,     0.27728,     0.27828,     0.27928,     0.28028,     0.28128,     0.28228,     0.28328,     0.28428,     0.28529,     0.28629,     0.28729,\n",
      "           0.28829,     0.28929,     0.29029,     0.29129,     0.29229,     0.29329,     0.29429,      0.2953,      0.2963,      0.2973,      0.2983,      0.2993,      0.3003,      0.3013,      0.3023,      0.3033,      0.3043,     0.30531,     0.30631,     0.30731,     0.30831,     0.30931,     0.31031,     0.31131,\n",
      "           0.31231,     0.31331,     0.31431,     0.31532,     0.31632,     0.31732,     0.31832,     0.31932,     0.32032,     0.32132,     0.32232,     0.32332,     0.32432,     0.32533,     0.32633,     0.32733,     0.32833,     0.32933,     0.33033,     0.33133,     0.33233,     0.33333,     0.33433,     0.33534,\n",
      "           0.33634,     0.33734,     0.33834,     0.33934,     0.34034,     0.34134,     0.34234,     0.34334,     0.34434,     0.34535,     0.34635,     0.34735,     0.34835,     0.34935,     0.35035,     0.35135,     0.35235,     0.35335,     0.35435,     0.35536,     0.35636,     0.35736,     0.35836,     0.35936,\n",
      "           0.36036,     0.36136,     0.36236,     0.36336,     0.36436,     0.36537,     0.36637,     0.36737,     0.36837,     0.36937,     0.37037,     0.37137,     0.37237,     0.37337,     0.37437,     0.37538,     0.37638,     0.37738,     0.37838,     0.37938,     0.38038,     0.38138,     0.38238,     0.38338,\n",
      "           0.38438,     0.38539,     0.38639,     0.38739,     0.38839,     0.38939,     0.39039,     0.39139,     0.39239,     0.39339,     0.39439,      0.3954,      0.3964,      0.3974,      0.3984,      0.3994,      0.4004,      0.4014,      0.4024,      0.4034,      0.4044,     0.40541,     0.40641,     0.40741,\n",
      "           0.40841,     0.40941,     0.41041,     0.41141,     0.41241,     0.41341,     0.41441,     0.41542,     0.41642,     0.41742,     0.41842,     0.41942,     0.42042,     0.42142,     0.42242,     0.42342,     0.42442,     0.42543,     0.42643,     0.42743,     0.42843,     0.42943,     0.43043,     0.43143,\n",
      "           0.43243,     0.43343,     0.43443,     0.43544,     0.43644,     0.43744,     0.43844,     0.43944,     0.44044,     0.44144,     0.44244,     0.44344,     0.44444,     0.44545,     0.44645,     0.44745,     0.44845,     0.44945,     0.45045,     0.45145,     0.45245,     0.45345,     0.45445,     0.45546,\n",
      "           0.45646,     0.45746,     0.45846,     0.45946,     0.46046,     0.46146,     0.46246,     0.46346,     0.46446,     0.46547,     0.46647,     0.46747,     0.46847,     0.46947,     0.47047,     0.47147,     0.47247,     0.47347,     0.47447,     0.47548,     0.47648,     0.47748,     0.47848,     0.47948,\n",
      "           0.48048,     0.48148,     0.48248,     0.48348,     0.48448,     0.48549,     0.48649,     0.48749,     0.48849,     0.48949,     0.49049,     0.49149,     0.49249,     0.49349,     0.49449,      0.4955,      0.4965,      0.4975,      0.4985,      0.4995,      0.5005,      0.5015,      0.5025,      0.5035,\n",
      "            0.5045,     0.50551,     0.50651,     0.50751,     0.50851,     0.50951,     0.51051,     0.51151,     0.51251,     0.51351,     0.51451,     0.51552,     0.51652,     0.51752,     0.51852,     0.51952,     0.52052,     0.52152,     0.52252,     0.52352,     0.52452,     0.52553,     0.52653,     0.52753,\n",
      "           0.52853,     0.52953,     0.53053,     0.53153,     0.53253,     0.53353,     0.53453,     0.53554,     0.53654,     0.53754,     0.53854,     0.53954,     0.54054,     0.54154,     0.54254,     0.54354,     0.54454,     0.54555,     0.54655,     0.54755,     0.54855,     0.54955,     0.55055,     0.55155,\n",
      "           0.55255,     0.55355,     0.55455,     0.55556,     0.55656,     0.55756,     0.55856,     0.55956,     0.56056,     0.56156,     0.56256,     0.56356,     0.56456,     0.56557,     0.56657,     0.56757,     0.56857,     0.56957,     0.57057,     0.57157,     0.57257,     0.57357,     0.57457,     0.57558,\n",
      "           0.57658,     0.57758,     0.57858,     0.57958,     0.58058,     0.58158,     0.58258,     0.58358,     0.58458,     0.58559,     0.58659,     0.58759,     0.58859,     0.58959,     0.59059,     0.59159,     0.59259,     0.59359,     0.59459,      0.5956,      0.5966,      0.5976,      0.5986,      0.5996,\n",
      "            0.6006,      0.6016,      0.6026,      0.6036,      0.6046,     0.60561,     0.60661,     0.60761,     0.60861,     0.60961,     0.61061,     0.61161,     0.61261,     0.61361,     0.61461,     0.61562,     0.61662,     0.61762,     0.61862,     0.61962,     0.62062,     0.62162,     0.62262,     0.62362,\n",
      "           0.62462,     0.62563,     0.62663,     0.62763,     0.62863,     0.62963,     0.63063,     0.63163,     0.63263,     0.63363,     0.63463,     0.63564,     0.63664,     0.63764,     0.63864,     0.63964,     0.64064,     0.64164,     0.64264,     0.64364,     0.64464,     0.64565,     0.64665,     0.64765,\n",
      "           0.64865,     0.64965,     0.65065,     0.65165,     0.65265,     0.65365,     0.65465,     0.65566,     0.65666,     0.65766,     0.65866,     0.65966,     0.66066,     0.66166,     0.66266,     0.66366,     0.66466,     0.66567,     0.66667,     0.66767,     0.66867,     0.66967,     0.67067,     0.67167,\n",
      "           0.67267,     0.67367,     0.67467,     0.67568,     0.67668,     0.67768,     0.67868,     0.67968,     0.68068,     0.68168,     0.68268,     0.68368,     0.68468,     0.68569,     0.68669,     0.68769,     0.68869,     0.68969,     0.69069,     0.69169,     0.69269,     0.69369,     0.69469,      0.6957,\n",
      "            0.6967,      0.6977,      0.6987,      0.6997,      0.7007,      0.7017,      0.7027,      0.7037,      0.7047,     0.70571,     0.70671,     0.70771,     0.70871,     0.70971,     0.71071,     0.71171,     0.71271,     0.71371,     0.71471,     0.71572,     0.71672,     0.71772,     0.71872,     0.71972,\n",
      "           0.72072,     0.72172,     0.72272,     0.72372,     0.72472,     0.72573,     0.72673,     0.72773,     0.72873,     0.72973,     0.73073,     0.73173,     0.73273,     0.73373,     0.73473,     0.73574,     0.73674,     0.73774,     0.73874,     0.73974,     0.74074,     0.74174,     0.74274,     0.74374,\n",
      "           0.74474,     0.74575,     0.74675,     0.74775,     0.74875,     0.74975,     0.75075,     0.75175,     0.75275,     0.75375,     0.75475,     0.75576,     0.75676,     0.75776,     0.75876,     0.75976,     0.76076,     0.76176,     0.76276,     0.76376,     0.76476,     0.76577,     0.76677,     0.76777,\n",
      "           0.76877,     0.76977,     0.77077,     0.77177,     0.77277,     0.77377,     0.77477,     0.77578,     0.77678,     0.77778,     0.77878,     0.77978,     0.78078,     0.78178,     0.78278,     0.78378,     0.78478,     0.78579,     0.78679,     0.78779,     0.78879,     0.78979,     0.79079,     0.79179,\n",
      "           0.79279,     0.79379,     0.79479,      0.7958,      0.7968,      0.7978,      0.7988,      0.7998,      0.8008,      0.8018,      0.8028,      0.8038,      0.8048,     0.80581,     0.80681,     0.80781,     0.80881,     0.80981,     0.81081,     0.81181,     0.81281,     0.81381,     0.81481,     0.81582,\n",
      "           0.81682,     0.81782,     0.81882,     0.81982,     0.82082,     0.82182,     0.82282,     0.82382,     0.82482,     0.82583,     0.82683,     0.82783,     0.82883,     0.82983,     0.83083,     0.83183,     0.83283,     0.83383,     0.83483,     0.83584,     0.83684,     0.83784,     0.83884,     0.83984,\n",
      "           0.84084,     0.84184,     0.84284,     0.84384,     0.84484,     0.84585,     0.84685,     0.84785,     0.84885,     0.84985,     0.85085,     0.85185,     0.85285,     0.85385,     0.85485,     0.85586,     0.85686,     0.85786,     0.85886,     0.85986,     0.86086,     0.86186,     0.86286,     0.86386,\n",
      "           0.86486,     0.86587,     0.86687,     0.86787,     0.86887,     0.86987,     0.87087,     0.87187,     0.87287,     0.87387,     0.87487,     0.87588,     0.87688,     0.87788,     0.87888,     0.87988,     0.88088,     0.88188,     0.88288,     0.88388,     0.88488,     0.88589,     0.88689,     0.88789,\n",
      "           0.88889,     0.88989,     0.89089,     0.89189,     0.89289,     0.89389,     0.89489,      0.8959,      0.8969,      0.8979,      0.8989,      0.8999,      0.9009,      0.9019,      0.9029,      0.9039,      0.9049,     0.90591,     0.90691,     0.90791,     0.90891,     0.90991,     0.91091,     0.91191,\n",
      "           0.91291,     0.91391,     0.91491,     0.91592,     0.91692,     0.91792,     0.91892,     0.91992,     0.92092,     0.92192,     0.92292,     0.92392,     0.92492,     0.92593,     0.92693,     0.92793,     0.92893,     0.92993,     0.93093,     0.93193,     0.93293,     0.93393,     0.93493,     0.93594,\n",
      "           0.93694,     0.93794,     0.93894,     0.93994,     0.94094,     0.94194,     0.94294,     0.94394,     0.94494,     0.94595,     0.94695,     0.94795,     0.94895,     0.94995,     0.95095,     0.95195,     0.95295,     0.95395,     0.95495,     0.95596,     0.95696,     0.95796,     0.95896,     0.95996,\n",
      "           0.96096,     0.96196,     0.96296,     0.96396,     0.96496,     0.96597,     0.96697,     0.96797,     0.96897,     0.96997,     0.97097,     0.97197,     0.97297,     0.97397,     0.97497,     0.97598,     0.97698,     0.97798,     0.97898,     0.97998,     0.98098,     0.98198,     0.98298,     0.98398,\n",
      "           0.98498,     0.98599,     0.98699,     0.98799,     0.98899,     0.98999,     0.99099,     0.99199,     0.99299,     0.99399,     0.99499,       0.996,       0.997,       0.998,       0.999,           1]), array([[    0.34483,     0.34483,     0.34483, ...,           0,           0,           0],\n",
      "       [    0.54167,     0.54167,     0.45833, ...,           0,           0,           0],\n",
      "       [    0.69767,     0.69767,     0.65116, ...,           0,           0,           0],\n",
      "       [    0.69444,     0.69444,     0.69444, ...,           0,           0,           0],\n",
      "       [        0.6,         0.6,        0.55, ...,           0,           0,           0],\n",
      "       [    0.32143,     0.32143,     0.28571, ...,           0,           0,           0]]), 'Confidence', 'Recall']]\n",
      "fitness: 0.11789529975686253\n",
      "keys: ['metrics/precision(B)', 'metrics/recall(B)', 'metrics/mAP50(B)', 'metrics/mAP50-95(B)']\n",
      "maps: array([   0.012018,    0.028416,      0.2306,     0.10083,     0.23026,    0.093755,   0.0099067])\n",
      "names: {0: 'elbow positive', 1: 'fingers positive', 2: 'forearm fracture', 3: 'humerus fracture', 4: 'humerus', 5: 'shoulder fracture', 6: 'wrist positive'}\n",
      "plot: True\n",
      "results_dict: {'metrics/precision(B)': 0.34291046660924107, 'metrics/recall(B)': 0.2607032267176504, 'metrics/mAP50(B)': 0.27151229884951855, 'metrics/mAP50-95(B)': 0.10082674430212296, 'fitness': 0.11789529975686253}\n",
      "save_dir: WindowsPath('bone_detection/bone_yolov82')\n",
      "speed: {'preprocess': 0.32665126625148727, 'inference': 5.17346324591801, 'loss': 0.0, 'postprocess': 0.8575717608133951}\n",
      "task: 'detect'\n"
     ]
    }
   ],
   "source": [
    "#Validate the Model\n",
    "metrics = model.val(data=yaml_path)\n",
    "print(\"Validation metrics:\", metrics)"
   ]
  },
  {
   "cell_type": "code",
   "execution_count": 8,
   "metadata": {},
   "outputs": [
    {
     "name": "stdout",
     "output_type": "stream",
     "text": [
      "\n",
      "image 1/169 D:\\Bone\\bone fracture detection.v4-v4.yolov8\\test\\images\\distal-humerus-fracture-1_jpg.rf.831cb137cfcbde1079f86abd5f5f2867.jpg: 640x256 (no detections), 79.0ms\n",
      "image 2/169 D:\\Bone\\bone fracture detection.v4-v4.yolov8\\test\\images\\image1_0_png.rf.99862308d714bff3f9c410adf5ca93ac.jpg: 480x640 (no detections), 79.6ms\n",
      "image 3/169 D:\\Bone\\bone fracture detection.v4-v4.yolov8\\test\\images\\image1_1000_png.rf.a53c5e186c03961bf88075c6e3e94cf6.jpg: 544x640 (no detections), 77.2ms\n",
      "image 4/169 D:\\Bone\\bone fracture detection.v4-v4.yolov8\\test\\images\\image1_1015_png.rf.3b7320c3c40771fa5532bf713a728b83.jpg: 544x640 (no detections), 6.0ms\n",
      "image 5/169 D:\\Bone\\bone fracture detection.v4-v4.yolov8\\test\\images\\image1_1015_png.rf.9181f8eb07451331e22381bacb3a5bd2.jpg: 640x640 (no detections), 7.4ms\n",
      "image 6/169 D:\\Bone\\bone fracture detection.v4-v4.yolov8\\test\\images\\image1_1033_png.rf.4bbf6560a26646b1d3a1ab600aa19251.jpg: 512x640 (no detections), 81.2ms\n",
      "image 7/169 D:\\Bone\\bone fracture detection.v4-v4.yolov8\\test\\images\\image1_1035_png.rf.d7493a5653bc3628f7a1b1ec0eb5de85.jpg: 640x544 (no detections), 76.6ms\n",
      "image 8/169 D:\\Bone\\bone fracture detection.v4-v4.yolov8\\test\\images\\image1_1044_png.rf.1e17d3a8637036ef4b3e1c5d0b88011f.jpg: 640x448 (no detections), 76.6ms\n",
      "image 9/169 D:\\Bone\\bone fracture detection.v4-v4.yolov8\\test\\images\\image1_1057_png.rf.dbd0e857728d8b149e5732cb2824d819.jpg: 640x544 (no detections), 9.0ms\n",
      "image 10/169 D:\\Bone\\bone fracture detection.v4-v4.yolov8\\test\\images\\image1_1070_png.rf.d01735eab2c774146e40eef6c8e7b661.jpg: 640x480 (no detections), 77.4ms\n",
      "image 11/169 D:\\Bone\\bone fracture detection.v4-v4.yolov8\\test\\images\\image1_1084_png.rf.d9da08b77872f6b4282f2700d216b9b3.jpg: 640x640 1 humerus, 9.2ms\n",
      "image 12/169 D:\\Bone\\bone fracture detection.v4-v4.yolov8\\test\\images\\image1_1101_png.rf.76b621303ad7da308e79a2e39d860675.jpg: 640x480 (no detections), 8.0ms\n",
      "image 13/169 D:\\Bone\\bone fracture detection.v4-v4.yolov8\\test\\images\\image1_1126_png.rf.66c21ce21ee255ed4bdc66164bac87c5.jpg: 544x640 1 forearm fracture, 8.0ms\n",
      "image 14/169 D:\\Bone\\bone fracture detection.v4-v4.yolov8\\test\\images\\image1_1134_png.rf.642f46a1f0f794f24f5aa3edcf58bdcf.jpg: 640x288 (no detections), 81.2ms\n",
      "image 15/169 D:\\Bone\\bone fracture detection.v4-v4.yolov8\\test\\images\\image1_1137_png.rf.fd851f5a4b2be36de41c54ec6a53c989.jpg: 512x640 (no detections), 9.1ms\n",
      "image 16/169 D:\\Bone\\bone fracture detection.v4-v4.yolov8\\test\\images\\image1_1175_png.rf.aad108f3739e48313c773ad1392a8966.jpg: 640x576 1 humerus, 76.2ms\n",
      "image 17/169 D:\\Bone\\bone fracture detection.v4-v4.yolov8\\test\\images\\image1_117_png.rf.e200e6b84f70bd27ba1e1123d052755e.jpg: 480x640 (no detections), 9.4ms\n",
      "image 18/169 D:\\Bone\\bone fracture detection.v4-v4.yolov8\\test\\images\\image1_1233_png.rf.4e2b7dc04a17f7f3a33a343e8f7ee67e.jpg: 512x640 (no detections), 9.2ms\n",
      "image 19/169 D:\\Bone\\bone fracture detection.v4-v4.yolov8\\test\\images\\image1_125_png.rf.0025d3a37097e5e1e913d6b36f38df9a.jpg: 640x640 (no detections), 9.0ms\n",
      "image 20/169 D:\\Bone\\bone fracture detection.v4-v4.yolov8\\test\\images\\image1_1284_png.rf.45c8239cf68c001ba91d7d002729eec7.jpg: 640x512 (no detections), 103.3ms\n",
      "image 21/169 D:\\Bone\\bone fracture detection.v4-v4.yolov8\\test\\images\\image1_12_png.rf.5f6971023573ad4a240a4e4c4dae0e5f.jpg: 640x640 (no detections), 10.3ms\n",
      "image 22/169 D:\\Bone\\bone fracture detection.v4-v4.yolov8\\test\\images\\image1_1311_png.rf.27646e931562cc3823c79f79472b8749.jpg: 544x640 (no detections), 9.5ms\n",
      "image 23/169 D:\\Bone\\bone fracture detection.v4-v4.yolov8\\test\\images\\image1_1326_png.rf.6019c7e15df84d9d6286932d03e687b6.jpg: 320x640 (no detections), 83.2ms\n",
      "image 24/169 D:\\Bone\\bone fracture detection.v4-v4.yolov8\\test\\images\\image1_1359_png.rf.7475a35f950cea14d8dcd975042229b2.jpg: 544x640 (no detections), 10.0ms\n",
      "image 25/169 D:\\Bone\\bone fracture detection.v4-v4.yolov8\\test\\images\\image1_1365_png.rf.588432cc594787268e4d4e7bdf4bb240.jpg: 640x512 (no detections), 9.0ms\n",
      "image 26/169 D:\\Bone\\bone fracture detection.v4-v4.yolov8\\test\\images\\image1_137_png.rf.996f3c880689913494b8c7baae7a6f0d.jpg: 608x640 (no detections), 84.2ms\n",
      "image 27/169 D:\\Bone\\bone fracture detection.v4-v4.yolov8\\test\\images\\image1_1392_png.rf.692d8594c2ce39483af8c3c4fee91646.jpg: 640x224 (no detections), 78.8ms\n",
      "image 28/169 D:\\Bone\\bone fracture detection.v4-v4.yolov8\\test\\images\\image1_145_png.rf.a69d928d011a93d25a95b7b8380ea25d.jpg: 640x352 2 humeruss, 79.5ms\n",
      "image 29/169 D:\\Bone\\bone fracture detection.v4-v4.yolov8\\test\\images\\image1_1471_png.rf.3ba297237985853fdf9e2c9f79f07f1d.jpg: 640x608 (no detections), 81.7ms\n",
      "image 30/169 D:\\Bone\\bone fracture detection.v4-v4.yolov8\\test\\images\\image1_148_png.rf.b9799a5fddd2b4b2b747dc5c49f1643f.jpg: 640x480 (no detections), 9.0ms\n",
      "image 31/169 D:\\Bone\\bone fracture detection.v4-v4.yolov8\\test\\images\\image1_152_png.rf.f6e7109e7499a7a20e4fc8c0940603d3.jpg: 640x448 (no detections), 9.4ms\n",
      "image 32/169 D:\\Bone\\bone fracture detection.v4-v4.yolov8\\test\\images\\image1_1545_png.rf.cd2ce2cc69004944f0d920c4bda34592.jpg: 640x448 (no detections), 9.1ms\n",
      "image 33/169 D:\\Bone\\bone fracture detection.v4-v4.yolov8\\test\\images\\image1_154_png.rf.bf5cc83ea60cb0fd21d1f21ab7055f9d.jpg: 640x544 (no detections), 10.0ms\n",
      "image 34/169 D:\\Bone\\bone fracture detection.v4-v4.yolov8\\test\\images\\image1_1553_png.rf.ec209f9a8e0e7a41b30a1683a4574f00.jpg: 640x512 (no detections), 10.0ms\n",
      "image 35/169 D:\\Bone\\bone fracture detection.v4-v4.yolov8\\test\\images\\image1_1563_png.rf.4d5bc124b48e7d4d2636d2d6691e36f2.jpg: 480x640 (no detections), 11.0ms\n",
      "image 36/169 D:\\Bone\\bone fracture detection.v4-v4.yolov8\\test\\images\\image1_1588_png.rf.aba29f401dee4db13fc5434f3c0186b4.jpg: 640x512 1 fingers positive, 10.5ms\n",
      "image 37/169 D:\\Bone\\bone fracture detection.v4-v4.yolov8\\test\\images\\image1_164_png.rf.ed315410a29883c298454af69f3ae895.jpg: 512x640 (no detections), 10.4ms\n",
      "image 38/169 D:\\Bone\\bone fracture detection.v4-v4.yolov8\\test\\images\\image1_1682_png.rf.8c3d0845adaa6d884f90b3a020573069.jpg: 640x640 (no detections), 10.9ms\n",
      "image 39/169 D:\\Bone\\bone fracture detection.v4-v4.yolov8\\test\\images\\image1_1741_png.rf.abfab4411413ca60310f9787db4d8d83.jpg: 512x640 1 elbow positive, 10.1ms\n",
      "image 40/169 D:\\Bone\\bone fracture detection.v4-v4.yolov8\\test\\images\\image1_1796_png.rf.42413ce321f53b714fc52ffa1d1a2021.jpg: 640x640 (no detections), 11.0ms\n",
      "image 41/169 D:\\Bone\\bone fracture detection.v4-v4.yolov8\\test\\images\\image1_1813_png.rf.36e36804ccd3bc72b0fc02d36029d08f.jpg: 640x448 (no detections), 9.0ms\n",
      "image 42/169 D:\\Bone\\bone fracture detection.v4-v4.yolov8\\test\\images\\image1_182_png.rf.c9539857a1608ea4850d37195ff767ce.jpg: 640x640 (no detections), 10.3ms\n",
      "image 43/169 D:\\Bone\\bone fracture detection.v4-v4.yolov8\\test\\images\\image1_184_png.rf.e493197224b25d2fe8234345382fb4b9.jpg: 640x576 (no detections), 11.2ms\n",
      "image 44/169 D:\\Bone\\bone fracture detection.v4-v4.yolov8\\test\\images\\image1_186_png.rf.e7ef27f31171ef062f867a9043ecb879.jpg: 640x352 (no detections), 8.0ms\n",
      "image 45/169 D:\\Bone\\bone fracture detection.v4-v4.yolov8\\test\\images\\image1_189_png.rf.9fe16c915039954baf6675c96b2bacc6.jpg: 640x544 (no detections), 9.5ms\n",
      "image 46/169 D:\\Bone\\bone fracture detection.v4-v4.yolov8\\test\\images\\image1_1981_png.rf.05106dc3354a8d2c4292cacd2813aae1.jpg: 640x512 (no detections), 9.4ms\n",
      "image 47/169 D:\\Bone\\bone fracture detection.v4-v4.yolov8\\test\\images\\image1_1_png.rf.ff3f4a12a8e46a9a9aecace2ebf3869a.jpg: 640x544 (no detections), 9.0ms\n",
      "image 48/169 D:\\Bone\\bone fracture detection.v4-v4.yolov8\\test\\images\\image1_211_png.rf.e1fd0ca40a197d13f9ecae59c4074d43.jpg: 640x512 (no detections), 9.0ms\n",
      "image 49/169 D:\\Bone\\bone fracture detection.v4-v4.yolov8\\test\\images\\image1_2128_png.rf.9cdb5d69b7f964d77ef2cd8ddaa64b3d.jpg: 480x640 (no detections), 10.0ms\n",
      "image 50/169 D:\\Bone\\bone fracture detection.v4-v4.yolov8\\test\\images\\image1_212_png.rf.2ffb29b8c57630c49b7ee34bce2c46f3.jpg: 640x640 (no detections), 10.0ms\n",
      "image 51/169 D:\\Bone\\bone fracture detection.v4-v4.yolov8\\test\\images\\image1_2157_png.rf.37cf76e910103b2aa83a2c925849f300.jpg: 640x512 (no detections), 9.0ms\n",
      "image 52/169 D:\\Bone\\bone fracture detection.v4-v4.yolov8\\test\\images\\image1_2207_png.rf.826e33db891514f1a14c23ece2273e7e.jpg: 640x512 1 forearm fracture, 1 wrist positive, 8.0ms\n",
      "image 53/169 D:\\Bone\\bone fracture detection.v4-v4.yolov8\\test\\images\\image1_2263_png.rf.43688af1368a72ad0bc6719a5dcab20b.jpg: 640x608 (no detections), 10.1ms\n",
      "image 54/169 D:\\Bone\\bone fracture detection.v4-v4.yolov8\\test\\images\\image1_22_png.rf.bb53a5b5275a858894f501512908f07a.jpg: 640x352 (no detections), 6.5ms\n",
      "image 55/169 D:\\Bone\\bone fracture detection.v4-v4.yolov8\\test\\images\\image1_230_png.rf.f2a3605e418617cb313976daaec78e18.jpg: 640x544 1 shoulder fracture, 10.0ms\n",
      "image 56/169 D:\\Bone\\bone fracture detection.v4-v4.yolov8\\test\\images\\image1_2336_png.rf.76087ca1e6263ce05700b7e1f92b9f02.jpg: 512x640 1 shoulder fracture, 9.0ms\n",
      "image 57/169 D:\\Bone\\bone fracture detection.v4-v4.yolov8\\test\\images\\image1_23_png.rf.da8bbef32848f32a8d5434e328b10428.jpg: 512x640 (no detections), 9.0ms\n",
      "image 58/169 D:\\Bone\\bone fracture detection.v4-v4.yolov8\\test\\images\\image1_240_png.rf.c8b0cfb57aef2e4bc78d5a716909fd94.jpg: 640x512 (no detections), 9.0ms\n",
      "image 59/169 D:\\Bone\\bone fracture detection.v4-v4.yolov8\\test\\images\\image1_241_png.rf.9429a19b000ff9abd6339900245fb1ba.jpg: 640x192 (no detections), 80.7ms\n",
      "image 60/169 D:\\Bone\\bone fracture detection.v4-v4.yolov8\\test\\images\\image1_252_png.rf.81a8e63687d8630d28257570bd5fcd80.jpg: 640x512 (no detections), 10.4ms\n",
      "image 61/169 D:\\Bone\\bone fracture detection.v4-v4.yolov8\\test\\images\\image1_258_png.rf.7d64b6239897f6838c97b4d18d6ed0c9.jpg: 640x352 (no detections), 7.0ms\n",
      "image 62/169 D:\\Bone\\bone fracture detection.v4-v4.yolov8\\test\\images\\image1_2600_png.rf.01b17c4166e1ea6a863191eebfff35ae.jpg: 640x512 (no detections), 8.0ms\n",
      "image 63/169 D:\\Bone\\bone fracture detection.v4-v4.yolov8\\test\\images\\image1_268_png.rf.00406f976b1bd6c978e828d2c5085683.jpg: 640x544 (no detections), 9.4ms\n",
      "image 64/169 D:\\Bone\\bone fracture detection.v4-v4.yolov8\\test\\images\\image1_2694_png.rf.6390e595cb681c436da1dfa7b2c78dfd.jpg: 640x512 1 wrist positive, 8.0ms\n",
      "image 65/169 D:\\Bone\\bone fracture detection.v4-v4.yolov8\\test\\images\\image1_26_png.rf.ea3697c11878702d0b7728d240e2eb75.jpg: 320x640 1 forearm fracture, 7.5ms\n",
      "image 66/169 D:\\Bone\\bone fracture detection.v4-v4.yolov8\\test\\images\\image1_273_png.rf.b2d75c97ef473f97c7077eb114856b2a.jpg: 640x512 (no detections), 9.1ms\n",
      "image 67/169 D:\\Bone\\bone fracture detection.v4-v4.yolov8\\test\\images\\image1_2794_png.rf.6b3aeafbe8917839f42840a597349a32.jpg: 640x512 (no detections), 8.0ms\n",
      "image 68/169 D:\\Bone\\bone fracture detection.v4-v4.yolov8\\test\\images\\image1_279_png.rf.b40ab0fc72a8fff98daa57979d24b206.jpg: 640x512 (no detections), 8.0ms\n",
      "image 69/169 D:\\Bone\\bone fracture detection.v4-v4.yolov8\\test\\images\\image1_2818_png.rf.3ef0c89fed24793069ef7828f4978ab4.jpg: 640x512 (no detections), 8.0ms\n",
      "image 70/169 D:\\Bone\\bone fracture detection.v4-v4.yolov8\\test\\images\\image1_283_png.rf.f41cf5bd6aa70a2216bb701856df9e03.jpg: 544x640 (no detections), 9.1ms\n",
      "image 71/169 D:\\Bone\\bone fracture detection.v4-v4.yolov8\\test\\images\\image1_291_png.rf.c5a2f62a6316d1ebd9f91cb85ed65891.jpg: 544x640 (no detections), 8.0ms\n",
      "image 72/169 D:\\Bone\\bone fracture detection.v4-v4.yolov8\\test\\images\\image1_2959_png.rf.87b65aa9e9d80f284ae39c06d2892e6e.jpg: 640x384 (no detections), 82.5ms\n",
      "image 73/169 D:\\Bone\\bone fracture detection.v4-v4.yolov8\\test\\images\\image1_300_png.rf.68c69212cc50665b9c1ffa7dd4eb25a4.jpg: 640x640 (no detections), 9.3ms\n",
      "image 74/169 D:\\Bone\\bone fracture detection.v4-v4.yolov8\\test\\images\\image1_302_png.rf.dc3856686e28e1ff95efc721c7cda455.jpg: 512x640 (no detections), 10.0ms\n",
      "image 75/169 D:\\Bone\\bone fracture detection.v4-v4.yolov8\\test\\images\\image1_3054_png.rf.4be16ac99458914b4a34d0892e5f7ff0.jpg: 640x512 (no detections), 8.1ms\n",
      "image 76/169 D:\\Bone\\bone fracture detection.v4-v4.yolov8\\test\\images\\image1_3073_png.rf.241285b7d595353800440e6d2b9b91f0.jpg: 640x416 (no detections), 79.9ms\n",
      "image 77/169 D:\\Bone\\bone fracture detection.v4-v4.yolov8\\test\\images\\image1_314_png.rf.870abcb0b0922e63bd5ba9389a1efd74.jpg: 640x512 (no detections), 9.3ms\n",
      "image 78/169 D:\\Bone\\bone fracture detection.v4-v4.yolov8\\test\\images\\image1_3167_png.rf.e97086c7a649e081f8b3ebdd6b27fd2f.jpg: 640x512 (no detections), 8.1ms\n",
      "image 79/169 D:\\Bone\\bone fracture detection.v4-v4.yolov8\\test\\images\\image1_3221_png.rf.5fb071486cc85c923cd8350b22ad6ee7.jpg: 640x352 1 elbow positive, 8.0ms\n",
      "image 80/169 D:\\Bone\\bone fracture detection.v4-v4.yolov8\\test\\images\\image1_327_png.rf.f8494f574a1ebe492bf514a9504da0a1.jpg: 640x544 (no detections), 9.3ms\n",
      "image 81/169 D:\\Bone\\bone fracture detection.v4-v4.yolov8\\test\\images\\image1_3368_png.rf.074f5f9364ab5534a1e1285ad13e5e0b.jpg: 640x512 (no detections), 8.9ms\n",
      "image 82/169 D:\\Bone\\bone fracture detection.v4-v4.yolov8\\test\\images\\image1_336_png.rf.f758673053df7ac6e05b8671c2563062.jpg: 544x640 1 shoulder fracture, 9.5ms\n",
      "image 83/169 D:\\Bone\\bone fracture detection.v4-v4.yolov8\\test\\images\\image1_3374_png.rf.c13f2204d119c696615bdfeb960e7748.jpg: 640x320 1 wrist positive, 79.1ms\n",
      "image 84/169 D:\\Bone\\bone fracture detection.v4-v4.yolov8\\test\\images\\image1_338_png.rf.617385aa69fa890a370a37684bae944f.jpg: 640x480 (no detections), 9.0ms\n",
      "image 85/169 D:\\Bone\\bone fracture detection.v4-v4.yolov8\\test\\images\\image1_33_png.rf.c1c24340e753b63b6f4e5079b8ef474d.jpg: 640x480 1 wrist positive, 8.1ms\n",
      "image 86/169 D:\\Bone\\bone fracture detection.v4-v4.yolov8\\test\\images\\image1_340_png.rf.82476241970da952e6e27b1a9c43bef8.jpg: 640x480 (no detections), 8.0ms\n",
      "image 87/169 D:\\Bone\\bone fracture detection.v4-v4.yolov8\\test\\images\\image1_3413_png.rf.d18ceb5ede7d864fef838167eae65120.jpg: 512x640 (no detections), 9.0ms\n",
      "image 88/169 D:\\Bone\\bone fracture detection.v4-v4.yolov8\\test\\images\\image1_344_png.rf.d52b5bab514fb7cfb568da05594a6404.jpg: 640x256 (no detections), 8.0ms\n",
      "image 89/169 D:\\Bone\\bone fracture detection.v4-v4.yolov8\\test\\images\\image1_350_png.rf.32b20b275bdbf30afb13d8d585da2743.jpg: 640x544 (no detections), 9.0ms\n",
      "image 90/169 D:\\Bone\\bone fracture detection.v4-v4.yolov8\\test\\images\\image1_354_png.rf.4fafa55e4596998cceb97af05c87b38d.jpg: 640x544 (no detections), 9.0ms\n",
      "image 91/169 D:\\Bone\\bone fracture detection.v4-v4.yolov8\\test\\images\\image1_355_png.rf.ae0f59ff3c26334cf587c5e76cc18b67.jpg: 640x544 (no detections), 9.0ms\n",
      "image 92/169 D:\\Bone\\bone fracture detection.v4-v4.yolov8\\test\\images\\image1_3565_png.rf.52153ba946f07810b3c16f62d202db16.jpg: 448x640 (no detections), 80.5ms\n",
      "image 93/169 D:\\Bone\\bone fracture detection.v4-v4.yolov8\\test\\images\\image1_358_png.rf.ae461871b8aa93ee2b62c42d61ada754.jpg: 640x448 (no detections), 8.0ms\n",
      "image 94/169 D:\\Bone\\bone fracture detection.v4-v4.yolov8\\test\\images\\image1_3620_png.rf.484267b719f5e17f04fecfe359aff37d.jpg: 640x320 (no detections), 6.7ms\n",
      "image 95/169 D:\\Bone\\bone fracture detection.v4-v4.yolov8\\test\\images\\image1_3726_png.rf.2876d2f0108b5a9fb5c23e8fb95f4625.jpg: 640x288 (no detections), 9.0ms\n",
      "image 96/169 D:\\Bone\\bone fracture detection.v4-v4.yolov8\\test\\images\\image1_3739_png.rf.378cc67dc76f5d423a65e397d699fa37.jpg: 640x192 (no detections), 7.0ms\n",
      "image 97/169 D:\\Bone\\bone fracture detection.v4-v4.yolov8\\test\\images\\image1_375_png.rf.309ea11b65edee9329ae91a338bcefe9.jpg: 640x256 (no detections), 6.1ms\n",
      "image 98/169 D:\\Bone\\bone fracture detection.v4-v4.yolov8\\test\\images\\image1_37_png.rf.bda84ad18e135a15c25ffd40bd55567f.jpg: 640x640 (no detections), 10.0ms\n",
      "image 99/169 D:\\Bone\\bone fracture detection.v4-v4.yolov8\\test\\images\\image1_388_png.rf.b1fe6ed17e0c06f51058539841f1a51c.jpg: 640x512 (no detections), 8.5ms\n",
      "image 100/169 D:\\Bone\\bone fracture detection.v4-v4.yolov8\\test\\images\\image1_3914_png.rf.d8e6ab2b78990092b7856255dd9726b7.jpg: 544x640 (no detections), 10.0ms\n",
      "image 101/169 D:\\Bone\\bone fracture detection.v4-v4.yolov8\\test\\images\\image1_391_png.rf.0b615525b5dec73ed6871c657bfded04.jpg: 640x416 (no detections), 10.0ms\n",
      "image 102/169 D:\\Bone\\bone fracture detection.v4-v4.yolov8\\test\\images\\image1_4007_png.rf.5c5b46eb5afec1aecfd8ec0119476889.jpg: 640x160 1 fingers positive, 80.5ms\n",
      "image 103/169 D:\\Bone\\bone fracture detection.v4-v4.yolov8\\test\\images\\image1_4097_png.rf.5579812fd38a497fbfeabe584564ffaf.jpg: 640x512 (no detections), 9.0ms\n",
      "image 104/169 D:\\Bone\\bone fracture detection.v4-v4.yolov8\\test\\images\\image1_40_png.rf.3404b7671f39e7295097dd6dabb28a97.jpg: 640x640 (no detections), 10.5ms\n",
      "image 105/169 D:\\Bone\\bone fracture detection.v4-v4.yolov8\\test\\images\\image1_416_png.rf.4aaadbb2bfef18ef419564a862caa457.jpg: 544x640 (no detections), 9.2ms\n",
      "image 106/169 D:\\Bone\\bone fracture detection.v4-v4.yolov8\\test\\images\\image1_4300_png.rf.d4626ae6c3183d2419faae148cd72283.jpg: 640x416 (no detections), 9.0ms\n",
      "image 107/169 D:\\Bone\\bone fracture detection.v4-v4.yolov8\\test\\images\\image1_432_png.rf.f040d366cb944d4ab64b58825db1fedc.jpg: 608x640 (no detections), 19.4ms\n",
      "image 108/169 D:\\Bone\\bone fracture detection.v4-v4.yolov8\\test\\images\\image1_437_png.rf.fc6edfb87d799f751a64d540952739cc.jpg: 640x320 (no detections), 12.2ms\n",
      "image 109/169 D:\\Bone\\bone fracture detection.v4-v4.yolov8\\test\\images\\image1_43_png.rf.9757e6d0c648b4544e9043ccc8fb31ca.jpg: 640x512 (no detections), 17.5ms\n",
      "image 110/169 D:\\Bone\\bone fracture detection.v4-v4.yolov8\\test\\images\\image1_448_png.rf.70f487675effb06da9c6c334b5fe29cc.jpg: 640x480 (no detections), 14.0ms\n",
      "image 111/169 D:\\Bone\\bone fracture detection.v4-v4.yolov8\\test\\images\\image1_4498_png.rf.36adec7c0d9bacf95faf5c87d28dfbe7.jpg: 640x608 (no detections), 19.0ms\n",
      "image 112/169 D:\\Bone\\bone fracture detection.v4-v4.yolov8\\test\\images\\image1_4499_png.rf.8ed6bcadb4b1266886b392db6f1f1da2.jpg: 640x224 1 fingers positive, 10.0ms\n",
      "image 113/169 D:\\Bone\\bone fracture detection.v4-v4.yolov8\\test\\images\\image1_450_png.rf.c1640af9f113b3690185c7b22e1d76ec.jpg: 640x512 (no detections), 17.0ms\n",
      "image 114/169 D:\\Bone\\bone fracture detection.v4-v4.yolov8\\test\\images\\image1_4521_png.rf.9d460c80d2b830fc35b17c628a6d6290.jpg: 640x160 (no detections), 10.0ms\n",
      "image 115/169 D:\\Bone\\bone fracture detection.v4-v4.yolov8\\test\\images\\image1_454_png.rf.3dd6c4b175031818178433bd945d2af9.jpg: 640x544 (no detections), 17.0ms\n",
      "image 116/169 D:\\Bone\\bone fracture detection.v4-v4.yolov8\\test\\images\\image1_462_png.rf.1af786d0d41cd4ddc775694d50a5189d.jpg: 640x256 1 fingers positive, 10.0ms\n",
      "image 117/169 D:\\Bone\\bone fracture detection.v4-v4.yolov8\\test\\images\\image1_467_png.rf.b1cc6164190c9fbf10f622b0f06fc115.jpg: 640x544 (no detections), 17.0ms\n",
      "image 118/169 D:\\Bone\\bone fracture detection.v4-v4.yolov8\\test\\images\\image1_486_png.rf.57d8fa147cc2e2f6e7fb6067b94fdd17.jpg: 640x480 (no detections), 14.4ms\n",
      "image 119/169 D:\\Bone\\bone fracture detection.v4-v4.yolov8\\test\\images\\image1_4966_png.rf.27ae131adff1063f606ceecb0fddc7c2.jpg: 640x512 1 shoulder fracture, 15.9ms\n",
      "image 120/169 D:\\Bone\\bone fracture detection.v4-v4.yolov8\\test\\images\\image1_496_png.rf.be69c35487b2531b272b242febfdebb1.jpg: 640x608 1 fingers positive, 16.0ms\n",
      "image 121/169 D:\\Bone\\bone fracture detection.v4-v4.yolov8\\test\\images\\image1_497_png.rf.d6769296bd5c7ac8218ae363a5dc3968.jpg: 640x384 (no detections), 9.0ms\n",
      "image 122/169 D:\\Bone\\bone fracture detection.v4-v4.yolov8\\test\\images\\image1_508_png.rf.63f80ba9eca75737d7435b9122d70288.jpg: 640x544 (no detections), 15.1ms\n",
      "image 123/169 D:\\Bone\\bone fracture detection.v4-v4.yolov8\\test\\images\\image1_509_png.rf.4b918f154cece667f6fe4ec2e676eaf1.jpg: 512x640 (no detections), 15.8ms\n",
      "image 124/169 D:\\Bone\\bone fracture detection.v4-v4.yolov8\\test\\images\\image1_511_png.rf.9e17ffe27582ff4724db0edbc22118ba.jpg: 512x640 (no detections), 12.4ms\n",
      "image 125/169 D:\\Bone\\bone fracture detection.v4-v4.yolov8\\test\\images\\image1_51_png.rf.56172f90bd654dcc6cc4ac47f79988a2.jpg: 512x640 (no detections), 13.0ms\n",
      "image 126/169 D:\\Bone\\bone fracture detection.v4-v4.yolov8\\test\\images\\image1_52_png.rf.b194877235d291ca9e2e8824392bf776.jpg: 640x544 1 humerus, 13.0ms\n",
      "image 127/169 D:\\Bone\\bone fracture detection.v4-v4.yolov8\\test\\images\\image1_536_png.rf.20bf7f571e4badd6d76c3a8894575eb7.jpg: 640x544 1 humerus, 14.0ms\n",
      "image 128/169 D:\\Bone\\bone fracture detection.v4-v4.yolov8\\test\\images\\image1_537_png.rf.06ee5106226a244e50fa61450224633b.jpg: 640x544 (no detections), 10.0ms\n",
      "image 129/169 D:\\Bone\\bone fracture detection.v4-v4.yolov8\\test\\images\\image1_540_png.rf.0e3e26d67bb471fb263c983cdf758c46.jpg: 512x640 (no detections), 12.2ms\n",
      "image 130/169 D:\\Bone\\bone fracture detection.v4-v4.yolov8\\test\\images\\image1_5740_png.rf.9e24e104e841b740e0389637d5e6d2d7.jpg: 544x640 1 shoulder fracture, 13.0ms\n",
      "image 131/169 D:\\Bone\\bone fracture detection.v4-v4.yolov8\\test\\images\\image1_594_png.rf.08dd02caad7756ae235e1ff58a0205b6.jpg: 640x416 (no detections), 11.1ms\n",
      "image 132/169 D:\\Bone\\bone fracture detection.v4-v4.yolov8\\test\\images\\image1_6234_png.rf.564f9903c116204416868f0a2273e6ba.jpg: 640x576 1 shoulder fracture, 14.8ms\n",
      "image 133/169 D:\\Bone\\bone fracture detection.v4-v4.yolov8\\test\\images\\image1_623_png.rf.056fad4c4c1c2381cdabf35f947ab1bb.jpg: 640x544 (no detections), 13.2ms\n",
      "image 134/169 D:\\Bone\\bone fracture detection.v4-v4.yolov8\\test\\images\\image1_62_png.rf.49b4ef3c363843b800174d2fdfc56ee8.jpg: 640x512 (no detections), 12.8ms\n",
      "image 135/169 D:\\Bone\\bone fracture detection.v4-v4.yolov8\\test\\images\\image1_633_png.rf.9bd74183541bd851e79f94d3f07c50d6.jpg: 512x640 (no detections), 5.9ms\n",
      "image 136/169 D:\\Bone\\bone fracture detection.v4-v4.yolov8\\test\\images\\image1_635_png.rf.87aa3f97aeaffa79004761ae1f895cac.jpg: 640x512 (no detections), 5.0ms\n",
      "image 137/169 D:\\Bone\\bone fracture detection.v4-v4.yolov8\\test\\images\\image1_637_png.rf.750d1e44edbbb461c9505f1d9c0e4a02.jpg: 640x608 (no detections), 5.0ms\n",
      "image 138/169 D:\\Bone\\bone fracture detection.v4-v4.yolov8\\test\\images\\image1_639_png.rf.915590376683dad767046b536acd3b19.jpg: 640x224 1 fingers positive, 6.0ms\n",
      "image 139/169 D:\\Bone\\bone fracture detection.v4-v4.yolov8\\test\\images\\image1_645_png.rf.402f6afd337e508ac75cc56d0ecf912c.jpg: 640x544 (no detections), 6.0ms\n",
      "image 140/169 D:\\Bone\\bone fracture detection.v4-v4.yolov8\\test\\images\\image1_6478_png.rf.eee144dfa7e8712592f7d8b10523e2fa.jpg: 640x512 1 shoulder fracture, 5.0ms\n",
      "image 141/169 D:\\Bone\\bone fracture detection.v4-v4.yolov8\\test\\images\\image1_651_png.rf.c3391a5ae823bf5de28ed36b3f23f93a.jpg: 640x448 (no detections), 5.0ms\n",
      "image 142/169 D:\\Bone\\bone fracture detection.v4-v4.yolov8\\test\\images\\image1_663_png.rf.460908c550b08162d5553b1073c8495c.jpg: 640x544 (no detections), 7.1ms\n",
      "image 143/169 D:\\Bone\\bone fracture detection.v4-v4.yolov8\\test\\images\\image1_670_png.rf.da8ddaaa5ef3e99f8da51b6664740aa4.jpg: 640x512 1 fingers positive, 7.4ms\n",
      "image 144/169 D:\\Bone\\bone fracture detection.v4-v4.yolov8\\test\\images\\image1_673_png.rf.fbe0dea2deaf75d49f079ca7d33abe14.jpg: 640x384 (no detections), 5.0ms\n",
      "image 145/169 D:\\Bone\\bone fracture detection.v4-v4.yolov8\\test\\images\\image1_674_png.rf.9c85436fb6b27fc193107ee487555959.jpg: 640x544 (no detections), 4.0ms\n",
      "image 146/169 D:\\Bone\\bone fracture detection.v4-v4.yolov8\\test\\images\\image1_68_png.rf.9e3dfa26e497af0a8f676a9686fd0e20.jpg: 640x512 (no detections), 6.0ms\n",
      "image 147/169 D:\\Bone\\bone fracture detection.v4-v4.yolov8\\test\\images\\image1_6973_png.rf.6a71f376e7ce54b8e8d484d17e699596.jpg: 640x512 (no detections), 5.0ms\n",
      "image 148/169 D:\\Bone\\bone fracture detection.v4-v4.yolov8\\test\\images\\image1_704_png.rf.e3668d404753b933e1fd9500e697ca8c.jpg: 512x640 (no detections), 6.0ms\n",
      "image 149/169 D:\\Bone\\bone fracture detection.v4-v4.yolov8\\test\\images\\image1_726_png.rf.d196dd48429681a19051d39b968f3fb0.jpg: 640x640 (no detections), 5.0ms\n",
      "image 150/169 D:\\Bone\\bone fracture detection.v4-v4.yolov8\\test\\images\\image1_745_png.rf.4e5bc3fc5e483e6cc01963dd3d591550.jpg: 640x480 (no detections), 12.5ms\n",
      "image 151/169 D:\\Bone\\bone fracture detection.v4-v4.yolov8\\test\\images\\image1_8002_png.rf.3b1d55e198fdcd09f808da01429ee7c7.jpg: 640x512 1 shoulder fracture, 5.1ms\n",
      "image 152/169 D:\\Bone\\bone fracture detection.v4-v4.yolov8\\test\\images\\image1_848_png.rf.029e1130bf23b22edbf687ed6b1902ed.jpg: 640x224 1 forearm fracture, 4.8ms\n",
      "image 153/169 D:\\Bone\\bone fracture detection.v4-v4.yolov8\\test\\images\\image1_852_png.rf.b721589a516459f110ab073a190f3f0f.jpg: 384x640 (no detections), 80.6ms\n",
      "image 154/169 D:\\Bone\\bone fracture detection.v4-v4.yolov8\\test\\images\\image1_860_png.rf.37fd7f57d0b9ec38eafafceacdbd4f4c.jpg: 640x352 (no detections), 6.0ms\n",
      "image 155/169 D:\\Bone\\bone fracture detection.v4-v4.yolov8\\test\\images\\image1_92_png.rf.108b5397d94ff8c3c87cc885247ef603.jpg: 640x288 (no detections), 6.0ms\n",
      "image 156/169 D:\\Bone\\bone fracture detection.v4-v4.yolov8\\test\\images\\image1_9_png.rf.063293a5d91155202c1ec5f03dd1170b.jpg: 640x544 (no detections), 6.0ms\n",
      "image 157/169 D:\\Bone\\bone fracture detection.v4-v4.yolov8\\test\\images\\image2_1421_png.rf.b623cea6c9617fcf2f09843434e25218.jpg: 416x640 (no detections), 87.6ms\n",
      "image 158/169 D:\\Bone\\bone fracture detection.v4-v4.yolov8\\test\\images\\image2_1540_png.rf.46ec2cd9f9775a6e815e5062658d9fb0.jpg: 640x544 1 wrist positive, 6.0ms\n",
      "image 159/169 D:\\Bone\\bone fracture detection.v4-v4.yolov8\\test\\images\\image2_1718_png.rf.3320525501293fd17921dbca2ec70ebf.jpg: 544x640 (no detections), 6.6ms\n",
      "image 160/169 D:\\Bone\\bone fracture detection.v4-v4.yolov8\\test\\images\\image2_1758_png.rf.be01737bb3e65525d2fcac4a9814624f.jpg: 544x640 (no detections), 4.0ms\n",
      "image 161/169 D:\\Bone\\bone fracture detection.v4-v4.yolov8\\test\\images\\image2_176_png.rf.87231f93e98596a5a1b52ef2fd5a7871.jpg: 640x544 1 shoulder fracture, 5.0ms\n",
      "image 162/169 D:\\Bone\\bone fracture detection.v4-v4.yolov8\\test\\images\\image2_199_png.rf.111ecddb2bdc3542d7f953385d1bb03b.jpg: 640x480 (no detections), 8.0ms\n",
      "image 163/169 D:\\Bone\\bone fracture detection.v4-v4.yolov8\\test\\images\\image2_232_png.rf.66b26e2592f806b3b659538ae42a2e74.jpg: 640x640 (no detections), 6.5ms\n",
      "image 164/169 D:\\Bone\\bone fracture detection.v4-v4.yolov8\\test\\images\\image2_636_png.rf.3a27fb8f5d5892ce33733630521b1e3d.jpg: 544x640 (no detections), 5.0ms\n",
      "image 165/169 D:\\Bone\\bone fracture detection.v4-v4.yolov8\\test\\images\\image2_641_png.rf.ca0bfddb8b5ac5e97fa841e32c94ad9a.jpg: 448x640 (no detections), 5.0ms\n",
      "image 166/169 D:\\Bone\\bone fracture detection.v4-v4.yolov8\\test\\images\\image2_698_png.rf.66b6d614653eed2ef4e81695aca5c5a6.jpg: 512x640 (no detections), 5.2ms\n",
      "image 167/169 D:\\Bone\\bone fracture detection.v4-v4.yolov8\\test\\images\\image2_812_png.rf.cfcd3189eb853066fc4819ad746775a6.jpg: 288x640 (no detections), 81.1ms\n",
      "image 168/169 D:\\Bone\\bone fracture detection.v4-v4.yolov8\\test\\images\\image2_849_png.rf.761ec251e358a15e08cdad95fd41492a.jpg: 224x640 1 forearm fracture, 81.7ms\n",
      "image 169/169 D:\\Bone\\bone fracture detection.v4-v4.yolov8\\test\\images\\image2_953_png.rf.97a41890b4badde45bfc390f9f5c9d12.jpg: 640x544 1 forearm fracture, 6.0ms\n",
      "Speed: 2.3ms preprocess, 19.9ms inference, 0.6ms postprocess per image at shape (1, 3, 640, 544)\n",
      "Results saved to \u001b[1mruns\\detect\\predict\u001b[0m\n",
      "Predictions completed. Results saved.\n"
     ]
    }
   ],
   "source": [
    "#Predict on Test Images\n",
    "#Load the trained model with the best weights\n",
    "trained_model = YOLO('bone_detection/bone_yolov8/weights/best.pt')\n",
    "\n",
    "#Predict on test images\n",
    "results = trained_model.predict(\n",
    "    source=r\"D:\\Bone\\bone fracture detection.v4-v4.yolov8\\test\\images\",  #Path to test images\n",
    "    save=True,  #Save the results\n",
    "    conf=0.5,  #Confidence threshold for predictions\n",
    ")\n",
    "\n",
    "print(\"Predictions completed. Results saved.\")"
   ]
  },
  {
   "cell_type": "code",
   "execution_count": 9,
   "metadata": {},
   "outputs": [],
   "source": [
    "import yaml\n",
    "import cv2\n",
    "from tqdm import tqdm"
   ]
  },
  {
   "cell_type": "code",
   "execution_count": 10,
   "metadata": {},
   "outputs": [],
   "source": [
    "#Paths\n",
    "base_path = \"D:/Bone/BoneFractureYolo8\" \n",
    "dataset_folders = ['train', 'valid', 'test'] \n",
    "output_annotation_path = \"annotations.json\"  #Output path for COCO formatted annotations\n",
    "yaml_file_path = \"D:/Bone/BoneFractureYolo8/data.yaml\""
   ]
  },
  {
   "cell_type": "code",
   "execution_count": 11,
   "metadata": {},
   "outputs": [],
   "source": [
    "with open(yaml_file_path, 'r') as f:\n",
    "    yaml_data = yaml.safe_load(f)\n",
    "\n",
    "class_mapping = yaml_data.get('classes', ['fracture'])  #Extract class mapping"
   ]
  },
  {
   "cell_type": "code",
   "execution_count": 12,
   "metadata": {},
   "outputs": [],
   "source": [
    "#Initialize list to store annotations in COCO format\n",
    "annotations = []\n",
    "image_id = 0\n",
    "images = [] \n",
    "annotation_id = 1\n",
    "categories = [{'id': 1, 'name': 'fracture', 'supercategory': 'fracture'}] "
   ]
  },
  {
   "cell_type": "code",
   "execution_count": 13,
   "metadata": {},
   "outputs": [
    {
     "name": "stderr",
     "output_type": "stream",
     "text": [
      "100%|██████████| 3631/3631 [00:00<00:00, 14924.84it/s]\n",
      "100%|██████████| 348/348 [00:00<00:00, 14818.15it/s]\n",
      "100%|██████████| 169/169 [00:00<00:00, 13773.19it/s]\n"
     ]
    }
   ],
   "source": [
    "#Iterate through dataset folders (train, valid, test)\n",
    "for dataset in dataset_folders:\n",
    "    image_folder = os.path.join(base_path, dataset, 'images')\n",
    "    label_folder = os.path.join(base_path, dataset, 'labels')\n",
    "\n",
    "    #Check if the directories exist\n",
    "    if not os.path.exists(image_folder) or not os.path.exists(label_folder):\n",
    "        print(f\"Skipping {dataset}: {image_folder} or {label_folder} not found.\")\n",
    "        continue\n",
    "\n",
    "    #Iterate over image files in the 'images' folder\n",
    "    for img_filename in tqdm(os.listdir(image_folder)):\n",
    "        if img_filename.endswith('.jpg') or img_filename.endswith('.png'):\n",
    "            #Get the image ID and file name\n",
    "            img_id = len(images) + 1\n",
    "            img_path = os.path.join(image_folder, img_filename)\n",
    "            \n",
    "            #Add the image info to the 'images' list\n",
    "            images.append({\n",
    "                'id': img_id,\n",
    "                'file_name': img_filename,\n",
    "                'width': 1024,  \n",
    "                'height': 1024  \n",
    "            })\n",
    "\n",
    "            #Look for corresponding label file\n",
    "            label_file = os.path.join(label_folder, img_filename.replace('.jpg', '.txt').replace('.png', '.txt'))\n",
    "            \n",
    "            #If label file exists, process the annotations\n",
    "            if os.path.exists(label_file):\n",
    "                with open(label_file, 'r') as f:\n",
    "                    for line in f:\n",
    "                        class_id, x_center, y_center, width, height, *_ = map(float, line.split())\n",
    "                        \n",
    "                        #Convert YOLO format (x_center, y_center, width, height) to COCO bbox format\n",
    "                        #COCO format: [x_min, y_min, width, height]\n",
    "                        img_width, img_height = 1024, 1024  \n",
    "                        x_min = (x_center - width / 2) * img_width\n",
    "                        y_min = (y_center - height / 2) * img_height\n",
    "                        bbox_width = width * img_width\n",
    "                        bbox_height = height * img_height\n",
    "                        \n",
    "                        #Add annotation info to the 'annotations' list\n",
    "                        annotations.append({\n",
    "                            'id': annotation_id,\n",
    "                            'image_id': img_id,\n",
    "                            'category_id': 1,  # 'fracture' class ID\n",
    "                            'bbox': [x_min, y_min, bbox_width, bbox_height],\n",
    "                            'area': bbox_width * bbox_height,\n",
    "                            'iscrowd': 0\n",
    "                        })\n",
    "                        annotation_id += 1"
   ]
  },
  {
   "cell_type": "code",
   "execution_count": 14,
   "metadata": {},
   "outputs": [],
   "source": [
    "#Create the final COCO format dictionary\n",
    "annotations_data = {\n",
    "    'images': images,\n",
    "    'annotations': annotations,\n",
    "    'categories': categories\n",
    "}\n"
   ]
  },
  {
   "cell_type": "code",
   "execution_count": 15,
   "metadata": {},
   "outputs": [
    {
     "name": "stdout",
     "output_type": "stream",
     "text": [
      "Annotations saved to D:/Bone/BoneFractureYolo8/annotations.json\n"
     ]
    }
   ],
   "source": [
    "#Save the annotations to a JSON file\n",
    "gt_annotation_path = 'D:/Bone/BoneFractureYolo8/annotations.json'\n",
    "with open(gt_annotation_path, 'w') as f:\n",
    "    json.dump(annotations_data, f)\n",
    "\n",
    "print(f\"Annotations saved to {gt_annotation_path}\")"
   ]
  },
  {
   "cell_type": "code",
   "execution_count": null,
   "metadata": {},
   "outputs": [
    {
     "name": "stdout",
     "output_type": "stream",
     "text": [
      "Image: ('distal-humerus-fracture-1_jpg.rf.831cb137cfcbde1079f86abd5f5f2867.jpg',), Shape: torch.Size([1, 3, 640, 640])\n",
      "Image: ('image1_0_png.rf.99862308d714bff3f9c410adf5ca93ac.jpg',), Shape: torch.Size([1, 3, 640, 640])\n",
      "Image: ('image1_1000_png.rf.a53c5e186c03961bf88075c6e3e94cf6.jpg',), Shape: torch.Size([1, 3, 640, 640])\n"
     ]
    }
   ],
   "source": [
    "from torch.utils.data import DataLoader, Dataset\n",
    "from PIL import Image\n",
    "from torchvision import transforms\n",
    "\n",
    "class BoneFractureDataset(Dataset):\n",
    "    def __init__(self, images_folder, transform=None):\n",
    "        self.images_folder = images_folder\n",
    "        self.image_files = [\n",
    "            f for f in os.listdir(images_folder)\n",
    "            if f.endswith(('.jpg', '.png'))\n",
    "        ]\n",
    "        self.transform = transform\n",
    "\n",
    "    def __len__(self):\n",
    "        return len(self.image_files)\n",
    "\n",
    "    def __getitem__(self, idx):\n",
    "        img_path = os.path.join(self.images_folder, self.image_files[idx])\n",
    "        image = Image.open(img_path).convert(\"RGB\")  \n",
    "\n",
    "        if self.transform:\n",
    "            image = self.transform(image)\n",
    "\n",
    "        return image, self.image_files[idx]  #Return image and filename\n",
    "\n",
    "#Define transformation (resize to match your model's input size)\n",
    "transform = transforms.Compose([\n",
    "    transforms.Resize((640, 640)),  #Adjust to YOLOv8's input size\n",
    "    transforms.ToTensor(),\n",
    "])\n",
    "\n",
    "#Define the dataset\n",
    "images_folder = \"D:/Bone/BoneFractureYolo8/test/images\"\n",
    "test_dataset = BoneFractureDataset(images_folder, transform=transform)\n",
    "\n",
    "#Create the DataLoader\n",
    "dataloader = DataLoader(test_dataset, batch_size=1, shuffle=False)\n",
    "\n",
    "#Print sample data\n",
    "for i, (image, filename) in enumerate(dataloader):\n",
    "    print(f\"Image: {filename}, Shape: {image.shape}\")\n",
    "    if i == 2:  #Stop after showing 3 examples\n",
    "        break\n"
   ]
  },
  {
   "cell_type": "code",
   "execution_count": 18,
   "metadata": {},
   "outputs": [
    {
     "name": "stdout",
     "output_type": "stream",
     "text": [
      "\n",
      "image 1/169 D:\\Bone\\BoneFractureYolo8\\test\\images\\distal-humerus-fracture-1_jpg.rf.831cb137cfcbde1079f86abd5f5f2867.jpg: 640x256 (no detections), 10.0ms\n",
      "image 2/169 D:\\Bone\\BoneFractureYolo8\\test\\images\\image1_0_png.rf.99862308d714bff3f9c410adf5ca93ac.jpg: 480x640 (no detections), 17.0ms\n",
      "image 3/169 D:\\Bone\\BoneFractureYolo8\\test\\images\\image1_1000_png.rf.a53c5e186c03961bf88075c6e3e94cf6.jpg: 544x640 1 humerus, 17.3ms\n",
      "image 4/169 D:\\Bone\\BoneFractureYolo8\\test\\images\\image1_1015_png.rf.3b7320c3c40771fa5532bf713a728b83.jpg: 544x640 (no detections), 16.6ms\n",
      "image 5/169 D:\\Bone\\BoneFractureYolo8\\test\\images\\image1_1015_png.rf.9181f8eb07451331e22381bacb3a5bd2.jpg: 640x640 (no detections), 18.0ms\n",
      "image 6/169 D:\\Bone\\BoneFractureYolo8\\test\\images\\image1_1033_png.rf.4bbf6560a26646b1d3a1ab600aa19251.jpg: 512x640 (no detections), 17.1ms\n",
      "image 7/169 D:\\Bone\\BoneFractureYolo8\\test\\images\\image1_1035_png.rf.d7493a5653bc3628f7a1b1ec0eb5de85.jpg: 640x544 1 shoulder fracture, 15.6ms\n",
      "image 8/169 D:\\Bone\\BoneFractureYolo8\\test\\images\\image1_1044_png.rf.1e17d3a8637036ef4b3e1c5d0b88011f.jpg: 640x448 1 fingers positive, 12.0ms\n",
      "image 9/169 D:\\Bone\\BoneFractureYolo8\\test\\images\\image1_1057_png.rf.dbd0e857728d8b149e5732cb2824d819.jpg: 640x544 1 forearm fracture, 17.1ms\n",
      "image 10/169 D:\\Bone\\BoneFractureYolo8\\test\\images\\image1_1070_png.rf.d01735eab2c774146e40eef6c8e7b661.jpg: 640x480 (no detections), 14.0ms\n",
      "image 11/169 D:\\Bone\\BoneFractureYolo8\\test\\images\\image1_1084_png.rf.d9da08b77872f6b4282f2700d216b9b3.jpg: 640x640 1 humerus, 17.0ms\n",
      "image 12/169 D:\\Bone\\BoneFractureYolo8\\test\\images\\image1_1101_png.rf.76b621303ad7da308e79a2e39d860675.jpg: 640x480 (no detections), 14.0ms\n",
      "image 13/169 D:\\Bone\\BoneFractureYolo8\\test\\images\\image1_1126_png.rf.66c21ce21ee255ed4bdc66164bac87c5.jpg: 544x640 1 forearm fracture, 16.0ms\n",
      "image 14/169 D:\\Bone\\BoneFractureYolo8\\test\\images\\image1_1134_png.rf.642f46a1f0f794f24f5aa3edcf58bdcf.jpg: 640x288 (no detections), 11.0ms\n",
      "image 15/169 D:\\Bone\\BoneFractureYolo8\\test\\images\\image1_1137_png.rf.fd851f5a4b2be36de41c54ec6a53c989.jpg: 512x640 (no detections), 15.0ms\n",
      "image 16/169 D:\\Bone\\BoneFractureYolo8\\test\\images\\image1_1175_png.rf.aad108f3739e48313c773ad1392a8966.jpg: 640x576 1 humerus, 6.2ms\n",
      "image 17/169 D:\\Bone\\BoneFractureYolo8\\test\\images\\image1_117_png.rf.e200e6b84f70bd27ba1e1123d052755e.jpg: 480x640 (no detections), 8.3ms\n",
      "image 18/169 D:\\Bone\\BoneFractureYolo8\\test\\images\\image1_1233_png.rf.4e2b7dc04a17f7f3a33a343e8f7ee67e.jpg: 512x640 (no detections), 5.0ms\n",
      "image 19/169 D:\\Bone\\BoneFractureYolo8\\test\\images\\image1_125_png.rf.0025d3a37097e5e1e913d6b36f38df9a.jpg: 640x640 (no detections), 6.0ms\n",
      "image 20/169 D:\\Bone\\BoneFractureYolo8\\test\\images\\image1_1284_png.rf.45c8239cf68c001ba91d7d002729eec7.jpg: 640x512 (no detections), 6.0ms\n",
      "image 21/169 D:\\Bone\\BoneFractureYolo8\\test\\images\\image1_12_png.rf.5f6971023573ad4a240a4e4c4dae0e5f.jpg: 640x640 (no detections), 6.8ms\n",
      "image 22/169 D:\\Bone\\BoneFractureYolo8\\test\\images\\image1_1311_png.rf.27646e931562cc3823c79f79472b8749.jpg: 544x640 (no detections), 6.0ms\n",
      "image 23/169 D:\\Bone\\BoneFractureYolo8\\test\\images\\image1_1326_png.rf.6019c7e15df84d9d6286932d03e687b6.jpg: 320x640 (no detections), 5.0ms\n",
      "image 24/169 D:\\Bone\\BoneFractureYolo8\\test\\images\\image1_1359_png.rf.7475a35f950cea14d8dcd975042229b2.jpg: 544x640 (no detections), 6.6ms\n",
      "image 25/169 D:\\Bone\\BoneFractureYolo8\\test\\images\\image1_1365_png.rf.588432cc594787268e4d4e7bdf4bb240.jpg: 640x512 1 shoulder fracture, 6.0ms\n",
      "image 26/169 D:\\Bone\\BoneFractureYolo8\\test\\images\\image1_137_png.rf.996f3c880689913494b8c7baae7a6f0d.jpg: 608x640 (no detections), 5.0ms\n",
      "image 27/169 D:\\Bone\\BoneFractureYolo8\\test\\images\\image1_1392_png.rf.692d8594c2ce39483af8c3c4fee91646.jpg: 640x224 (no detections), 6.0ms\n",
      "image 28/169 D:\\Bone\\BoneFractureYolo8\\test\\images\\image1_145_png.rf.a69d928d011a93d25a95b7b8380ea25d.jpg: 640x352 2 humeruss, 5.0ms\n",
      "image 29/169 D:\\Bone\\BoneFractureYolo8\\test\\images\\image1_1471_png.rf.3ba297237985853fdf9e2c9f79f07f1d.jpg: 640x608 (no detections), 6.0ms\n",
      "image 30/169 D:\\Bone\\BoneFractureYolo8\\test\\images\\image1_148_png.rf.b9799a5fddd2b4b2b747dc5c49f1643f.jpg: 640x480 (no detections), 6.0ms\n",
      "image 31/169 D:\\Bone\\BoneFractureYolo8\\test\\images\\image1_152_png.rf.f6e7109e7499a7a20e4fc8c0940603d3.jpg: 640x448 (no detections), 6.0ms\n",
      "image 32/169 D:\\Bone\\BoneFractureYolo8\\test\\images\\image1_1545_png.rf.cd2ce2cc69004944f0d920c4bda34592.jpg: 640x448 (no detections), 5.0ms\n",
      "image 33/169 D:\\Bone\\BoneFractureYolo8\\test\\images\\image1_154_png.rf.bf5cc83ea60cb0fd21d1f21ab7055f9d.jpg: 640x544 (no detections), 6.0ms\n",
      "image 34/169 D:\\Bone\\BoneFractureYolo8\\test\\images\\image1_1553_png.rf.ec209f9a8e0e7a41b30a1683a4574f00.jpg: 640x512 (no detections), 6.0ms\n",
      "image 35/169 D:\\Bone\\BoneFractureYolo8\\test\\images\\image1_1563_png.rf.4d5bc124b48e7d4d2636d2d6691e36f2.jpg: 480x640 (no detections), 6.0ms\n",
      "image 36/169 D:\\Bone\\BoneFractureYolo8\\test\\images\\image1_1588_png.rf.aba29f401dee4db13fc5434f3c0186b4.jpg: 640x512 4 fingers positives, 6.0ms\n",
      "image 37/169 D:\\Bone\\BoneFractureYolo8\\test\\images\\image1_164_png.rf.ed315410a29883c298454af69f3ae895.jpg: 512x640 (no detections), 6.1ms\n",
      "image 38/169 D:\\Bone\\BoneFractureYolo8\\test\\images\\image1_1682_png.rf.8c3d0845adaa6d884f90b3a020573069.jpg: 640x640 1 elbow positive, 7.0ms\n",
      "image 39/169 D:\\Bone\\BoneFractureYolo8\\test\\images\\image1_1741_png.rf.abfab4411413ca60310f9787db4d8d83.jpg: 512x640 2 elbow positives, 8.0ms\n",
      "image 40/169 D:\\Bone\\BoneFractureYolo8\\test\\images\\image1_1796_png.rf.42413ce321f53b714fc52ffa1d1a2021.jpg: 640x640 (no detections), 7.1ms\n",
      "image 41/169 D:\\Bone\\BoneFractureYolo8\\test\\images\\image1_1813_png.rf.36e36804ccd3bc72b0fc02d36029d08f.jpg: 640x448 (no detections), 7.0ms\n",
      "image 42/169 D:\\Bone\\BoneFractureYolo8\\test\\images\\image1_182_png.rf.c9539857a1608ea4850d37195ff767ce.jpg: 640x640 (no detections), 8.0ms\n",
      "image 43/169 D:\\Bone\\BoneFractureYolo8\\test\\images\\image1_184_png.rf.e493197224b25d2fe8234345382fb4b9.jpg: 640x576 (no detections), 7.5ms\n",
      "image 44/169 D:\\Bone\\BoneFractureYolo8\\test\\images\\image1_186_png.rf.e7ef27f31171ef062f867a9043ecb879.jpg: 640x352 (no detections), 8.0ms\n",
      "image 45/169 D:\\Bone\\BoneFractureYolo8\\test\\images\\image1_189_png.rf.9fe16c915039954baf6675c96b2bacc6.jpg: 640x544 (no detections), 7.0ms\n",
      "image 46/169 D:\\Bone\\BoneFractureYolo8\\test\\images\\image1_1981_png.rf.05106dc3354a8d2c4292cacd2813aae1.jpg: 640x512 (no detections), 6.4ms\n",
      "image 47/169 D:\\Bone\\BoneFractureYolo8\\test\\images\\image1_1_png.rf.ff3f4a12a8e46a9a9aecace2ebf3869a.jpg: 640x544 (no detections), 9.0ms\n",
      "image 48/169 D:\\Bone\\BoneFractureYolo8\\test\\images\\image1_211_png.rf.e1fd0ca40a197d13f9ecae59c4074d43.jpg: 640x512 (no detections), 7.0ms\n",
      "image 49/169 D:\\Bone\\BoneFractureYolo8\\test\\images\\image1_2128_png.rf.9cdb5d69b7f964d77ef2cd8ddaa64b3d.jpg: 480x640 (no detections), 7.0ms\n",
      "image 50/169 D:\\Bone\\BoneFractureYolo8\\test\\images\\image1_212_png.rf.2ffb29b8c57630c49b7ee34bce2c46f3.jpg: 640x640 (no detections), 7.2ms\n",
      "image 51/169 D:\\Bone\\BoneFractureYolo8\\test\\images\\image1_2157_png.rf.37cf76e910103b2aa83a2c925849f300.jpg: 640x512 2 elbow positives, 6.0ms\n",
      "image 52/169 D:\\Bone\\BoneFractureYolo8\\test\\images\\image1_2207_png.rf.826e33db891514f1a14c23ece2273e7e.jpg: 640x512 1 forearm fracture, 1 wrist positive, 6.0ms\n",
      "image 53/169 D:\\Bone\\BoneFractureYolo8\\test\\images\\image1_2263_png.rf.43688af1368a72ad0bc6719a5dcab20b.jpg: 640x608 (no detections), 10.4ms\n",
      "image 54/169 D:\\Bone\\BoneFractureYolo8\\test\\images\\image1_22_png.rf.bb53a5b5275a858894f501512908f07a.jpg: 640x352 (no detections), 8.0ms\n",
      "image 55/169 D:\\Bone\\BoneFractureYolo8\\test\\images\\image1_230_png.rf.f2a3605e418617cb313976daaec78e18.jpg: 640x544 1 shoulder fracture, 8.5ms\n",
      "image 56/169 D:\\Bone\\BoneFractureYolo8\\test\\images\\image1_2336_png.rf.76087ca1e6263ce05700b7e1f92b9f02.jpg: 512x640 1 shoulder fracture, 7.0ms\n",
      "image 57/169 D:\\Bone\\BoneFractureYolo8\\test\\images\\image1_23_png.rf.da8bbef32848f32a8d5434e328b10428.jpg: 512x640 (no detections), 6.0ms\n",
      "image 58/169 D:\\Bone\\BoneFractureYolo8\\test\\images\\image1_240_png.rf.c8b0cfb57aef2e4bc78d5a716909fd94.jpg: 640x512 (no detections), 6.0ms\n",
      "image 59/169 D:\\Bone\\BoneFractureYolo8\\test\\images\\image1_241_png.rf.9429a19b000ff9abd6339900245fb1ba.jpg: 640x192 (no detections), 9.3ms\n",
      "image 60/169 D:\\Bone\\BoneFractureYolo8\\test\\images\\image1_252_png.rf.81a8e63687d8630d28257570bd5fcd80.jpg: 640x512 (no detections), 8.0ms\n",
      "image 61/169 D:\\Bone\\BoneFractureYolo8\\test\\images\\image1_258_png.rf.7d64b6239897f6838c97b4d18d6ed0c9.jpg: 640x352 (no detections), 7.5ms\n",
      "image 62/169 D:\\Bone\\BoneFractureYolo8\\test\\images\\image1_2600_png.rf.01b17c4166e1ea6a863191eebfff35ae.jpg: 640x512 (no detections), 6.0ms\n",
      "image 63/169 D:\\Bone\\BoneFractureYolo8\\test\\images\\image1_268_png.rf.00406f976b1bd6c978e828d2c5085683.jpg: 640x544 (no detections), 7.0ms\n",
      "image 64/169 D:\\Bone\\BoneFractureYolo8\\test\\images\\image1_2694_png.rf.6390e595cb681c436da1dfa7b2c78dfd.jpg: 640x512 1 wrist positive, 7.0ms\n",
      "image 65/169 D:\\Bone\\BoneFractureYolo8\\test\\images\\image1_26_png.rf.ea3697c11878702d0b7728d240e2eb75.jpg: 320x640 1 forearm fracture, 6.0ms\n",
      "image 66/169 D:\\Bone\\BoneFractureYolo8\\test\\images\\image1_273_png.rf.b2d75c97ef473f97c7077eb114856b2a.jpg: 640x512 1 shoulder fracture, 7.0ms\n",
      "image 67/169 D:\\Bone\\BoneFractureYolo8\\test\\images\\image1_2794_png.rf.6b3aeafbe8917839f42840a597349a32.jpg: 640x512 (no detections), 7.6ms\n",
      "image 68/169 D:\\Bone\\BoneFractureYolo8\\test\\images\\image1_279_png.rf.b40ab0fc72a8fff98daa57979d24b206.jpg: 640x512 (no detections), 6.1ms\n",
      "image 69/169 D:\\Bone\\BoneFractureYolo8\\test\\images\\image1_2818_png.rf.3ef0c89fed24793069ef7828f4978ab4.jpg: 640x512 1 shoulder fracture, 7.0ms\n",
      "image 70/169 D:\\Bone\\BoneFractureYolo8\\test\\images\\image1_283_png.rf.f41cf5bd6aa70a2216bb701856df9e03.jpg: 544x640 (no detections), 8.0ms\n",
      "image 71/169 D:\\Bone\\BoneFractureYolo8\\test\\images\\image1_291_png.rf.c5a2f62a6316d1ebd9f91cb85ed65891.jpg: 544x640 (no detections), 6.1ms\n",
      "image 72/169 D:\\Bone\\BoneFractureYolo8\\test\\images\\image1_2959_png.rf.87b65aa9e9d80f284ae39c06d2892e6e.jpg: 640x384 (no detections), 6.2ms\n",
      "image 73/169 D:\\Bone\\BoneFractureYolo8\\test\\images\\image1_300_png.rf.68c69212cc50665b9c1ffa7dd4eb25a4.jpg: 640x640 (no detections), 6.0ms\n",
      "image 74/169 D:\\Bone\\BoneFractureYolo8\\test\\images\\image1_302_png.rf.dc3856686e28e1ff95efc721c7cda455.jpg: 512x640 (no detections), 6.0ms\n",
      "image 75/169 D:\\Bone\\BoneFractureYolo8\\test\\images\\image1_3054_png.rf.4be16ac99458914b4a34d0892e5f7ff0.jpg: 640x512 1 fingers positive, 7.0ms\n",
      "image 76/169 D:\\Bone\\BoneFractureYolo8\\test\\images\\image1_3073_png.rf.241285b7d595353800440e6d2b9b91f0.jpg: 640x416 (no detections), 6.0ms\n",
      "image 77/169 D:\\Bone\\BoneFractureYolo8\\test\\images\\image1_314_png.rf.870abcb0b0922e63bd5ba9389a1efd74.jpg: 640x512 (no detections), 6.0ms\n",
      "image 78/169 D:\\Bone\\BoneFractureYolo8\\test\\images\\image1_3167_png.rf.e97086c7a649e081f8b3ebdd6b27fd2f.jpg: 640x512 (no detections), 6.0ms\n",
      "image 79/169 D:\\Bone\\BoneFractureYolo8\\test\\images\\image1_3221_png.rf.5fb071486cc85c923cd8350b22ad6ee7.jpg: 640x352 1 elbow positive, 7.0ms\n",
      "image 80/169 D:\\Bone\\BoneFractureYolo8\\test\\images\\image1_327_png.rf.f8494f574a1ebe492bf514a9504da0a1.jpg: 640x544 (no detections), 7.0ms\n",
      "image 81/169 D:\\Bone\\BoneFractureYolo8\\test\\images\\image1_3368_png.rf.074f5f9364ab5534a1e1285ad13e5e0b.jpg: 640x512 1 shoulder fracture, 6.0ms\n",
      "image 82/169 D:\\Bone\\BoneFractureYolo8\\test\\images\\image1_336_png.rf.f758673053df7ac6e05b8671c2563062.jpg: 544x640 1 shoulder fracture, 7.3ms\n",
      "image 83/169 D:\\Bone\\BoneFractureYolo8\\test\\images\\image1_3374_png.rf.c13f2204d119c696615bdfeb960e7748.jpg: 640x320 1 wrist positive, 6.0ms\n",
      "image 84/169 D:\\Bone\\BoneFractureYolo8\\test\\images\\image1_338_png.rf.617385aa69fa890a370a37684bae944f.jpg: 640x480 (no detections), 9.0ms\n",
      "image 85/169 D:\\Bone\\BoneFractureYolo8\\test\\images\\image1_33_png.rf.c1c24340e753b63b6f4e5079b8ef474d.jpg: 640x480 1 wrist positive, 5.0ms\n",
      "image 86/169 D:\\Bone\\BoneFractureYolo8\\test\\images\\image1_340_png.rf.82476241970da952e6e27b1a9c43bef8.jpg: 640x480 (no detections), 5.0ms\n",
      "image 87/169 D:\\Bone\\BoneFractureYolo8\\test\\images\\image1_3413_png.rf.d18ceb5ede7d864fef838167eae65120.jpg: 512x640 1 elbow positive, 6.0ms\n",
      "image 88/169 D:\\Bone\\BoneFractureYolo8\\test\\images\\image1_344_png.rf.d52b5bab514fb7cfb568da05594a6404.jpg: 640x256 (no detections), 5.5ms\n",
      "image 89/169 D:\\Bone\\BoneFractureYolo8\\test\\images\\image1_350_png.rf.32b20b275bdbf30afb13d8d585da2743.jpg: 640x544 (no detections), 5.4ms\n",
      "image 90/169 D:\\Bone\\BoneFractureYolo8\\test\\images\\image1_354_png.rf.4fafa55e4596998cceb97af05c87b38d.jpg: 640x544 (no detections), 5.4ms\n",
      "image 91/169 D:\\Bone\\BoneFractureYolo8\\test\\images\\image1_355_png.rf.ae0f59ff3c26334cf587c5e76cc18b67.jpg: 640x544 (no detections), 5.0ms\n",
      "image 92/169 D:\\Bone\\BoneFractureYolo8\\test\\images\\image1_3565_png.rf.52153ba946f07810b3c16f62d202db16.jpg: 448x640 1 shoulder fracture, 6.0ms\n",
      "image 93/169 D:\\Bone\\BoneFractureYolo8\\test\\images\\image1_358_png.rf.ae461871b8aa93ee2b62c42d61ada754.jpg: 640x448 (no detections), 6.5ms\n",
      "image 94/169 D:\\Bone\\BoneFractureYolo8\\test\\images\\image1_3620_png.rf.484267b719f5e17f04fecfe359aff37d.jpg: 640x320 (no detections), 6.0ms\n",
      "image 95/169 D:\\Bone\\BoneFractureYolo8\\test\\images\\image1_3726_png.rf.2876d2f0108b5a9fb5c23e8fb95f4625.jpg: 640x288 1 fingers positive, 6.0ms\n",
      "image 96/169 D:\\Bone\\BoneFractureYolo8\\test\\images\\image1_3739_png.rf.378cc67dc76f5d423a65e397d699fa37.jpg: 640x192 (no detections), 6.5ms\n",
      "image 97/169 D:\\Bone\\BoneFractureYolo8\\test\\images\\image1_375_png.rf.309ea11b65edee9329ae91a338bcefe9.jpg: 640x256 (no detections), 5.0ms\n",
      "image 98/169 D:\\Bone\\BoneFractureYolo8\\test\\images\\image1_37_png.rf.bda84ad18e135a15c25ffd40bd55567f.jpg: 640x640 (no detections), 6.0ms\n",
      "image 99/169 D:\\Bone\\BoneFractureYolo8\\test\\images\\image1_388_png.rf.b1fe6ed17e0c06f51058539841f1a51c.jpg: 640x512 (no detections), 5.0ms\n",
      "image 100/169 D:\\Bone\\BoneFractureYolo8\\test\\images\\image1_3914_png.rf.d8e6ab2b78990092b7856255dd9726b7.jpg: 544x640 (no detections), 7.3ms\n",
      "image 101/169 D:\\Bone\\BoneFractureYolo8\\test\\images\\image1_391_png.rf.0b615525b5dec73ed6871c657bfded04.jpg: 640x416 (no detections), 5.0ms\n",
      "image 102/169 D:\\Bone\\BoneFractureYolo8\\test\\images\\image1_4007_png.rf.5c5b46eb5afec1aecfd8ec0119476889.jpg: 640x160 1 fingers positive, 7.6ms\n",
      "image 103/169 D:\\Bone\\BoneFractureYolo8\\test\\images\\image1_4097_png.rf.5579812fd38a497fbfeabe584564ffaf.jpg: 640x512 (no detections), 5.0ms\n",
      "image 104/169 D:\\Bone\\BoneFractureYolo8\\test\\images\\image1_40_png.rf.3404b7671f39e7295097dd6dabb28a97.jpg: 640x640 (no detections), 6.8ms\n",
      "image 105/169 D:\\Bone\\BoneFractureYolo8\\test\\images\\image1_416_png.rf.4aaadbb2bfef18ef419564a862caa457.jpg: 544x640 (no detections), 6.0ms\n",
      "image 106/169 D:\\Bone\\BoneFractureYolo8\\test\\images\\image1_4300_png.rf.d4626ae6c3183d2419faae148cd72283.jpg: 640x416 (no detections), 6.0ms\n",
      "image 107/169 D:\\Bone\\BoneFractureYolo8\\test\\images\\image1_432_png.rf.f040d366cb944d4ab64b58825db1fedc.jpg: 608x640 (no detections), 5.0ms\n",
      "image 108/169 D:\\Bone\\BoneFractureYolo8\\test\\images\\image1_437_png.rf.fc6edfb87d799f751a64d540952739cc.jpg: 640x320 (no detections), 6.0ms\n",
      "image 109/169 D:\\Bone\\BoneFractureYolo8\\test\\images\\image1_43_png.rf.9757e6d0c648b4544e9043ccc8fb31ca.jpg: 640x512 (no detections), 6.0ms\n",
      "image 110/169 D:\\Bone\\BoneFractureYolo8\\test\\images\\image1_448_png.rf.70f487675effb06da9c6c334b5fe29cc.jpg: 640x480 (no detections), 5.0ms\n",
      "image 111/169 D:\\Bone\\BoneFractureYolo8\\test\\images\\image1_4498_png.rf.36adec7c0d9bacf95faf5c87d28dfbe7.jpg: 640x608 (no detections), 7.0ms\n",
      "image 112/169 D:\\Bone\\BoneFractureYolo8\\test\\images\\image1_4499_png.rf.8ed6bcadb4b1266886b392db6f1f1da2.jpg: 640x224 2 fingers positives, 6.0ms\n",
      "image 113/169 D:\\Bone\\BoneFractureYolo8\\test\\images\\image1_450_png.rf.c1640af9f113b3690185c7b22e1d76ec.jpg: 640x512 (no detections), 6.0ms\n",
      "image 114/169 D:\\Bone\\BoneFractureYolo8\\test\\images\\image1_4521_png.rf.9d460c80d2b830fc35b17c628a6d6290.jpg: 640x160 (no detections), 6.0ms\n",
      "image 115/169 D:\\Bone\\BoneFractureYolo8\\test\\images\\image1_454_png.rf.3dd6c4b175031818178433bd945d2af9.jpg: 640x544 (no detections), 6.0ms\n",
      "image 116/169 D:\\Bone\\BoneFractureYolo8\\test\\images\\image1_462_png.rf.1af786d0d41cd4ddc775694d50a5189d.jpg: 640x256 1 fingers positive, 6.5ms\n",
      "image 117/169 D:\\Bone\\BoneFractureYolo8\\test\\images\\image1_467_png.rf.b1cc6164190c9fbf10f622b0f06fc115.jpg: 640x544 (no detections), 5.0ms\n",
      "image 118/169 D:\\Bone\\BoneFractureYolo8\\test\\images\\image1_486_png.rf.57d8fa147cc2e2f6e7fb6067b94fdd17.jpg: 640x480 1 fingers positive, 1 forearm fracture, 5.0ms\n",
      "image 119/169 D:\\Bone\\BoneFractureYolo8\\test\\images\\image1_4966_png.rf.27ae131adff1063f606ceecb0fddc7c2.jpg: 640x512 1 shoulder fracture, 7.5ms\n",
      "image 120/169 D:\\Bone\\BoneFractureYolo8\\test\\images\\image1_496_png.rf.be69c35487b2531b272b242febfdebb1.jpg: 640x608 1 fingers positive, 7.9ms\n",
      "image 121/169 D:\\Bone\\BoneFractureYolo8\\test\\images\\image1_497_png.rf.d6769296bd5c7ac8218ae363a5dc3968.jpg: 640x384 (no detections), 8.0ms\n",
      "image 122/169 D:\\Bone\\BoneFractureYolo8\\test\\images\\image1_508_png.rf.63f80ba9eca75737d7435b9122d70288.jpg: 640x544 1 humerus, 6.0ms\n",
      "image 123/169 D:\\Bone\\BoneFractureYolo8\\test\\images\\image1_509_png.rf.4b918f154cece667f6fe4ec2e676eaf1.jpg: 512x640 (no detections), 6.0ms\n",
      "image 124/169 D:\\Bone\\BoneFractureYolo8\\test\\images\\image1_511_png.rf.9e17ffe27582ff4724db0edbc22118ba.jpg: 512x640 (no detections), 5.0ms\n",
      "image 125/169 D:\\Bone\\BoneFractureYolo8\\test\\images\\image1_51_png.rf.56172f90bd654dcc6cc4ac47f79988a2.jpg: 512x640 (no detections), 7.0ms\n",
      "image 126/169 D:\\Bone\\BoneFractureYolo8\\test\\images\\image1_52_png.rf.b194877235d291ca9e2e8824392bf776.jpg: 640x544 1 humerus, 5.1ms\n",
      "image 127/169 D:\\Bone\\BoneFractureYolo8\\test\\images\\image1_536_png.rf.20bf7f571e4badd6d76c3a8894575eb7.jpg: 640x544 1 humerus, 5.6ms\n",
      "image 128/169 D:\\Bone\\BoneFractureYolo8\\test\\images\\image1_537_png.rf.06ee5106226a244e50fa61450224633b.jpg: 640x544 (no detections), 5.0ms\n",
      "image 129/169 D:\\Bone\\BoneFractureYolo8\\test\\images\\image1_540_png.rf.0e3e26d67bb471fb263c983cdf758c46.jpg: 512x640 (no detections), 6.0ms\n",
      "image 130/169 D:\\Bone\\BoneFractureYolo8\\test\\images\\image1_5740_png.rf.9e24e104e841b740e0389637d5e6d2d7.jpg: 544x640 2 shoulder fractures, 6.2ms\n",
      "image 131/169 D:\\Bone\\BoneFractureYolo8\\test\\images\\image1_594_png.rf.08dd02caad7756ae235e1ff58a0205b6.jpg: 640x416 (no detections), 10.0ms\n",
      "image 132/169 D:\\Bone\\BoneFractureYolo8\\test\\images\\image1_6234_png.rf.564f9903c116204416868f0a2273e6ba.jpg: 640x576 2 shoulder fractures, 6.0ms\n",
      "image 133/169 D:\\Bone\\BoneFractureYolo8\\test\\images\\image1_623_png.rf.056fad4c4c1c2381cdabf35f947ab1bb.jpg: 640x544 (no detections), 6.5ms\n",
      "image 134/169 D:\\Bone\\BoneFractureYolo8\\test\\images\\image1_62_png.rf.49b4ef3c363843b800174d2fdfc56ee8.jpg: 640x512 (no detections), 7.2ms\n",
      "image 135/169 D:\\Bone\\BoneFractureYolo8\\test\\images\\image1_633_png.rf.9bd74183541bd851e79f94d3f07c50d6.jpg: 512x640 (no detections), 6.0ms\n",
      "image 136/169 D:\\Bone\\BoneFractureYolo8\\test\\images\\image1_635_png.rf.87aa3f97aeaffa79004761ae1f895cac.jpg: 640x512 (no detections), 6.0ms\n",
      "image 137/169 D:\\Bone\\BoneFractureYolo8\\test\\images\\image1_637_png.rf.750d1e44edbbb461c9505f1d9c0e4a02.jpg: 640x608 (no detections), 6.5ms\n",
      "image 138/169 D:\\Bone\\BoneFractureYolo8\\test\\images\\image1_639_png.rf.915590376683dad767046b536acd3b19.jpg: 640x224 1 fingers positive, 5.0ms\n",
      "image 139/169 D:\\Bone\\BoneFractureYolo8\\test\\images\\image1_645_png.rf.402f6afd337e508ac75cc56d0ecf912c.jpg: 640x544 (no detections), 6.0ms\n",
      "image 140/169 D:\\Bone\\BoneFractureYolo8\\test\\images\\image1_6478_png.rf.eee144dfa7e8712592f7d8b10523e2fa.jpg: 640x512 2 shoulder fractures, 7.5ms\n",
      "image 141/169 D:\\Bone\\BoneFractureYolo8\\test\\images\\image1_651_png.rf.c3391a5ae823bf5de28ed36b3f23f93a.jpg: 640x448 (no detections), 6.0ms\n",
      "image 142/169 D:\\Bone\\BoneFractureYolo8\\test\\images\\image1_663_png.rf.460908c550b08162d5553b1073c8495c.jpg: 640x544 (no detections), 6.5ms\n",
      "image 143/169 D:\\Bone\\BoneFractureYolo8\\test\\images\\image1_670_png.rf.da8ddaaa5ef3e99f8da51b6664740aa4.jpg: 640x512 1 fingers positive, 7.2ms\n",
      "image 144/169 D:\\Bone\\BoneFractureYolo8\\test\\images\\image1_673_png.rf.fbe0dea2deaf75d49f079ca7d33abe14.jpg: 640x384 (no detections), 7.0ms\n",
      "image 145/169 D:\\Bone\\BoneFractureYolo8\\test\\images\\image1_674_png.rf.9c85436fb6b27fc193107ee487555959.jpg: 640x544 (no detections), 7.0ms\n",
      "image 146/169 D:\\Bone\\BoneFractureYolo8\\test\\images\\image1_68_png.rf.9e3dfa26e497af0a8f676a9686fd0e20.jpg: 640x512 (no detections), 5.0ms\n",
      "image 147/169 D:\\Bone\\BoneFractureYolo8\\test\\images\\image1_6973_png.rf.6a71f376e7ce54b8e8d484d17e699596.jpg: 640x512 2 shoulder fractures, 5.1ms\n",
      "image 148/169 D:\\Bone\\BoneFractureYolo8\\test\\images\\image1_704_png.rf.e3668d404753b933e1fd9500e697ca8c.jpg: 512x640 (no detections), 5.0ms\n",
      "image 149/169 D:\\Bone\\BoneFractureYolo8\\test\\images\\image1_726_png.rf.d196dd48429681a19051d39b968f3fb0.jpg: 640x640 (no detections), 9.9ms\n",
      "image 150/169 D:\\Bone\\BoneFractureYolo8\\test\\images\\image1_745_png.rf.4e5bc3fc5e483e6cc01963dd3d591550.jpg: 640x480 (no detections), 7.0ms\n",
      "image 151/169 D:\\Bone\\BoneFractureYolo8\\test\\images\\image1_8002_png.rf.3b1d55e198fdcd09f808da01429ee7c7.jpg: 640x512 1 shoulder fracture, 6.0ms\n",
      "image 152/169 D:\\Bone\\BoneFractureYolo8\\test\\images\\image1_848_png.rf.029e1130bf23b22edbf687ed6b1902ed.jpg: 640x224 1 forearm fracture, 6.6ms\n",
      "image 153/169 D:\\Bone\\BoneFractureYolo8\\test\\images\\image1_852_png.rf.b721589a516459f110ab073a190f3f0f.jpg: 384x640 (no detections), 6.0ms\n",
      "image 154/169 D:\\Bone\\BoneFractureYolo8\\test\\images\\image1_860_png.rf.37fd7f57d0b9ec38eafafceacdbd4f4c.jpg: 640x352 (no detections), 5.4ms\n",
      "image 155/169 D:\\Bone\\BoneFractureYolo8\\test\\images\\image1_92_png.rf.108b5397d94ff8c3c87cc885247ef603.jpg: 640x288 (no detections), 6.5ms\n",
      "image 156/169 D:\\Bone\\BoneFractureYolo8\\test\\images\\image1_9_png.rf.063293a5d91155202c1ec5f03dd1170b.jpg: 640x544 (no detections), 6.0ms\n",
      "image 157/169 D:\\Bone\\BoneFractureYolo8\\test\\images\\image2_1421_png.rf.b623cea6c9617fcf2f09843434e25218.jpg: 416x640 (no detections), 12.0ms\n",
      "image 158/169 D:\\Bone\\BoneFractureYolo8\\test\\images\\image2_1540_png.rf.46ec2cd9f9775a6e815e5062658d9fb0.jpg: 640x544 1 wrist positive, 6.4ms\n",
      "image 159/169 D:\\Bone\\BoneFractureYolo8\\test\\images\\image2_1718_png.rf.3320525501293fd17921dbca2ec70ebf.jpg: 544x640 (no detections), 6.0ms\n",
      "image 160/169 D:\\Bone\\BoneFractureYolo8\\test\\images\\image2_1758_png.rf.be01737bb3e65525d2fcac4a9814624f.jpg: 544x640 (no detections), 6.0ms\n",
      "image 161/169 D:\\Bone\\BoneFractureYolo8\\test\\images\\image2_176_png.rf.87231f93e98596a5a1b52ef2fd5a7871.jpg: 640x544 3 humeruss, 1 shoulder fracture, 6.0ms\n",
      "image 162/169 D:\\Bone\\BoneFractureYolo8\\test\\images\\image2_199_png.rf.111ecddb2bdc3542d7f953385d1bb03b.jpg: 640x480 1 humerus, 6.0ms\n",
      "image 163/169 D:\\Bone\\BoneFractureYolo8\\test\\images\\image2_232_png.rf.66b26e2592f806b3b659538ae42a2e74.jpg: 640x640 (no detections), 7.0ms\n",
      "image 164/169 D:\\Bone\\BoneFractureYolo8\\test\\images\\image2_636_png.rf.3a27fb8f5d5892ce33733630521b1e3d.jpg: 544x640 (no detections), 6.3ms\n",
      "image 165/169 D:\\Bone\\BoneFractureYolo8\\test\\images\\image2_641_png.rf.ca0bfddb8b5ac5e97fa841e32c94ad9a.jpg: 448x640 (no detections), 6.0ms\n",
      "image 166/169 D:\\Bone\\BoneFractureYolo8\\test\\images\\image2_698_png.rf.66b6d614653eed2ef4e81695aca5c5a6.jpg: 512x640 (no detections), 6.4ms\n",
      "image 167/169 D:\\Bone\\BoneFractureYolo8\\test\\images\\image2_812_png.rf.cfcd3189eb853066fc4819ad746775a6.jpg: 288x640 1 forearm fracture, 1 humerus, 5.4ms\n",
      "image 168/169 D:\\Bone\\BoneFractureYolo8\\test\\images\\image2_849_png.rf.761ec251e358a15e08cdad95fd41492a.jpg: 224x640 1 forearm fracture, 6.4ms\n",
      "image 169/169 D:\\Bone\\BoneFractureYolo8\\test\\images\\image2_953_png.rf.97a41890b4badde45bfc390f9f5c9d12.jpg: 640x544 1 forearm fracture, 6.0ms\n",
      "Speed: 2.3ms preprocess, 7.2ms inference, 0.7ms postprocess per image at shape (1, 3, 640, 544)\n",
      "Results saved to \u001b[1mruns\\detect\\predict3\u001b[0m\n",
      "Inference completed, results saved in runs\\detect\\predict3\n"
     ]
    }
   ],
   "source": [
    "import json\n",
    "\n",
    "#Load the best YOLOv8 model\n",
    "model = YOLO(r\"C:\\Users\\HP\\AppData\\Local\\Programs\\Microsoft VS Code\\bone_detection\\bone_yolov8\\weights\\best.pt\")\n",
    "\n",
    "#Path to the image folder for inference\n",
    "image_folder = \"D:/Bone/BoneFractureYolo8/test/images\"\n",
    "\n",
    "#Perform inference on the dataset\n",
    "results = model.predict(source=image_folder, save=True)  #Inference on all images in the folder\n",
    "\n",
    "#Print results or handle them as needed\n",
    "save_dir = results[0].save_dir  #Access the save_dir from the first result\n",
    "print(f\"Inference completed, results saved in {save_dir}\")\n"
   ]
  },
  {
   "cell_type": "code",
   "execution_count": 19,
   "metadata": {},
   "outputs": [],
   "source": [
    "from sklearn.metrics import precision_recall_fscore_support\n",
    "from pathlib import Path\n",
    "\n",
    "#Paths\n",
    "predictions_dir = 'runs/detect/predict3'  #Directory with predictions \n",
    "ground_truth_dir = 'path/to/ground_truth_annotations'  #Path to ground truth annotations"
   ]
  },
  {
   "cell_type": "code",
   "execution_count": 21,
   "metadata": {},
   "outputs": [
    {
     "name": "stdout",
     "output_type": "stream",
     "text": [
      "   epoch      time  train/box_loss  train/cls_loss  train/dfl_loss  \\\n",
      "0      1   31.9095         2.74898         6.67114         2.26053   \n",
      "1      2   61.5098         2.47919         4.94626         2.03704   \n",
      "2      3   91.0588         2.40580         4.00749         2.01233   \n",
      "3      4  120.9940         2.36973         3.66555         1.99886   \n",
      "4      5  151.5950         2.30182         3.35479         1.94769   \n",
      "\n",
      "   metrics/precision(B)  metrics/recall(B)  metrics/mAP50(B)  \\\n",
      "0               0.00415            0.35228           0.00520   \n",
      "1               0.39990            0.09461           0.03699   \n",
      "2               0.06763            0.06301           0.04536   \n",
      "3               0.28393            0.14596           0.10046   \n",
      "4               0.16321            0.13531           0.10752   \n",
      "\n",
      "   metrics/mAP50-95(B)  val/box_loss  val/cls_loss  val/dfl_loss    lr/pg0  \\\n",
      "0              0.00152       2.55588       4.92577       2.10309  0.000302   \n",
      "1              0.01183       2.48184       4.72558       2.24303  0.000593   \n",
      "2              0.01409       2.44847       3.62487       2.15878  0.000872   \n",
      "3              0.03062       2.30417       4.00107       2.21935  0.000855   \n",
      "4              0.03144       2.44246       3.23715       2.12445  0.000837   \n",
      "\n",
      "     lr/pg1    lr/pg2  \n",
      "0  0.000302  0.000302  \n",
      "1  0.000593  0.000593  \n",
      "2  0.000872  0.000872  \n",
      "3  0.000855  0.000855  \n",
      "4  0.000837  0.000837  \n"
     ]
    }
   ],
   "source": [
    "import pandas as pd\n",
    "\n",
    "#Path to the results.csv file\n",
    "results_csv_path = \"D:/Bone/BoneFractureYolo8/bone_detection/bone_yolov8/results.csv\"\n",
    "\n",
    "#Load the CSV file into a DataFrame\n",
    "results_df = pd.read_csv(results_csv_path)\n",
    "\n",
    "#Display the first few rows of the results\n",
    "print(results_df.head())\n"
   ]
  }
 ],
 "metadata": {
  "kernelspec": {
   "display_name": "Python 3",
   "language": "python",
   "name": "python3"
  },
  "language_info": {
   "codemirror_mode": {
    "name": "ipython",
    "version": 3
   },
   "file_extension": ".py",
   "mimetype": "text/x-python",
   "name": "python",
   "nbconvert_exporter": "python",
   "pygments_lexer": "ipython3",
   "version": "3.12.4"
  }
 },
 "nbformat": 4,
 "nbformat_minor": 2
}
